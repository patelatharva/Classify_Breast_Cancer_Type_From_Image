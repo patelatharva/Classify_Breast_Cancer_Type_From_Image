{
  "nbformat": 4,
  "nbformat_minor": 0,
  "metadata": {
    "kernelspec": {
      "name": "python3",
      "display_name": "Python 3"
    },
    "language_info": {
      "codemirror_mode": {
        "name": "ipython",
        "version": 3
      },
      "file_extension": ".py",
      "mimetype": "text/x-python",
      "name": "python",
      "nbconvert_exporter": "python",
      "pygments_lexer": "ipython3",
      "version": "3.7.3"
    },
    "colab": {
      "name": "tumor_type_detection.ipynb",
      "provenance": [],
      "collapsed_sections": [],
      "include_colab_link": true
    },
    "accelerator": "GPU"
  },
  "cells": [
    {
      "cell_type": "markdown",
      "metadata": {
        "id": "view-in-github",
        "colab_type": "text"
      },
      "source": [
        "<a href=\"https://colab.research.google.com/github/patelatharva/Classify_Breast_Cancer_Type_From_Image/blob/master/tumor_type_detection.ipynb\" target=\"_parent\"><img src=\"https://colab.research.google.com/assets/colab-badge.svg\" alt=\"Open In Colab\"/></a>"
      ]
    },
    {
      "cell_type": "code",
      "metadata": {
        "id": "JIVLJzWrkBJp",
        "colab_type": "code",
        "outputId": "33d10f16-aad4-4b9e-da10-4880cb67acf8",
        "colab": {
          "base_uri": "https://localhost:8080/",
          "height": 34
        }
      },
      "source": [
        "import numpy as np\n",
        "import pandas as pd\n",
        "import matplotlib.pyplot as plt\n",
        "import matplotlib.dates as mdates\n",
        "from sklearn.model_selection import train_test_split\n",
        "from pandas.plotting import register_matplotlib_converters\n",
        "register_matplotlib_converters()\n",
        "%matplotlib inline\n",
        "from sklearn.datasets import load_files       \n",
        "from keras.utils import np_utils\n",
        "from keras.preprocessing.image import ImageDataGenerator\n",
        "from keras.preprocessing.image import ImageDataGenerator\n",
        "from keras.models import Sequential\n",
        "from keras.layers import Conv2D, MaxPooling2D\n",
        "from keras.layers import Activation, Dropout, Flatten, Dense\n",
        "from keras import backend as K\n",
        "from keras.callbacks import EarlyStopping, ModelCheckpoint\n",
        "import numpy as np\n",
        "from glob import glob\n",
        "import keras\n",
        "from keras.preprocessing import image                  \n",
        "from tqdm import tqdm\n",
        "!pip install -q split-folders tqdm\n",
        "import split_folders\n",
        "import os, os.path\n",
        "import imageio\n",
        "from sklearn.metrics import confusion_matrix, f1_score\n",
        "from sklearn.utils import class_weight"
      ],
      "execution_count": 2,
      "outputs": [
        {
          "output_type": "stream",
          "text": [
            "Using TensorFlow backend.\n"
          ],
          "name": "stderr"
        }
      ]
    },
    {
      "cell_type": "code",
      "metadata": {
        "id": "oNiBqJb3kLeB",
        "colab_type": "code",
        "outputId": "680e04c0-4343-4f67-c1da-456077b6b348",
        "colab": {
          "base_uri": "https://localhost:8080/",
          "height": 122
        }
      },
      "source": [
        "from google.colab import drive\n",
        "drive.mount('/content/gdrive')"
      ],
      "execution_count": 3,
      "outputs": [
        {
          "output_type": "stream",
          "text": [
            "Go to this URL in a browser: https://accounts.google.com/o/oauth2/auth?client_id=947318989803-6bn6qk8qdgf4n4g3pfee6491hc0brc4i.apps.googleusercontent.com&redirect_uri=urn%3Aietf%3Awg%3Aoauth%3A2.0%3Aoob&scope=email%20https%3A%2F%2Fwww.googleapis.com%2Fauth%2Fdocs.test%20https%3A%2F%2Fwww.googleapis.com%2Fauth%2Fdrive%20https%3A%2F%2Fwww.googleapis.com%2Fauth%2Fdrive.photos.readonly%20https%3A%2F%2Fwww.googleapis.com%2Fauth%2Fpeopleapi.readonly&response_type=code\n",
            "\n",
            "Enter your authorization code:\n",
            "··········\n",
            "Mounted at /content/gdrive\n"
          ],
          "name": "stdout"
        }
      ]
    },
    {
      "cell_type": "code",
      "metadata": {
        "id": "mWXg31w_khJk",
        "colab_type": "code",
        "colab": {}
      },
      "source": [
        "project_dir = \"/content/gdrive/My Drive/Data Scientist/breast_cancer\""
      ],
      "execution_count": 0,
      "outputs": []
    },
    {
      "cell_type": "code",
      "metadata": {
        "id": "voAyLazfld9E",
        "colab_type": "code",
        "colab": {}
      },
      "source": [
        "# project_dir = \".\""
      ],
      "execution_count": 0,
      "outputs": []
    },
    {
      "cell_type": "code",
      "metadata": {
        "id": "FYev3E8qkBJu",
        "colab_type": "code",
        "colab": {}
      },
      "source": [
        "data_dir = project_dir + \"/data\""
      ],
      "execution_count": 0,
      "outputs": []
    },
    {
      "cell_type": "code",
      "metadata": {
        "id": "Zh7XtDd9kBJ2",
        "colab_type": "code",
        "colab": {}
      },
      "source": [
        "image_source_dir = data_dir + \"/originals\""
      ],
      "execution_count": 0,
      "outputs": []
    },
    {
      "cell_type": "markdown",
      "metadata": {
        "id": "W6rNm_SOkBJ6",
        "colab_type": "text"
      },
      "source": [
        "### Number of samples of each type of tumor"
      ]
    },
    {
      "cell_type": "markdown",
      "metadata": {
        "id": "U8UAM2WQkBJ7",
        "colab_type": "text"
      },
      "source": [
        "Benign"
      ]
    },
    {
      "cell_type": "code",
      "metadata": {
        "id": "rmJY_-6ukBJ8",
        "colab_type": "code",
        "outputId": "6b5e1b94-1446-48f0-dd6d-97a1c0bd4770",
        "colab": {
          "base_uri": "https://localhost:8080/",
          "height": 34
        }
      },
      "source": [
        "len([name for name in os.listdir(image_source_dir + \"/benign/\") if os.path.isfile(os.path.join(image_source_dir + \"/benign/\", name))])"
      ],
      "execution_count": 8,
      "outputs": [
        {
          "output_type": "execute_result",
          "data": {
            "text/plain": [
              "100"
            ]
          },
          "metadata": {
            "tags": []
          },
          "execution_count": 8
        }
      ]
    },
    {
      "cell_type": "markdown",
      "metadata": {
        "id": "HcuFZj9bkBKB",
        "colab_type": "text"
      },
      "source": [
        "Malign"
      ]
    },
    {
      "cell_type": "code",
      "metadata": {
        "id": "T3l5rEA3kBKC",
        "colab_type": "code",
        "outputId": "3351d4c6-5716-4964-ed7c-4387f01ecd08",
        "colab": {
          "base_uri": "https://localhost:8080/",
          "height": 34
        }
      },
      "source": [
        "len([name for name in os.listdir(image_source_dir + \"/malignant/\") if os.path.isfile(os.path.join(image_source_dir + \"/malignant/\", name))])"
      ],
      "execution_count": 9,
      "outputs": [
        {
          "output_type": "execute_result",
          "data": {
            "text/plain": [
              "150"
            ]
          },
          "metadata": {
            "tags": []
          },
          "execution_count": 9
        }
      ]
    },
    {
      "cell_type": "code",
      "metadata": {
        "id": "qE0G3GAukBKF",
        "colab_type": "code",
        "colab": {}
      },
      "source": [
        "image_dest_dir = data_dir + \"/keras\""
      ],
      "execution_count": 0,
      "outputs": []
    },
    {
      "cell_type": "code",
      "metadata": {
        "id": "jNIrKTRVkBKI",
        "colab_type": "code",
        "outputId": "df56e76b-8b13-4398-b5b0-f588f22da2eb",
        "colab": {
          "base_uri": "https://localhost:8080/",
          "height": 34
        }
      },
      "source": [
        "split_folders.ratio(image_source_dir, output=image_dest_dir, seed=42, ratio=(.7, .2, .1))"
      ],
      "execution_count": 0,
      "outputs": [
        {
          "output_type": "stream",
          "text": [
            "Copying files: 250 files [00:02, 91.69 files/s] \n"
          ],
          "name": "stderr"
        }
      ]
    },
    {
      "cell_type": "code",
      "metadata": {
        "id": "8GiIEEa8kBKS",
        "colab_type": "code",
        "colab": {}
      },
      "source": [
        "image_width = 40\n",
        "image_height = 30\n",
        "if K.image_data_format() == 'channels_first':\n",
        "    input_shape = (1,  image_height, image_width,)\n",
        "else:\n",
        "    input_shape = (image_height, image_width, 1)"
      ],
      "execution_count": 0,
      "outputs": []
    },
    {
      "cell_type": "code",
      "metadata": {
        "id": "YjPoOTkIkBKV",
        "colab_type": "code",
        "colab": {}
      },
      "source": [
        "train_datagen = ImageDataGenerator(\n",
        "        rotation_range=40,\n",
        "        width_shift_range=0.2,\n",
        "        height_shift_range=0.2,\n",
        "        shear_range=0.2,\n",
        "        zoom_range=0.2,\n",
        "        horizontal_flip=True,\n",
        "        vertical_flip=True,\n",
        "        fill_mode='nearest')"
      ],
      "execution_count": 0,
      "outputs": []
    },
    {
      "cell_type": "code",
      "metadata": {
        "id": "hFQQbuz-kBKX",
        "colab_type": "code",
        "outputId": "89a84fe6-9133-4ee6-a365-3b8edb0c8c3f",
        "colab": {
          "base_uri": "https://localhost:8080/",
          "height": 34
        }
      },
      "source": [
        "train_generator = train_datagen.flow_from_directory(\n",
        "        image_dest_dir + \"/train\",\n",
        "        target_size=(image_height, image_width),\n",
        "        batch_size=32,\n",
        "        color_mode=\"grayscale\",\n",
        "        class_mode='binary',\n",
        "        )"
      ],
      "execution_count": 13,
      "outputs": [
        {
          "output_type": "stream",
          "text": [
            "Found 175 images belonging to 2 classes.\n"
          ],
          "name": "stdout"
        }
      ]
    },
    {
      "cell_type": "code",
      "metadata": {
        "id": "cx10luawVnQD",
        "colab_type": "code",
        "colab": {}
      },
      "source": [
        "class_weights = class_weight.compute_class_weight(\n",
        "               'balanced',\n",
        "                np.unique(train_generator.classes), \n",
        "                train_generator.classes)"
      ],
      "execution_count": 0,
      "outputs": []
    },
    {
      "cell_type": "code",
      "metadata": {
        "id": "yK4eA0QNkBKb",
        "colab_type": "code",
        "outputId": "99ede98e-3f32-450f-ce0f-e041303ed337",
        "colab": {
          "base_uri": "https://localhost:8080/",
          "height": 34
        }
      },
      "source": [
        "validation_generator = train_datagen.flow_from_directory(\n",
        "        image_dest_dir + \"/val\",\n",
        "        target_size=(image_height, image_width),\n",
        "        batch_size=32,\n",
        "        color_mode=\"grayscale\",\n",
        "        class_mode='binary',\n",
        ")"
      ],
      "execution_count": 15,
      "outputs": [
        {
          "output_type": "stream",
          "text": [
            "Found 50 images belonging to 2 classes.\n"
          ],
          "name": "stdout"
        }
      ]
    },
    {
      "cell_type": "code",
      "metadata": {
        "id": "9H-9cC0mVmWU",
        "colab_type": "code",
        "colab": {}
      },
      "source": [
        ""
      ],
      "execution_count": 0,
      "outputs": []
    },
    {
      "cell_type": "code",
      "metadata": {
        "id": "z62auWl_kBKe",
        "colab_type": "code",
        "colab": {}
      },
      "source": [
        "def sensitivity(y_true, y_pred):\n",
        "  true_positives = K.sum(K.round(K.clip(y_true * y_pred, 0, 1)))\n",
        "  possible_positives = K.sum(K.round(K.clip(y_true, 0, 1)))\n",
        "  return true_positives / (possible_positives + K.epsilon())\n",
        "\n",
        "def specificity(y_true, y_pred):\n",
        "  true_negatives = K.sum(K.round(K.clip((1-y_true) * (1-y_pred), 0, 1)))\n",
        "  possible_negatives = K.sum(K.round(K.clip(1-y_true, 0, 1)))\n",
        "  return true_negatives / (possible_negatives + K.epsilon())\n",
        "\n",
        "def fmed(y_true, y_pred):\n",
        "  spec = specificity(y_true, y_pred)\n",
        "  sens = sensitivity(y_true, y_pred)\n",
        "  fmed = 2 * (spec * sens)/(spec+sens+K.epsilon())\n",
        "  return fmed\n",
        "\n",
        "def f1(y_true, y_pred):\n",
        "  true_positives = K.sum(K.round(K.clip(y_true * y_pred, 0, 1)))\n",
        "  possible_positives = K.sum(K.round(K.clip(y_true, 0, 1)))\n",
        "  predicted_positives = K.sum(K.round(K.clip(y_pred, 0, 1)))\n",
        "  precision = true_positives / (predicted_positives + K.epsilon())\n",
        "  recall = true_positives / (possible_positives + K.epsilon())\n",
        "  f1_val = 2*(precision*recall)/(precision+recall+K.epsilon())\n",
        "  return f1_val\n",
        "\n",
        "def generate_model(opt=keras.optimizers.Adam()):\n",
        "    model = Sequential()\n",
        "    model.add(Conv2D(64, (3, 3), input_shape=input_shape, padding='same'))\n",
        "    model.add(Activation('relu'))\n",
        "    model.add(MaxPooling2D(pool_size=(2, 2)))\n",
        "\n",
        "    \n",
        "    model.add(Conv2D(64, (3,3)))\n",
        "    model.add(Activation('relu'))\n",
        "    model.add(MaxPooling2D(pool_size=(2, 2)))\n",
        "\n",
        "\n",
        "    model.add(Conv2D(64, (3,3)))\n",
        "    model.add(Activation('relu'))\n",
        "    model.add(MaxPooling2D(pool_size=(2, 2)))\n",
        "\n",
        "\n",
        "    model.add(Flatten())\n",
        "    model.add(Dense(64))\n",
        "    model.add(Activation('relu'))\n",
        "    model.add(Dropout(0.5))\n",
        "\n",
        "    model.add(Dense(64))\n",
        "    model.add(Activation('relu'))\n",
        "    model.add(Dropout(0.5))\n",
        "\n",
        "    model.add(Dense(1))\n",
        "    model.add(Activation('sigmoid'))    \n",
        "    \n",
        "    model.compile(loss='binary_crossentropy',\n",
        "              optimizer=opt,\n",
        "              metrics=['accuracy', sensitivity, specificity, fmed, f1])\n",
        "    return model"
      ],
      "execution_count": 0,
      "outputs": []
    },
    {
      "cell_type": "markdown",
      "metadata": {
        "id": "gP1ABSqhRrQv",
        "colab_type": "text"
      },
      "source": [
        "Adam Optimizer"
      ]
    },
    {
      "cell_type": "code",
      "metadata": {
        "id": "G6aWvEf4LcKS",
        "colab_type": "code",
        "outputId": "6c05ec43-fc47-4a39-c6f4-d4e7793f22b9",
        "colab": {
          "base_uri": "https://localhost:8080/",
          "height": 1000
        }
      },
      "source": [
        "num_train_samples = 10000\n",
        "num_validation_samples = 1000\n",
        "batch_size = 32\n",
        "model = generate_model(opt=keras.optimizers.Adam())\n",
        "# model.load_weights(data_dir + '/nn_best_model_cv_val_fmed.h5')\n",
        "history_val_fmed = model.fit_generator(\n",
        "    train_generator,\n",
        "    steps_per_epoch= num_train_samples // batch_size,\n",
        "    validation_data=validation_generator,\n",
        "    validation_steps= num_validation_samples // batch_size,\n",
        "    epochs=1000, \n",
        "    verbose=1,\n",
        "        callbacks=[\n",
        "          EarlyStopping(monitor='val_fmed', mode=\"max\", verbose=1, patience=50),\n",
        "          ModelCheckpoint(data_dir + '/nn_best_model_cv_val_fmed.h5', monitor='val_fmed', mode=\"max\", verbose=1, save_best_only=True)\n",
        "        ],\n",
        "    class_weight=class_weights)"
      ],
      "execution_count": 274,
      "outputs": [
        {
          "output_type": "stream",
          "text": [
            "Epoch 1/1000\n",
            "312/312 [==============================] - 52s 168ms/step - loss: 0.6041 - acc: 0.6926 - sensitivity: 0.9486 - specificity: 0.3069 - fmed: 0.4433 - f1: 0.7831 - val_loss: 0.6549 - val_acc: 0.6343 - val_sensitivity: 0.9694 - val_specificity: 0.1300 - val_fmed: 0.2129 - val_f1: 0.7585\n",
            "\n",
            "Epoch 00001: val_fmed improved from -inf to 0.21291, saving model to /content/gdrive/My Drive/Data Scientist/breast_cancer/data/nn_best_model_cv_val_fmed.h5\n",
            "Epoch 2/1000\n",
            "312/312 [==============================] - 44s 141ms/step - loss: 0.5923 - acc: 0.6981 - sensitivity: 0.9507 - specificity: 0.3170 - fmed: 0.4567 - f1: 0.7874 - val_loss: 0.6254 - val_acc: 0.6576 - val_sensitivity: 0.9678 - val_specificity: 0.1890 - val_fmed: 0.2993 - val_f1: 0.7710\n",
            "\n",
            "Epoch 00002: val_fmed improved from 0.21291 to 0.29932, saving model to /content/gdrive/My Drive/Data Scientist/breast_cancer/data/nn_best_model_cv_val_fmed.h5\n",
            "Epoch 3/1000\n",
            "312/312 [==============================] - 40s 128ms/step - loss: 0.5770 - acc: 0.7101 - sensitivity: 0.9540 - specificity: 0.3506 - fmed: 0.4958 - f1: 0.7933 - val_loss: 0.6522 - val_acc: 0.6394 - val_sensitivity: 0.9696 - val_specificity: 0.1440 - val_fmed: 0.2353 - val_f1: 0.7600\n",
            "\n",
            "Epoch 00003: val_fmed did not improve from 0.29932\n",
            "Epoch 4/1000\n",
            "312/312 [==============================] - 42s 136ms/step - loss: 0.5741 - acc: 0.7112 - sensitivity: 0.9577 - specificity: 0.3379 - fmed: 0.4802 - f1: 0.7955 - val_loss: 0.6229 - val_acc: 0.6576 - val_sensitivity: 0.9801 - val_specificity: 0.1675 - val_fmed: 0.2726 - val_f1: 0.7725\n",
            "\n",
            "Epoch 00004: val_fmed did not improve from 0.29932\n",
            "Epoch 5/1000\n",
            "312/312 [==============================] - 40s 130ms/step - loss: 0.5575 - acc: 0.7218 - sensitivity: 0.9490 - specificity: 0.3827 - fmed: 0.5262 - f1: 0.7998 - val_loss: 0.6202 - val_acc: 0.6662 - val_sensitivity: 0.9647 - val_specificity: 0.2211 - val_fmed: 0.3370 - val_f1: 0.7746\n",
            "\n",
            "Epoch 00005: val_fmed improved from 0.29932 to 0.33704, saving model to /content/gdrive/My Drive/Data Scientist/breast_cancer/data/nn_best_model_cv_val_fmed.h5\n",
            "Epoch 6/1000\n",
            "312/312 [==============================] - 40s 129ms/step - loss: 0.5564 - acc: 0.7221 - sensitivity: 0.9520 - specificity: 0.3801 - fmed: 0.5240 - f1: 0.8006 - val_loss: 0.5961 - val_acc: 0.6927 - val_sensitivity: 0.9499 - val_specificity: 0.3039 - val_fmed: 0.4468 - val_f1: 0.7875\n",
            "\n",
            "Epoch 00006: val_fmed improved from 0.33704 to 0.44678, saving model to /content/gdrive/My Drive/Data Scientist/breast_cancer/data/nn_best_model_cv_val_fmed.h5\n",
            "Epoch 7/1000\n",
            "312/312 [==============================] - 39s 127ms/step - loss: 0.5337 - acc: 0.7383 - sensitivity: 0.9447 - specificity: 0.4308 - fmed: 0.5759 - f1: 0.8077 - val_loss: 0.6420 - val_acc: 0.6714 - val_sensitivity: 0.9616 - val_specificity: 0.2257 - val_fmed: 0.3477 - val_f1: 0.7782\n",
            "\n",
            "Epoch 00007: val_fmed did not improve from 0.44678\n",
            "Epoch 8/1000\n",
            "312/312 [==============================] - 39s 126ms/step - loss: 0.5434 - acc: 0.7313 - sensitivity: 0.9436 - specificity: 0.4122 - fmed: 0.5554 - f1: 0.8047 - val_loss: 0.6361 - val_acc: 0.6797 - val_sensitivity: 0.9125 - val_specificity: 0.3411 - val_fmed: 0.4847 - val_f1: 0.7692\n",
            "\n",
            "Epoch 00008: val_fmed improved from 0.44678 to 0.48472, saving model to /content/gdrive/My Drive/Data Scientist/breast_cancer/data/nn_best_model_cv_val_fmed.h5\n",
            "Epoch 9/1000\n",
            "312/312 [==============================] - 44s 140ms/step - loss: 0.5278 - acc: 0.7427 - sensitivity: 0.9540 - specificity: 0.4267 - fmed: 0.5728 - f1: 0.8121 - val_loss: 0.6379 - val_acc: 0.6867 - val_sensitivity: 0.9427 - val_specificity: 0.3021 - val_fmed: 0.4481 - val_f1: 0.7807\n",
            "\n",
            "Epoch 00009: val_fmed did not improve from 0.48472\n",
            "Epoch 10/1000\n",
            "312/312 [==============================] - 42s 133ms/step - loss: 0.5234 - acc: 0.7453 - sensitivity: 0.9401 - specificity: 0.4553 - fmed: 0.5965 - f1: 0.8121 - val_loss: 0.6273 - val_acc: 0.6628 - val_sensitivity: 0.9524 - val_specificity: 0.2294 - val_fmed: 0.3537 - val_f1: 0.7695\n",
            "\n",
            "Epoch 00010: val_fmed did not improve from 0.48472\n",
            "Epoch 11/1000\n",
            "312/312 [==============================] - 40s 130ms/step - loss: 0.5214 - acc: 0.7417 - sensitivity: 0.9513 - specificity: 0.4320 - fmed: 0.5777 - f1: 0.8117 - val_loss: 0.6020 - val_acc: 0.6944 - val_sensitivity: 0.9290 - val_specificity: 0.3442 - val_fmed: 0.4867 - val_f1: 0.7842\n",
            "\n",
            "Epoch 00011: val_fmed improved from 0.48472 to 0.48671, saving model to /content/gdrive/My Drive/Data Scientist/breast_cancer/data/nn_best_model_cv_val_fmed.h5\n",
            "Epoch 12/1000\n",
            "312/312 [==============================] - 41s 131ms/step - loss: 0.5122 - acc: 0.7532 - sensitivity: 0.9470 - specificity: 0.4601 - fmed: 0.6029 - f1: 0.8188 - val_loss: 0.5711 - val_acc: 0.7188 - val_sensitivity: 0.9808 - val_specificity: 0.3341 - val_fmed: 0.4815 - val_f1: 0.8045\n",
            "\n",
            "Epoch 00012: val_fmed did not improve from 0.48671\n",
            "Epoch 13/1000\n",
            "312/312 [==============================] - 41s 132ms/step - loss: 0.5019 - acc: 0.7520 - sensitivity: 0.9539 - specificity: 0.4534 - fmed: 0.5979 - f1: 0.8169 - val_loss: 0.5913 - val_acc: 0.7072 - val_sensitivity: 0.9732 - val_specificity: 0.2942 - val_fmed: 0.4369 - val_f1: 0.7997\n",
            "\n",
            "Epoch 00013: val_fmed did not improve from 0.48671\n",
            "Epoch 14/1000\n",
            "312/312 [==============================] - 42s 136ms/step - loss: 0.5010 - acc: 0.7531 - sensitivity: 0.9534 - specificity: 0.4524 - fmed: 0.5951 - f1: 0.8192 - val_loss: 0.5814 - val_acc: 0.6940 - val_sensitivity: 0.9463 - val_specificity: 0.3284 - val_fmed: 0.4693 - val_f1: 0.7833\n",
            "\n",
            "Epoch 00014: val_fmed did not improve from 0.48671\n",
            "Epoch 15/1000\n",
            "312/312 [==============================] - 41s 133ms/step - loss: 0.4981 - acc: 0.7574 - sensitivity: 0.9510 - specificity: 0.4660 - fmed: 0.6092 - f1: 0.8215 - val_loss: 0.5736 - val_acc: 0.7020 - val_sensitivity: 0.9498 - val_specificity: 0.3247 - val_fmed: 0.4626 - val_f1: 0.7913\n",
            "\n",
            "Epoch 00015: val_fmed did not improve from 0.48671\n",
            "Epoch 16/1000\n",
            "312/312 [==============================] - 41s 131ms/step - loss: 0.4968 - acc: 0.7502 - sensitivity: 0.9482 - specificity: 0.4553 - fmed: 0.5976 - f1: 0.8165 - val_loss: 0.6377 - val_acc: 0.6576 - val_sensitivity: 0.9556 - val_specificity: 0.2177 - val_fmed: 0.3372 - val_f1: 0.7680\n",
            "\n",
            "Epoch 00016: val_fmed did not improve from 0.48671\n",
            "Epoch 17/1000\n",
            "312/312 [==============================] - 44s 141ms/step - loss: 0.6081 - acc: 0.6748 - sensitivity: 0.9420 - specificity: 0.2815 - fmed: 0.4100 - f1: 0.7725 - val_loss: 0.6240 - val_acc: 0.6419 - val_sensitivity: 0.9124 - val_specificity: 0.2452 - val_fmed: 0.3622 - val_f1: 0.7508\n",
            "\n",
            "Epoch 00017: val_fmed did not improve from 0.48671\n",
            "Epoch 18/1000\n",
            "312/312 [==============================] - 41s 130ms/step - loss: 0.5273 - acc: 0.7371 - sensitivity: 0.9365 - specificity: 0.4353 - fmed: 0.5705 - f1: 0.8070 - val_loss: 0.5985 - val_acc: 0.6888 - val_sensitivity: 0.9321 - val_specificity: 0.3163 - val_fmed: 0.4573 - val_f1: 0.7788\n",
            "\n",
            "Epoch 00018: val_fmed did not improve from 0.48671\n",
            "Epoch 19/1000\n",
            "312/312 [==============================] - 40s 130ms/step - loss: 0.4879 - acc: 0.7545 - sensitivity: 0.9453 - specificity: 0.4726 - fmed: 0.6135 - f1: 0.8183 - val_loss: 0.5636 - val_acc: 0.7059 - val_sensitivity: 0.9019 - val_specificity: 0.4177 - val_fmed: 0.5546 - val_f1: 0.7819\n",
            "\n",
            "Epoch 00019: val_fmed improved from 0.48671 to 0.55462, saving model to /content/gdrive/My Drive/Data Scientist/breast_cancer/data/nn_best_model_cv_val_fmed.h5\n",
            "Epoch 20/1000\n",
            "312/312 [==============================] - 43s 137ms/step - loss: 0.4844 - acc: 0.7603 - sensitivity: 0.9486 - specificity: 0.4803 - fmed: 0.6223 - f1: 0.8216 - val_loss: 0.5815 - val_acc: 0.6927 - val_sensitivity: 0.9402 - val_specificity: 0.3194 - val_fmed: 0.4578 - val_f1: 0.7832\n",
            "\n",
            "Epoch 00020: val_fmed did not improve from 0.55462\n",
            "Epoch 21/1000\n",
            "312/312 [==============================] - 40s 128ms/step - loss: 0.4701 - acc: 0.7676 - sensitivity: 0.9446 - specificity: 0.5041 - fmed: 0.6429 - f1: 0.8258 - val_loss: 0.5394 - val_acc: 0.7136 - val_sensitivity: 0.9484 - val_specificity: 0.3657 - val_fmed: 0.5105 - val_f1: 0.7977\n",
            "\n",
            "Epoch 00021: val_fmed did not improve from 0.55462\n",
            "Epoch 22/1000\n",
            "312/312 [==============================] - 39s 126ms/step - loss: 0.4678 - acc: 0.7729 - sensitivity: 0.9551 - specificity: 0.5001 - fmed: 0.6434 - f1: 0.8312 - val_loss: 0.5239 - val_acc: 0.7279 - val_sensitivity: 0.9714 - val_specificity: 0.3614 - val_fmed: 0.5213 - val_f1: 0.8093\n",
            "\n",
            "Epoch 00022: val_fmed did not improve from 0.55462\n",
            "Epoch 23/1000\n",
            "312/312 [==============================] - 39s 126ms/step - loss: 0.4680 - acc: 0.7656 - sensitivity: 0.9407 - specificity: 0.5023 - fmed: 0.6370 - f1: 0.8253 - val_loss: 0.5318 - val_acc: 0.7199 - val_sensitivity: 0.8780 - val_specificity: 0.4799 - val_fmed: 0.6108 - val_f1: 0.7886\n",
            "\n",
            "Epoch 00023: val_fmed improved from 0.55462 to 0.61075, saving model to /content/gdrive/My Drive/Data Scientist/breast_cancer/data/nn_best_model_cv_val_fmed.h5\n",
            "Epoch 24/1000\n",
            "312/312 [==============================] - 42s 135ms/step - loss: 0.4591 - acc: 0.7747 - sensitivity: 0.9449 - specificity: 0.5182 - fmed: 0.6528 - f1: 0.8313 - val_loss: 0.5741 - val_acc: 0.7174 - val_sensitivity: 0.9508 - val_specificity: 0.3655 - val_fmed: 0.5197 - val_f1: 0.7975\n",
            "\n",
            "Epoch 00024: val_fmed did not improve from 0.61075\n",
            "Epoch 25/1000\n",
            "312/312 [==============================] - 43s 137ms/step - loss: 0.4699 - acc: 0.7671 - sensitivity: 0.9517 - specificity: 0.4895 - fmed: 0.6290 - f1: 0.8271 - val_loss: 0.6372 - val_acc: 0.6650 - val_sensitivity: 0.9501 - val_specificity: 0.2411 - val_fmed: 0.3676 - val_f1: 0.7720\n",
            "\n",
            "Epoch 00025: val_fmed did not improve from 0.61075\n",
            "Epoch 26/1000\n",
            "312/312 [==============================] - 41s 130ms/step - loss: 0.4637 - acc: 0.7688 - sensitivity: 0.9430 - specificity: 0.5028 - fmed: 0.6374 - f1: 0.8275 - val_loss: 0.5240 - val_acc: 0.7148 - val_sensitivity: 0.9559 - val_specificity: 0.3601 - val_fmed: 0.5115 - val_f1: 0.7990\n",
            "\n",
            "Epoch 00026: val_fmed did not improve from 0.61075\n",
            "Epoch 27/1000\n",
            "312/312 [==============================] - 41s 132ms/step - loss: 0.4534 - acc: 0.7743 - sensitivity: 0.9434 - specificity: 0.5190 - fmed: 0.6548 - f1: 0.8306 - val_loss: 0.5407 - val_acc: 0.7084 - val_sensitivity: 0.9649 - val_specificity: 0.3299 - val_fmed: 0.4754 - val_f1: 0.7960\n",
            "\n",
            "Epoch 00027: val_fmed did not improve from 0.61075\n",
            "Epoch 28/1000\n",
            "312/312 [==============================] - 40s 128ms/step - loss: 0.4471 - acc: 0.7728 - sensitivity: 0.9357 - specificity: 0.5321 - fmed: 0.6644 - f1: 0.8284 - val_loss: 0.5309 - val_acc: 0.7122 - val_sensitivity: 0.9797 - val_specificity: 0.3025 - val_fmed: 0.4530 - val_f1: 0.8030\n",
            "\n",
            "Epoch 00028: val_fmed did not improve from 0.61075\n",
            "Epoch 29/1000\n",
            "312/312 [==============================] - 42s 135ms/step - loss: 0.4396 - acc: 0.7777 - sensitivity: 0.9420 - specificity: 0.5316 - fmed: 0.6648 - f1: 0.8331 - val_loss: 0.4918 - val_acc: 0.7302 - val_sensitivity: 0.9458 - val_specificity: 0.3991 - val_fmed: 0.5473 - val_f1: 0.8069\n",
            "\n",
            "Epoch 00029: val_fmed did not improve from 0.61075\n",
            "Epoch 30/1000\n",
            "312/312 [==============================] - 42s 135ms/step - loss: 0.4437 - acc: 0.7793 - sensitivity: 0.9322 - specificity: 0.5541 - fmed: 0.6802 - f1: 0.8310 - val_loss: 0.5502 - val_acc: 0.6992 - val_sensitivity: 0.9445 - val_specificity: 0.3337 - val_fmed: 0.4798 - val_f1: 0.7878\n",
            "\n",
            "Epoch 00030: val_fmed did not improve from 0.61075\n",
            "Epoch 31/1000\n",
            "312/312 [==============================] - 41s 131ms/step - loss: 0.4308 - acc: 0.7818 - sensitivity: 0.9242 - specificity: 0.5693 - fmed: 0.6891 - f1: 0.8323 - val_loss: 0.5225 - val_acc: 0.7187 - val_sensitivity: 0.8911 - val_specificity: 0.4617 - val_fmed: 0.5924 - val_f1: 0.7908\n",
            "\n",
            "Epoch 00031: val_fmed did not improve from 0.61075\n",
            "Epoch 32/1000\n",
            "312/312 [==============================] - 43s 139ms/step - loss: 0.4276 - acc: 0.7820 - sensitivity: 0.9169 - specificity: 0.5854 - fmed: 0.6997 - f1: 0.8317 - val_loss: 0.5311 - val_acc: 0.7031 - val_sensitivity: 0.8444 - val_specificity: 0.4832 - val_fmed: 0.6030 - val_f1: 0.7686\n",
            "\n",
            "Epoch 00032: val_fmed did not improve from 0.61075\n",
            "Epoch 33/1000\n",
            "312/312 [==============================] - 41s 130ms/step - loss: 0.4239 - acc: 0.7865 - sensitivity: 0.9104 - specificity: 0.6025 - fmed: 0.7105 - f1: 0.8325 - val_loss: 0.4678 - val_acc: 0.7506 - val_sensitivity: 0.9716 - val_specificity: 0.4233 - val_fmed: 0.5772 - val_f1: 0.8221\n",
            "\n",
            "Epoch 00033: val_fmed did not improve from 0.61075\n",
            "Epoch 34/1000\n",
            "312/312 [==============================] - 40s 129ms/step - loss: 0.4123 - acc: 0.7932 - sensitivity: 0.9087 - specificity: 0.6233 - fmed: 0.7254 - f1: 0.8362 - val_loss: 0.5104 - val_acc: 0.7096 - val_sensitivity: 0.7788 - val_specificity: 0.6045 - val_fmed: 0.6655 - val_f1: 0.7617\n",
            "\n",
            "Epoch 00034: val_fmed improved from 0.61075 to 0.66548, saving model to /content/gdrive/My Drive/Data Scientist/breast_cancer/data/nn_best_model_cv_val_fmed.h5\n",
            "Epoch 35/1000\n",
            "312/312 [==============================] - 41s 132ms/step - loss: 0.4069 - acc: 0.7957 - sensitivity: 0.9002 - specificity: 0.6404 - fmed: 0.7364 - f1: 0.8355 - val_loss: 0.4517 - val_acc: 0.7596 - val_sensitivity: 0.9071 - val_specificity: 0.5314 - val_fmed: 0.6517 - val_f1: 0.8141\n",
            "\n",
            "Epoch 00035: val_fmed did not improve from 0.66548\n",
            "Epoch 36/1000\n",
            "312/312 [==============================] - 41s 132ms/step - loss: 0.3970 - acc: 0.8058 - sensitivity: 0.8923 - specificity: 0.6825 - fmed: 0.7602 - f1: 0.8423 - val_loss: 0.4991 - val_acc: 0.7526 - val_sensitivity: 0.8235 - val_specificity: 0.6448 - val_fmed: 0.7133 - val_f1: 0.7958\n",
            "\n",
            "Epoch 00036: val_fmed improved from 0.66548 to 0.71327, saving model to /content/gdrive/My Drive/Data Scientist/breast_cancer/data/nn_best_model_cv_val_fmed.h5\n",
            "Epoch 37/1000\n",
            "312/312 [==============================] - 39s 126ms/step - loss: 0.3928 - acc: 0.8049 - sensitivity: 0.8950 - specificity: 0.6742 - fmed: 0.7564 - f1: 0.8427 - val_loss: 0.4291 - val_acc: 0.7698 - val_sensitivity: 0.8680 - val_specificity: 0.6222 - val_fmed: 0.7158 - val_f1: 0.8183\n",
            "\n",
            "Epoch 00037: val_fmed improved from 0.71327 to 0.71578, saving model to /content/gdrive/My Drive/Data Scientist/breast_cancer/data/nn_best_model_cv_val_fmed.h5\n",
            "Epoch 38/1000\n",
            "312/312 [==============================] - 39s 125ms/step - loss: 0.3519 - acc: 0.8336 - sensitivity: 0.8932 - specificity: 0.7441 - fmed: 0.8012 - f1: 0.8623 - val_loss: 0.3857 - val_acc: 0.7995 - val_sensitivity: 0.8601 - val_specificity: 0.7042 - val_fmed: 0.7628 - val_f1: 0.8358\n",
            "\n",
            "Epoch 00038: val_fmed improved from 0.71578 to 0.76281, saving model to /content/gdrive/My Drive/Data Scientist/breast_cancer/data/nn_best_model_cv_val_fmed.h5\n",
            "Epoch 39/1000\n",
            "312/312 [==============================] - 41s 130ms/step - loss: 0.3401 - acc: 0.8500 - sensitivity: 0.9046 - specificity: 0.7697 - fmed: 0.8230 - f1: 0.8744 - val_loss: 0.3790 - val_acc: 0.8235 - val_sensitivity: 0.8875 - val_specificity: 0.7057 - val_fmed: 0.7689 - val_f1: 0.8558\n",
            "\n",
            "Epoch 00039: val_fmed improved from 0.76281 to 0.76891, saving model to /content/gdrive/My Drive/Data Scientist/breast_cancer/data/nn_best_model_cv_val_fmed.h5\n",
            "Epoch 40/1000\n",
            "312/312 [==============================] - 41s 130ms/step - loss: 0.3431 - acc: 0.8459 - sensitivity: 0.9018 - specificity: 0.7590 - fmed: 0.8132 - f1: 0.8718 - val_loss: 0.3639 - val_acc: 0.8073 - val_sensitivity: 0.8486 - val_specificity: 0.7405 - val_fmed: 0.7813 - val_f1: 0.8382\n",
            "\n",
            "Epoch 00040: val_fmed improved from 0.76891 to 0.78131, saving model to /content/gdrive/My Drive/Data Scientist/breast_cancer/data/nn_best_model_cv_val_fmed.h5\n",
            "Epoch 41/1000\n",
            "312/312 [==============================] - 41s 131ms/step - loss: 0.3189 - acc: 0.8564 - sensitivity: 0.9021 - specificity: 0.7875 - fmed: 0.8313 - f1: 0.8797 - val_loss: 0.3687 - val_acc: 0.8299 - val_sensitivity: 0.8476 - val_specificity: 0.8050 - val_fmed: 0.8185 - val_f1: 0.8555\n",
            "\n",
            "Epoch 00041: val_fmed improved from 0.78131 to 0.81855, saving model to /content/gdrive/My Drive/Data Scientist/breast_cancer/data/nn_best_model_cv_val_fmed.h5\n",
            "Epoch 42/1000\n",
            "312/312 [==============================] - 41s 132ms/step - loss: 0.2928 - acc: 0.8700 - sensitivity: 0.9052 - specificity: 0.8163 - fmed: 0.8494 - f1: 0.8912 - val_loss: 0.4410 - val_acc: 0.7930 - val_sensitivity: 0.7243 - val_specificity: 0.8988 - val_fmed: 0.7968 - val_f1: 0.8037\n",
            "\n",
            "Epoch 00042: val_fmed did not improve from 0.81855\n",
            "Epoch 43/1000\n",
            "312/312 [==============================] - 41s 132ms/step - loss: 0.2980 - acc: 0.8698 - sensitivity: 0.9054 - specificity: 0.8194 - fmed: 0.8523 - f1: 0.8900 - val_loss: 0.3604 - val_acc: 0.8350 - val_sensitivity: 0.8812 - val_specificity: 0.7613 - val_fmed: 0.8110 - val_f1: 0.8638\n",
            "\n",
            "Epoch 00043: val_fmed did not improve from 0.81855\n",
            "Epoch 44/1000\n",
            "312/312 [==============================] - 40s 127ms/step - loss: 0.2914 - acc: 0.8741 - sensitivity: 0.9011 - specificity: 0.8282 - fmed: 0.8549 - f1: 0.8920 - val_loss: 0.4139 - val_acc: 0.8255 - val_sensitivity: 0.8418 - val_specificity: 0.8051 - val_fmed: 0.8149 - val_f1: 0.8485\n",
            "\n",
            "Epoch 00044: val_fmed did not improve from 0.81855\n",
            "Epoch 45/1000\n",
            "312/312 [==============================] - 42s 136ms/step - loss: 0.2794 - acc: 0.8773 - sensitivity: 0.9109 - specificity: 0.8264 - fmed: 0.8589 - f1: 0.8963 - val_loss: 0.3668 - val_acc: 0.8363 - val_sensitivity: 0.8406 - val_specificity: 0.8306 - val_fmed: 0.8313 - val_f1: 0.8568\n",
            "\n",
            "Epoch 00045: val_fmed improved from 0.81855 to 0.83127, saving model to /content/gdrive/My Drive/Data Scientist/breast_cancer/data/nn_best_model_cv_val_fmed.h5\n",
            "Epoch 46/1000\n",
            "312/312 [==============================] - 43s 136ms/step - loss: 0.2671 - acc: 0.8858 - sensitivity: 0.9156 - specificity: 0.8439 - fmed: 0.8728 - f1: 0.9035 - val_loss: 0.3370 - val_acc: 0.8542 - val_sensitivity: 0.8674 - val_specificity: 0.8390 - val_fmed: 0.8470 - val_f1: 0.8748\n",
            "\n",
            "Epoch 00046: val_fmed improved from 0.83127 to 0.84704, saving model to /content/gdrive/My Drive/Data Scientist/breast_cancer/data/nn_best_model_cv_val_fmed.h5\n",
            "Epoch 47/1000\n",
            "312/312 [==============================] - 45s 143ms/step - loss: 0.2581 - acc: 0.8899 - sensitivity: 0.9169 - specificity: 0.8530 - fmed: 0.8771 - f1: 0.9074 - val_loss: 0.2929 - val_acc: 0.8708 - val_sensitivity: 0.9079 - val_specificity: 0.8156 - val_fmed: 0.8556 - val_f1: 0.8903\n",
            "\n",
            "Epoch 00047: val_fmed improved from 0.84704 to 0.85564, saving model to /content/gdrive/My Drive/Data Scientist/breast_cancer/data/nn_best_model_cv_val_fmed.h5\n",
            "Epoch 48/1000\n",
            "312/312 [==============================] - 41s 132ms/step - loss: 0.2523 - acc: 0.8949 - sensitivity: 0.9226 - specificity: 0.8538 - fmed: 0.8822 - f1: 0.9114 - val_loss: 0.3244 - val_acc: 0.8659 - val_sensitivity: 0.8843 - val_specificity: 0.8422 - val_fmed: 0.8573 - val_f1: 0.8869\n",
            "\n",
            "Epoch 00048: val_fmed improved from 0.85564 to 0.85730, saving model to /content/gdrive/My Drive/Data Scientist/breast_cancer/data/nn_best_model_cv_val_fmed.h5\n",
            "Epoch 49/1000\n",
            "312/312 [==============================] - 41s 132ms/step - loss: 0.2514 - acc: 0.8946 - sensitivity: 0.9177 - specificity: 0.8557 - fmed: 0.8802 - f1: 0.9104 - val_loss: 0.2974 - val_acc: 0.8645 - val_sensitivity: 0.8988 - val_specificity: 0.8162 - val_fmed: 0.8497 - val_f1: 0.8866\n",
            "\n",
            "Epoch 00049: val_fmed did not improve from 0.85730\n",
            "Epoch 50/1000\n",
            "312/312 [==============================] - 41s 130ms/step - loss: 0.2532 - acc: 0.8925 - sensitivity: 0.9133 - specificity: 0.8589 - fmed: 0.8801 - f1: 0.9082 - val_loss: 0.2794 - val_acc: 0.8724 - val_sensitivity: 0.8570 - val_specificity: 0.8895 - val_fmed: 0.8699 - val_f1: 0.8874\n",
            "\n",
            "Epoch 00050: val_fmed improved from 0.85730 to 0.86988, saving model to /content/gdrive/My Drive/Data Scientist/breast_cancer/data/nn_best_model_cv_val_fmed.h5\n",
            "Epoch 51/1000\n",
            "312/312 [==============================] - 42s 136ms/step - loss: 0.2365 - acc: 0.9006 - sensitivity: 0.9185 - specificity: 0.8751 - fmed: 0.8910 - f1: 0.9154 - val_loss: 0.2595 - val_acc: 0.8926 - val_sensitivity: 0.8984 - val_specificity: 0.8872 - val_fmed: 0.8885 - val_f1: 0.9085\n",
            "\n",
            "Epoch 00051: val_fmed improved from 0.86988 to 0.88852, saving model to /content/gdrive/My Drive/Data Scientist/breast_cancer/data/nn_best_model_cv_val_fmed.h5\n",
            "Epoch 52/1000\n",
            "312/312 [==============================] - 41s 133ms/step - loss: 0.2373 - acc: 0.9026 - sensitivity: 0.9225 - specificity: 0.8705 - fmed: 0.8906 - f1: 0.9172 - val_loss: 0.2807 - val_acc: 0.8789 - val_sensitivity: 0.9288 - val_specificity: 0.8055 - val_fmed: 0.8575 - val_f1: 0.9006\n",
            "\n",
            "Epoch 00052: val_fmed did not improve from 0.88852\n",
            "Epoch 53/1000\n",
            "312/312 [==============================] - 40s 127ms/step - loss: 0.2338 - acc: 0.9043 - sensitivity: 0.9218 - specificity: 0.8809 - fmed: 0.8950 - f1: 0.9186 - val_loss: 0.2972 - val_acc: 0.8708 - val_sensitivity: 0.8894 - val_specificity: 0.8448 - val_fmed: 0.8600 - val_f1: 0.8905\n",
            "\n",
            "Epoch 00053: val_fmed did not improve from 0.88852\n",
            "Epoch 54/1000\n",
            "312/312 [==============================] - 43s 139ms/step - loss: 0.2293 - acc: 0.9049 - sensitivity: 0.9197 - specificity: 0.8814 - fmed: 0.8944 - f1: 0.9185 - val_loss: 0.3003 - val_acc: 0.8724 - val_sensitivity: 0.8963 - val_specificity: 0.8383 - val_fmed: 0.8620 - val_f1: 0.8906\n",
            "\n",
            "Epoch 00054: val_fmed did not improve from 0.88852\n",
            "Epoch 55/1000\n",
            "312/312 [==============================] - 39s 125ms/step - loss: 0.2342 - acc: 0.9033 - sensitivity: 0.9275 - specificity: 0.8697 - fmed: 0.8924 - f1: 0.9183 - val_loss: 0.3101 - val_acc: 0.8657 - val_sensitivity: 0.8908 - val_specificity: 0.8324 - val_fmed: 0.8570 - val_f1: 0.8875\n",
            "\n",
            "Epoch 00055: val_fmed did not improve from 0.88852\n",
            "Epoch 56/1000\n",
            "312/312 [==============================] - 40s 129ms/step - loss: 0.2278 - acc: 0.9090 - sensitivity: 0.9255 - specificity: 0.8803 - fmed: 0.8970 - f1: 0.9221 - val_loss: 0.2736 - val_acc: 0.8685 - val_sensitivity: 0.8777 - val_specificity: 0.8540 - val_fmed: 0.8593 - val_f1: 0.8889\n",
            "\n",
            "Epoch 00056: val_fmed did not improve from 0.88852\n",
            "Epoch 57/1000\n",
            "312/312 [==============================] - 41s 132ms/step - loss: 0.2235 - acc: 0.9059 - sensitivity: 0.9269 - specificity: 0.8736 - fmed: 0.8939 - f1: 0.9200 - val_loss: 0.2680 - val_acc: 0.8772 - val_sensitivity: 0.8875 - val_specificity: 0.8516 - val_fmed: 0.8636 - val_f1: 0.8929\n",
            "\n",
            "Epoch 00057: val_fmed did not improve from 0.88852\n",
            "Epoch 58/1000\n",
            "312/312 [==============================] - 41s 131ms/step - loss: 0.2013 - acc: 0.9161 - sensitivity: 0.9315 - specificity: 0.8928 - fmed: 0.9082 - f1: 0.9288 - val_loss: 0.2667 - val_acc: 0.8919 - val_sensitivity: 0.9124 - val_specificity: 0.8651 - val_fmed: 0.8821 - val_f1: 0.9089\n",
            "\n",
            "Epoch 00058: val_fmed did not improve from 0.88852\n",
            "Epoch 59/1000\n",
            "312/312 [==============================] - 41s 131ms/step - loss: 0.2119 - acc: 0.9135 - sensitivity: 0.9273 - specificity: 0.8975 - fmed: 0.9077 - f1: 0.9257 - val_loss: 0.2273 - val_acc: 0.8990 - val_sensitivity: 0.9181 - val_specificity: 0.8688 - val_fmed: 0.8899 - val_f1: 0.9162\n",
            "\n",
            "Epoch 00059: val_fmed improved from 0.88852 to 0.88992, saving model to /content/gdrive/My Drive/Data Scientist/breast_cancer/data/nn_best_model_cv_val_fmed.h5\n",
            "Epoch 60/1000\n",
            "312/312 [==============================] - 40s 129ms/step - loss: 0.2098 - acc: 0.9176 - sensitivity: 0.9328 - specificity: 0.8922 - fmed: 0.9063 - f1: 0.9300 - val_loss: 0.2082 - val_acc: 0.9128 - val_sensitivity: 0.9380 - val_specificity: 0.8783 - val_fmed: 0.9028 - val_f1: 0.9273\n",
            "\n",
            "Epoch 00060: val_fmed improved from 0.88992 to 0.90284, saving model to /content/gdrive/My Drive/Data Scientist/breast_cancer/data/nn_best_model_cv_val_fmed.h5\n",
            "Epoch 61/1000\n",
            "312/312 [==============================] - 42s 135ms/step - loss: 0.2033 - acc: 0.9155 - sensitivity: 0.9314 - specificity: 0.8940 - fmed: 0.9081 - f1: 0.9280 - val_loss: 0.2231 - val_acc: 0.8951 - val_sensitivity: 0.8978 - val_specificity: 0.8928 - val_fmed: 0.8914 - val_f1: 0.9081\n",
            "\n",
            "Epoch 00061: val_fmed did not improve from 0.90284\n",
            "Epoch 62/1000\n",
            "312/312 [==============================] - 45s 143ms/step - loss: 0.2013 - acc: 0.9175 - sensitivity: 0.9337 - specificity: 0.8927 - fmed: 0.9083 - f1: 0.9305 - val_loss: 0.2527 - val_acc: 0.8932 - val_sensitivity: 0.8891 - val_specificity: 0.8984 - val_fmed: 0.8909 - val_f1: 0.9076\n",
            "\n",
            "Epoch 00062: val_fmed did not improve from 0.90284\n",
            "Epoch 63/1000\n",
            "312/312 [==============================] - 41s 131ms/step - loss: 0.1899 - acc: 0.9209 - sensitivity: 0.9363 - specificity: 0.8964 - fmed: 0.9106 - f1: 0.9321 - val_loss: 0.2605 - val_acc: 0.8785 - val_sensitivity: 0.9083 - val_specificity: 0.8247 - val_fmed: 0.8565 - val_f1: 0.8965\n",
            "\n",
            "Epoch 00063: val_fmed did not improve from 0.90284\n",
            "Epoch 64/1000\n",
            "312/312 [==============================] - 41s 131ms/step - loss: 0.1939 - acc: 0.9167 - sensitivity: 0.9344 - specificity: 0.8898 - fmed: 0.9074 - f1: 0.9291 - val_loss: 0.2381 - val_acc: 0.8867 - val_sensitivity: 0.8667 - val_specificity: 0.9200 - val_fmed: 0.8881 - val_f1: 0.9004\n",
            "\n",
            "Epoch 00064: val_fmed did not improve from 0.90284\n",
            "Epoch 65/1000\n",
            "312/312 [==============================] - 41s 130ms/step - loss: 0.1953 - acc: 0.9226 - sensitivity: 0.9372 - specificity: 0.9004 - fmed: 0.9144 - f1: 0.9343 - val_loss: 0.2708 - val_acc: 0.8875 - val_sensitivity: 0.9328 - val_specificity: 0.8087 - val_fmed: 0.8629 - val_f1: 0.9079\n",
            "\n",
            "Epoch 00065: val_fmed did not improve from 0.90284\n",
            "Epoch 66/1000\n",
            "312/312 [==============================] - 41s 130ms/step - loss: 0.1934 - acc: 0.9202 - sensitivity: 0.9347 - specificity: 0.8979 - fmed: 0.9120 - f1: 0.9318 - val_loss: 0.2325 - val_acc: 0.8893 - val_sensitivity: 0.9227 - val_specificity: 0.8369 - val_fmed: 0.8735 - val_f1: 0.9073\n",
            "\n",
            "Epoch 00066: val_fmed did not improve from 0.90284\n",
            "Epoch 67/1000\n",
            "312/312 [==============================] - 42s 133ms/step - loss: 0.1817 - acc: 0.9276 - sensitivity: 0.9392 - specificity: 0.9101 - fmed: 0.9208 - f1: 0.9374 - val_loss: 0.2478 - val_acc: 0.8862 - val_sensitivity: 0.9330 - val_specificity: 0.8123 - val_fmed: 0.8650 - val_f1: 0.9082\n",
            "\n",
            "Epoch 00067: val_fmed did not improve from 0.90284\n",
            "Epoch 68/1000\n",
            "312/312 [==============================] - 42s 134ms/step - loss: 0.1816 - acc: 0.9274 - sensitivity: 0.9404 - specificity: 0.9075 - fmed: 0.9198 - f1: 0.9379 - val_loss: 0.2574 - val_acc: 0.8932 - val_sensitivity: 0.9092 - val_specificity: 0.8671 - val_fmed: 0.8832 - val_f1: 0.9084\n",
            "\n",
            "Epoch 00068: val_fmed did not improve from 0.90284\n",
            "Epoch 69/1000\n",
            "312/312 [==============================] - 43s 139ms/step - loss: 0.1782 - acc: 0.9300 - sensitivity: 0.9441 - specificity: 0.9075 - fmed: 0.9212 - f1: 0.9409 - val_loss: 0.2151 - val_acc: 0.9105 - val_sensitivity: 0.9219 - val_specificity: 0.8908 - val_fmed: 0.9016 - val_f1: 0.9242\n",
            "\n",
            "Epoch 00069: val_fmed did not improve from 0.90284\n",
            "Epoch 70/1000\n",
            "312/312 [==============================] - 40s 127ms/step - loss: 0.1693 - acc: 0.9357 - sensitivity: 0.9490 - specificity: 0.9148 - fmed: 0.9286 - f1: 0.9449 - val_loss: 0.2442 - val_acc: 0.8919 - val_sensitivity: 0.8955 - val_specificity: 0.8878 - val_fmed: 0.8887 - val_f1: 0.9066\n",
            "\n",
            "Epoch 00070: val_fmed did not improve from 0.90284\n",
            "Epoch 71/1000\n",
            "312/312 [==============================] - 39s 126ms/step - loss: 0.1719 - acc: 0.9340 - sensitivity: 0.9460 - specificity: 0.9146 - fmed: 0.9264 - f1: 0.9442 - val_loss: 0.2062 - val_acc: 0.9041 - val_sensitivity: 0.9133 - val_specificity: 0.8917 - val_fmed: 0.9000 - val_f1: 0.9198\n",
            "\n",
            "Epoch 00071: val_fmed did not improve from 0.90284\n",
            "Epoch 72/1000\n",
            "312/312 [==============================] - 40s 129ms/step - loss: 0.1719 - acc: 0.9330 - sensitivity: 0.9473 - specificity: 0.9097 - fmed: 0.9234 - f1: 0.9432 - val_loss: 0.2410 - val_acc: 0.9023 - val_sensitivity: 0.9313 - val_specificity: 0.8515 - val_fmed: 0.8819 - val_f1: 0.9186\n",
            "\n",
            "Epoch 00072: val_fmed did not improve from 0.90284\n",
            "Epoch 73/1000\n",
            "312/312 [==============================] - 42s 133ms/step - loss: 0.1697 - acc: 0.9317 - sensitivity: 0.9435 - specificity: 0.9138 - fmed: 0.9245 - f1: 0.9410 - val_loss: 0.1955 - val_acc: 0.9194 - val_sensitivity: 0.9261 - val_specificity: 0.9101 - val_fmed: 0.9142 - val_f1: 0.9316\n",
            "\n",
            "Epoch 00073: val_fmed improved from 0.90284 to 0.91422, saving model to /content/gdrive/My Drive/Data Scientist/breast_cancer/data/nn_best_model_cv_val_fmed.h5\n",
            "Epoch 74/1000\n",
            "312/312 [==============================] - 41s 131ms/step - loss: 0.1776 - acc: 0.9302 - sensitivity: 0.9408 - specificity: 0.9122 - fmed: 0.9210 - f1: 0.9406 - val_loss: 0.2306 - val_acc: 0.9023 - val_sensitivity: 0.9140 - val_specificity: 0.8885 - val_fmed: 0.8956 - val_f1: 0.9171\n",
            "\n",
            "Epoch 00074: val_fmed did not improve from 0.91422\n",
            "Epoch 75/1000\n",
            "312/312 [==============================] - 41s 131ms/step - loss: 0.1664 - acc: 0.9354 - sensitivity: 0.9460 - specificity: 0.9219 - fmed: 0.9307 - f1: 0.9452 - val_loss: 0.1749 - val_acc: 0.9220 - val_sensitivity: 0.9298 - val_specificity: 0.9142 - val_fmed: 0.9192 - val_f1: 0.9344\n",
            "\n",
            "Epoch 00075: val_fmed improved from 0.91422 to 0.91921, saving model to /content/gdrive/My Drive/Data Scientist/breast_cancer/data/nn_best_model_cv_val_fmed.h5\n",
            "Epoch 76/1000\n",
            "312/312 [==============================] - 42s 134ms/step - loss: 0.1770 - acc: 0.9300 - sensitivity: 0.9432 - specificity: 0.9105 - fmed: 0.9229 - f1: 0.9398 - val_loss: 0.1999 - val_acc: 0.9089 - val_sensitivity: 0.9219 - val_specificity: 0.8864 - val_fmed: 0.8976 - val_f1: 0.9239\n",
            "\n",
            "Epoch 00076: val_fmed did not improve from 0.91921\n",
            "Epoch 77/1000\n",
            "312/312 [==============================] - 43s 139ms/step - loss: 0.1573 - acc: 0.9401 - sensitivity: 0.9521 - specificity: 0.9223 - fmed: 0.9340 - f1: 0.9483 - val_loss: 0.1733 - val_acc: 0.9258 - val_sensitivity: 0.9154 - val_specificity: 0.9367 - val_fmed: 0.9240 - val_f1: 0.9354\n",
            "\n",
            "Epoch 00077: val_fmed improved from 0.91921 to 0.92402, saving model to /content/gdrive/My Drive/Data Scientist/breast_cancer/data/nn_best_model_cv_val_fmed.h5\n",
            "Epoch 78/1000\n",
            "312/312 [==============================] - 42s 136ms/step - loss: 0.1576 - acc: 0.9415 - sensitivity: 0.9558 - specificity: 0.9210 - fmed: 0.9348 - f1: 0.9501 - val_loss: 0.2322 - val_acc: 0.9076 - val_sensitivity: 0.9237 - val_specificity: 0.8799 - val_fmed: 0.8966 - val_f1: 0.9202\n",
            "\n",
            "Epoch 00078: val_fmed did not improve from 0.92402\n",
            "Epoch 79/1000\n",
            "312/312 [==============================] - 42s 134ms/step - loss: 0.1611 - acc: 0.9374 - sensitivity: 0.9495 - specificity: 0.9197 - fmed: 0.9310 - f1: 0.9463 - val_loss: 0.2292 - val_acc: 0.9028 - val_sensitivity: 0.9728 - val_specificity: 0.7999 - val_fmed: 0.8721 - val_f1: 0.9235\n",
            "\n",
            "Epoch 00079: val_fmed did not improve from 0.92402\n",
            "Epoch 80/1000\n",
            "312/312 [==============================] - 41s 132ms/step - loss: 0.1615 - acc: 0.9362 - sensitivity: 0.9479 - specificity: 0.9190 - fmed: 0.9302 - f1: 0.9453 - val_loss: 0.1957 - val_acc: 0.9076 - val_sensitivity: 0.9493 - val_specificity: 0.8458 - val_fmed: 0.8882 - val_f1: 0.9262\n",
            "\n",
            "Epoch 00080: val_fmed did not improve from 0.92402\n",
            "Epoch 81/1000\n",
            "312/312 [==============================] - 41s 131ms/step - loss: 0.1518 - acc: 0.9426 - sensitivity: 0.9522 - specificity: 0.9279 - fmed: 0.9370 - f1: 0.9499 - val_loss: 0.1789 - val_acc: 0.9130 - val_sensitivity: 0.9231 - val_specificity: 0.8995 - val_fmed: 0.9080 - val_f1: 0.9257\n",
            "\n",
            "Epoch 00081: val_fmed did not improve from 0.92402\n",
            "Epoch 82/1000\n",
            "312/312 [==============================] - 41s 132ms/step - loss: 0.1486 - acc: 0.9434 - sensitivity: 0.9557 - specificity: 0.9270 - fmed: 0.9379 - f1: 0.9511 - val_loss: 0.2330 - val_acc: 0.8958 - val_sensitivity: 0.9649 - val_specificity: 0.7886 - val_fmed: 0.8633 - val_f1: 0.9157\n",
            "\n",
            "Epoch 00082: val_fmed did not improve from 0.92402\n",
            "Epoch 83/1000\n",
            "312/312 [==============================] - 39s 126ms/step - loss: 0.1599 - acc: 0.9352 - sensitivity: 0.9521 - specificity: 0.9109 - fmed: 0.9268 - f1: 0.9449 - val_loss: 0.1858 - val_acc: 0.9246 - val_sensitivity: 0.9123 - val_specificity: 0.9450 - val_fmed: 0.9248 - val_f1: 0.9351\n",
            "\n",
            "Epoch 00083: val_fmed improved from 0.92402 to 0.92482, saving model to /content/gdrive/My Drive/Data Scientist/breast_cancer/data/nn_best_model_cv_val_fmed.h5\n",
            "Epoch 84/1000\n",
            "312/312 [==============================] - 46s 149ms/step - loss: 0.1427 - acc: 0.9454 - sensitivity: 0.9529 - specificity: 0.9345 - fmed: 0.9410 - f1: 0.9536 - val_loss: 0.1968 - val_acc: 0.9180 - val_sensitivity: 0.9591 - val_specificity: 0.8557 - val_fmed: 0.8999 - val_f1: 0.9337\n",
            "\n",
            "Epoch 00084: val_fmed did not improve from 0.92482\n",
            "Epoch 85/1000\n",
            "312/312 [==============================] - 40s 129ms/step - loss: 0.1427 - acc: 0.9481 - sensitivity: 0.9583 - specificity: 0.9344 - fmed: 0.9436 - f1: 0.9556 - val_loss: 0.1533 - val_acc: 0.9309 - val_sensitivity: 0.9399 - val_specificity: 0.9130 - val_fmed: 0.9220 - val_f1: 0.9401\n",
            "\n",
            "Epoch 00085: val_fmed did not improve from 0.92482\n",
            "Epoch 86/1000\n",
            "312/312 [==============================] - 40s 127ms/step - loss: 0.1607 - acc: 0.9413 - sensitivity: 0.9589 - specificity: 0.9164 - fmed: 0.9344 - f1: 0.9499 - val_loss: 0.1797 - val_acc: 0.9453 - val_sensitivity: 0.9604 - val_specificity: 0.9252 - val_fmed: 0.9399 - val_f1: 0.9547\n",
            "\n",
            "Epoch 00086: val_fmed improved from 0.92482 to 0.93991, saving model to /content/gdrive/My Drive/Data Scientist/breast_cancer/data/nn_best_model_cv_val_fmed.h5\n",
            "Epoch 87/1000\n",
            "312/312 [==============================] - 40s 128ms/step - loss: 0.1408 - acc: 0.9456 - sensitivity: 0.9574 - specificity: 0.9286 - fmed: 0.9393 - f1: 0.9533 - val_loss: 0.1948 - val_acc: 0.9156 - val_sensitivity: 0.9319 - val_specificity: 0.8920 - val_fmed: 0.9081 - val_f1: 0.9306\n",
            "\n",
            "Epoch 00087: val_fmed did not improve from 0.93991\n",
            "Epoch 88/1000\n",
            "312/312 [==============================] - 39s 126ms/step - loss: 0.1499 - acc: 0.9444 - sensitivity: 0.9569 - specificity: 0.9233 - fmed: 0.9365 - f1: 0.9532 - val_loss: 0.2099 - val_acc: 0.9128 - val_sensitivity: 0.9264 - val_specificity: 0.8833 - val_fmed: 0.8986 - val_f1: 0.9261\n",
            "\n",
            "Epoch 00088: val_fmed did not improve from 0.93991\n",
            "Epoch 89/1000\n",
            "312/312 [==============================] - 39s 126ms/step - loss: 0.1366 - acc: 0.9454 - sensitivity: 0.9582 - specificity: 0.9251 - fmed: 0.9385 - f1: 0.9536 - val_loss: 0.1786 - val_acc: 0.9194 - val_sensitivity: 0.9491 - val_specificity: 0.8765 - val_fmed: 0.9083 - val_f1: 0.9318\n",
            "\n",
            "Epoch 00089: val_fmed did not improve from 0.93991\n",
            "Epoch 90/1000\n",
            "312/312 [==============================] - 40s 128ms/step - loss: 0.1386 - acc: 0.9489 - sensitivity: 0.9625 - specificity: 0.9267 - fmed: 0.9401 - f1: 0.9566 - val_loss: 0.1582 - val_acc: 0.9323 - val_sensitivity: 0.9404 - val_specificity: 0.9147 - val_fmed: 0.9250 - val_f1: 0.9421\n",
            "\n",
            "Epoch 00090: val_fmed did not improve from 0.93991\n",
            "Epoch 91/1000\n",
            "312/312 [==============================] - 41s 131ms/step - loss: 0.1458 - acc: 0.9489 - sensitivity: 0.9582 - specificity: 0.9360 - fmed: 0.9442 - f1: 0.9569 - val_loss: 0.2664 - val_acc: 0.9092 - val_sensitivity: 0.8793 - val_specificity: 0.9493 - val_fmed: 0.9096 - val_f1: 0.9180\n",
            "\n",
            "Epoch 00091: val_fmed did not improve from 0.93991\n",
            "Epoch 92/1000\n",
            "312/312 [==============================] - 41s 133ms/step - loss: 0.1470 - acc: 0.9415 - sensitivity: 0.9537 - specificity: 0.9240 - fmed: 0.9358 - f1: 0.9505 - val_loss: 0.1824 - val_acc: 0.9310 - val_sensitivity: 0.9222 - val_specificity: 0.9441 - val_fmed: 0.9307 - val_f1: 0.9409\n",
            "\n",
            "Epoch 00092: val_fmed did not improve from 0.93991\n",
            "Epoch 93/1000\n",
            "312/312 [==============================] - 40s 127ms/step - loss: 0.1414 - acc: 0.9461 - sensitivity: 0.9554 - specificity: 0.9297 - fmed: 0.9397 - f1: 0.9534 - val_loss: 0.1746 - val_acc: 0.9284 - val_sensitivity: 0.9277 - val_specificity: 0.9251 - val_fmed: 0.9252 - val_f1: 0.9396\n",
            "\n",
            "Epoch 00093: val_fmed did not improve from 0.93991\n",
            "Epoch 94/1000\n",
            "312/312 [==============================] - 40s 127ms/step - loss: 0.1461 - acc: 0.9451 - sensitivity: 0.9552 - specificity: 0.9294 - fmed: 0.9388 - f1: 0.9533 - val_loss: 0.2020 - val_acc: 0.9206 - val_sensitivity: 0.8970 - val_specificity: 0.9545 - val_fmed: 0.9223 - val_f1: 0.9296\n",
            "\n",
            "Epoch 00094: val_fmed did not improve from 0.93991\n",
            "Epoch 95/1000\n",
            "312/312 [==============================] - 40s 127ms/step - loss: 0.1292 - acc: 0.9491 - sensitivity: 0.9540 - specificity: 0.9398 - fmed: 0.9440 - f1: 0.9551 - val_loss: 0.1889 - val_acc: 0.9271 - val_sensitivity: 0.9378 - val_specificity: 0.9079 - val_fmed: 0.9195 - val_f1: 0.9365\n",
            "\n",
            "Epoch 00095: val_fmed did not improve from 0.93991\n",
            "Epoch 96/1000\n",
            "312/312 [==============================] - 39s 125ms/step - loss: 0.1399 - acc: 0.9487 - sensitivity: 0.9588 - specificity: 0.9329 - fmed: 0.9431 - f1: 0.9563 - val_loss: 0.1658 - val_acc: 0.9388 - val_sensitivity: 0.9249 - val_specificity: 0.9612 - val_fmed: 0.9408 - val_f1: 0.9472\n",
            "\n",
            "Epoch 00096: val_fmed improved from 0.93991 to 0.94079, saving model to /content/gdrive/My Drive/Data Scientist/breast_cancer/data/nn_best_model_cv_val_fmed.h5\n",
            "Epoch 97/1000\n",
            "312/312 [==============================] - 39s 125ms/step - loss: 0.1379 - acc: 0.9489 - sensitivity: 0.9574 - specificity: 0.9383 - fmed: 0.9454 - f1: 0.9561 - val_loss: 0.1717 - val_acc: 0.9258 - val_sensitivity: 0.9410 - val_specificity: 0.8979 - val_fmed: 0.9151 - val_f1: 0.9380\n",
            "\n",
            "Epoch 00097: val_fmed did not improve from 0.94079\n",
            "Epoch 98/1000\n",
            "312/312 [==============================] - 40s 127ms/step - loss: 0.1418 - acc: 0.9467 - sensitivity: 0.9573 - specificity: 0.9283 - fmed: 0.9395 - f1: 0.9550 - val_loss: 0.1523 - val_acc: 0.9349 - val_sensitivity: 0.9314 - val_specificity: 0.9442 - val_fmed: 0.9350 - val_f1: 0.9444\n",
            "\n",
            "Epoch 00098: val_fmed did not improve from 0.94079\n",
            "Epoch 99/1000\n",
            "312/312 [==============================] - 39s 127ms/step - loss: 0.1255 - acc: 0.9536 - sensitivity: 0.9631 - specificity: 0.9397 - fmed: 0.9490 - f1: 0.9599 - val_loss: 0.1905 - val_acc: 0.9207 - val_sensitivity: 0.9090 - val_specificity: 0.9443 - val_fmed: 0.9228 - val_f1: 0.9297\n",
            "\n",
            "Epoch 00099: val_fmed did not improve from 0.94079\n",
            "Epoch 100/1000\n",
            "312/312 [==============================] - 41s 130ms/step - loss: 0.1343 - acc: 0.9516 - sensitivity: 0.9619 - specificity: 0.9371 - fmed: 0.9467 - f1: 0.9585 - val_loss: 0.2073 - val_acc: 0.9062 - val_sensitivity: 0.9213 - val_specificity: 0.8843 - val_fmed: 0.8989 - val_f1: 0.9218\n",
            "\n",
            "Epoch 00100: val_fmed did not improve from 0.94079\n",
            "Epoch 101/1000\n",
            "312/312 [==============================] - 40s 128ms/step - loss: 0.1260 - acc: 0.9536 - sensitivity: 0.9643 - specificity: 0.9372 - fmed: 0.9483 - f1: 0.9612 - val_loss: 0.1677 - val_acc: 0.9284 - val_sensitivity: 0.9295 - val_specificity: 0.9293 - val_fmed: 0.9258 - val_f1: 0.9390\n",
            "\n",
            "Epoch 00101: val_fmed did not improve from 0.94079\n",
            "Epoch 102/1000\n",
            "312/312 [==============================] - 40s 128ms/step - loss: 0.1319 - acc: 0.9519 - sensitivity: 0.9624 - specificity: 0.9325 - fmed: 0.9447 - f1: 0.9575 - val_loss: 0.1971 - val_acc: 0.9271 - val_sensitivity: 0.9331 - val_specificity: 0.9158 - val_fmed: 0.9218 - val_f1: 0.9387\n",
            "\n",
            "Epoch 00102: val_fmed did not improve from 0.94079\n",
            "Epoch 103/1000\n",
            "312/312 [==============================] - 39s 126ms/step - loss: 0.1235 - acc: 0.9513 - sensitivity: 0.9612 - specificity: 0.9355 - fmed: 0.9455 - f1: 0.9582 - val_loss: 0.1749 - val_acc: 0.9297 - val_sensitivity: 0.9324 - val_specificity: 0.9247 - val_fmed: 0.9269 - val_f1: 0.9388\n",
            "\n",
            "Epoch 00103: val_fmed did not improve from 0.94079\n",
            "Epoch 104/1000\n",
            "312/312 [==============================] - 39s 127ms/step - loss: 0.1260 - acc: 0.9551 - sensitivity: 0.9638 - specificity: 0.9433 - fmed: 0.9509 - f1: 0.9617 - val_loss: 0.2378 - val_acc: 0.8893 - val_sensitivity: 0.8349 - val_specificity: 0.9731 - val_fmed: 0.8942 - val_f1: 0.8967\n",
            "\n",
            "Epoch 00104: val_fmed did not improve from 0.94079\n",
            "Epoch 105/1000\n",
            "312/312 [==============================] - 40s 127ms/step - loss: 0.1238 - acc: 0.9502 - sensitivity: 0.9613 - specificity: 0.9359 - fmed: 0.9457 - f1: 0.9569 - val_loss: 0.1755 - val_acc: 0.9361 - val_sensitivity: 0.9327 - val_specificity: 0.9423 - val_fmed: 0.9338 - val_f1: 0.9443\n",
            "\n",
            "Epoch 00105: val_fmed did not improve from 0.94079\n",
            "Epoch 106/1000\n",
            "312/312 [==============================] - 39s 126ms/step - loss: 0.1274 - acc: 0.9546 - sensitivity: 0.9633 - specificity: 0.9389 - fmed: 0.9484 - f1: 0.9615 - val_loss: 0.1758 - val_acc: 0.9206 - val_sensitivity: 0.9208 - val_specificity: 0.9150 - val_fmed: 0.9134 - val_f1: 0.9281\n",
            "\n",
            "Epoch 00106: val_fmed did not improve from 0.94079\n",
            "Epoch 107/1000\n",
            "312/312 [==============================] - 40s 129ms/step - loss: 0.1259 - acc: 0.9514 - sensitivity: 0.9644 - specificity: 0.9320 - fmed: 0.9453 - f1: 0.9578 - val_loss: 0.1525 - val_acc: 0.9437 - val_sensitivity: 0.9583 - val_specificity: 0.9231 - val_fmed: 0.9379 - val_f1: 0.9532\n",
            "\n",
            "Epoch 00107: val_fmed did not improve from 0.94079\n",
            "Epoch 108/1000\n",
            "312/312 [==============================] - 41s 132ms/step - loss: 0.1350 - acc: 0.9501 - sensitivity: 0.9602 - specificity: 0.9354 - fmed: 0.9448 - f1: 0.9577 - val_loss: 0.1965 - val_acc: 0.9193 - val_sensitivity: 0.9264 - val_specificity: 0.9205 - val_fmed: 0.9208 - val_f1: 0.9322\n",
            "\n",
            "Epoch 00108: val_fmed did not improve from 0.94079\n",
            "Epoch 109/1000\n",
            "312/312 [==============================] - 40s 128ms/step - loss: 0.1265 - acc: 0.9537 - sensitivity: 0.9656 - specificity: 0.9367 - fmed: 0.9484 - f1: 0.9601 - val_loss: 0.1551 - val_acc: 0.9450 - val_sensitivity: 0.9372 - val_specificity: 0.9599 - val_fmed: 0.9465 - val_f1: 0.9535\n",
            "\n",
            "Epoch 00109: val_fmed improved from 0.94079 to 0.94649, saving model to /content/gdrive/My Drive/Data Scientist/breast_cancer/data/nn_best_model_cv_val_fmed.h5\n",
            "Epoch 110/1000\n",
            "312/312 [==============================] - 39s 126ms/step - loss: 0.1151 - acc: 0.9579 - sensitivity: 0.9654 - specificity: 0.9455 - fmed: 0.9530 - f1: 0.9647 - val_loss: 0.1466 - val_acc: 0.9414 - val_sensitivity: 0.9503 - val_specificity: 0.9313 - val_fmed: 0.9368 - val_f1: 0.9496\n",
            "\n",
            "Epoch 00110: val_fmed did not improve from 0.94649\n",
            "Epoch 111/1000\n",
            "312/312 [==============================] - 39s 126ms/step - loss: 0.1206 - acc: 0.9594 - sensitivity: 0.9667 - specificity: 0.9470 - fmed: 0.9548 - f1: 0.9648 - val_loss: 0.1605 - val_acc: 0.9361 - val_sensitivity: 0.9485 - val_specificity: 0.9052 - val_fmed: 0.9201 - val_f1: 0.9460\n",
            "\n",
            "Epoch 00111: val_fmed did not improve from 0.94649\n",
            "Epoch 112/1000\n",
            "312/312 [==============================] - 39s 127ms/step - loss: 0.1203 - acc: 0.9558 - sensitivity: 0.9629 - specificity: 0.9460 - fmed: 0.9524 - f1: 0.9622 - val_loss: 0.1669 - val_acc: 0.9336 - val_sensitivity: 0.9379 - val_specificity: 0.9272 - val_fmed: 0.9285 - val_f1: 0.9421\n",
            "\n",
            "Epoch 00112: val_fmed did not improve from 0.94649\n",
            "Epoch 113/1000\n",
            "312/312 [==============================] - 40s 127ms/step - loss: 0.1238 - acc: 0.9546 - sensitivity: 0.9626 - specificity: 0.9412 - fmed: 0.9496 - f1: 0.9611 - val_loss: 0.1459 - val_acc: 0.9399 - val_sensitivity: 0.9513 - val_specificity: 0.9217 - val_fmed: 0.9341 - val_f1: 0.9496\n",
            "\n",
            "Epoch 00113: val_fmed did not improve from 0.94649\n",
            "Epoch 114/1000\n",
            "312/312 [==============================] - 40s 128ms/step - loss: 0.1227 - acc: 0.9558 - sensitivity: 0.9662 - specificity: 0.9405 - fmed: 0.9504 - f1: 0.9623 - val_loss: 0.1453 - val_acc: 0.9388 - val_sensitivity: 0.9317 - val_specificity: 0.9533 - val_fmed: 0.9402 - val_f1: 0.9475\n",
            "\n",
            "Epoch 00114: val_fmed did not improve from 0.94649\n",
            "Epoch 115/1000\n",
            "312/312 [==============================] - 41s 131ms/step - loss: 0.1178 - acc: 0.9577 - sensitivity: 0.9671 - specificity: 0.9428 - fmed: 0.9526 - f1: 0.9642 - val_loss: 0.1462 - val_acc: 0.9425 - val_sensitivity: 0.9650 - val_specificity: 0.9124 - val_fmed: 0.9353 - val_f1: 0.9521\n",
            "\n",
            "Epoch 00115: val_fmed did not improve from 0.94649\n",
            "Epoch 116/1000\n",
            "312/312 [==============================] - 40s 130ms/step - loss: 0.1193 - acc: 0.9539 - sensitivity: 0.9619 - specificity: 0.9411 - fmed: 0.9493 - f1: 0.9599 - val_loss: 0.2138 - val_acc: 0.9271 - val_sensitivity: 0.9597 - val_specificity: 0.8831 - val_fmed: 0.9150 - val_f1: 0.9396\n",
            "\n",
            "Epoch 00116: val_fmed did not improve from 0.94649\n",
            "Epoch 117/1000\n",
            "312/312 [==============================] - 40s 127ms/step - loss: 0.1146 - acc: 0.9567 - sensitivity: 0.9669 - specificity: 0.9431 - fmed: 0.9529 - f1: 0.9631 - val_loss: 0.1518 - val_acc: 0.9348 - val_sensitivity: 0.9585 - val_specificity: 0.9016 - val_fmed: 0.9248 - val_f1: 0.9451\n",
            "\n",
            "Epoch 00117: val_fmed did not improve from 0.94649\n",
            "Epoch 118/1000\n",
            "312/312 [==============================] - 39s 126ms/step - loss: 0.1213 - acc: 0.9561 - sensitivity: 0.9654 - specificity: 0.9434 - fmed: 0.9522 - f1: 0.9625 - val_loss: 0.2029 - val_acc: 0.9206 - val_sensitivity: 0.9006 - val_specificity: 0.9482 - val_fmed: 0.9203 - val_f1: 0.9294\n",
            "\n",
            "Epoch 00118: val_fmed did not improve from 0.94649\n",
            "Epoch 119/1000\n",
            "312/312 [==============================] - 39s 126ms/step - loss: 0.1196 - acc: 0.9563 - sensitivity: 0.9660 - specificity: 0.9416 - fmed: 0.9507 - f1: 0.9629 - val_loss: 0.2858 - val_acc: 0.8977 - val_sensitivity: 0.9773 - val_specificity: 0.7776 - val_fmed: 0.8614 - val_f1: 0.9197\n",
            "\n",
            "Epoch 00119: val_fmed did not improve from 0.94649\n",
            "Epoch 120/1000\n",
            "312/312 [==============================] - 40s 128ms/step - loss: 0.1101 - acc: 0.9580 - sensitivity: 0.9681 - specificity: 0.9407 - fmed: 0.9519 - f1: 0.9651 - val_loss: 0.1688 - val_acc: 0.9284 - val_sensitivity: 0.9308 - val_specificity: 0.9255 - val_fmed: 0.9248 - val_f1: 0.9374\n",
            "\n",
            "Epoch 00120: val_fmed did not improve from 0.94649\n",
            "Epoch 121/1000\n",
            "312/312 [==============================] - 39s 126ms/step - loss: 0.1119 - acc: 0.9575 - sensitivity: 0.9659 - specificity: 0.9446 - fmed: 0.9525 - f1: 0.9639 - val_loss: 0.1742 - val_acc: 0.9335 - val_sensitivity: 0.9180 - val_specificity: 0.9595 - val_fmed: 0.9353 - val_f1: 0.9412\n",
            "\n",
            "Epoch 00121: val_fmed did not improve from 0.94649\n",
            "Epoch 122/1000\n",
            "312/312 [==============================] - 40s 129ms/step - loss: 0.1093 - acc: 0.9590 - sensitivity: 0.9678 - specificity: 0.9466 - fmed: 0.9551 - f1: 0.9650 - val_loss: 0.1714 - val_acc: 0.9284 - val_sensitivity: 0.9396 - val_specificity: 0.9125 - val_fmed: 0.9223 - val_f1: 0.9395\n",
            "\n",
            "Epoch 00122: val_fmed did not improve from 0.94649\n",
            "Epoch 123/1000\n",
            "312/312 [==============================] - 41s 132ms/step - loss: 0.1201 - acc: 0.9559 - sensitivity: 0.9653 - specificity: 0.9422 - fmed: 0.9510 - f1: 0.9631 - val_loss: 0.1358 - val_acc: 0.9361 - val_sensitivity: 0.9297 - val_specificity: 0.9451 - val_fmed: 0.9362 - val_f1: 0.9434\n",
            "\n",
            "Epoch 00123: val_fmed did not improve from 0.94649\n",
            "Epoch 124/1000\n",
            "312/312 [==============================] - 40s 127ms/step - loss: 0.1136 - acc: 0.9580 - sensitivity: 0.9658 - specificity: 0.9460 - fmed: 0.9536 - f1: 0.9636 - val_loss: 0.1274 - val_acc: 0.9492 - val_sensitivity: 0.9450 - val_specificity: 0.9581 - val_fmed: 0.9495 - val_f1: 0.9554\n",
            "\n",
            "Epoch 00124: val_fmed improved from 0.94649 to 0.94950, saving model to /content/gdrive/My Drive/Data Scientist/breast_cancer/data/nn_best_model_cv_val_fmed.h5\n",
            "Epoch 125/1000\n",
            "312/312 [==============================] - 40s 127ms/step - loss: 0.1063 - acc: 0.9624 - sensitivity: 0.9709 - specificity: 0.9506 - fmed: 0.9589 - f1: 0.9681 - val_loss: 0.1213 - val_acc: 0.9425 - val_sensitivity: 0.9682 - val_specificity: 0.8993 - val_fmed: 0.9284 - val_f1: 0.9529\n",
            "\n",
            "Epoch 00125: val_fmed did not improve from 0.94950\n",
            "Epoch 126/1000\n",
            "312/312 [==============================] - 40s 128ms/step - loss: 0.1098 - acc: 0.9602 - sensitivity: 0.9708 - specificity: 0.9472 - fmed: 0.9568 - f1: 0.9656 - val_loss: 0.1313 - val_acc: 0.9427 - val_sensitivity: 0.9356 - val_specificity: 0.9509 - val_fmed: 0.9407 - val_f1: 0.9514\n",
            "\n",
            "Epoch 00126: val_fmed did not improve from 0.94950\n",
            "Epoch 127/1000\n",
            "312/312 [==============================] - 40s 127ms/step - loss: 0.1091 - acc: 0.9614 - sensitivity: 0.9717 - specificity: 0.9459 - fmed: 0.9565 - f1: 0.9674 - val_loss: 0.1839 - val_acc: 0.9284 - val_sensitivity: 0.8964 - val_specificity: 0.9784 - val_fmed: 0.9341 - val_f1: 0.9368\n",
            "\n",
            "Epoch 00127: val_fmed did not improve from 0.94950\n",
            "Epoch 128/1000\n",
            "312/312 [==============================] - 40s 127ms/step - loss: 0.1037 - acc: 0.9621 - sensitivity: 0.9721 - specificity: 0.9459 - fmed: 0.9554 - f1: 0.9674 - val_loss: 0.1687 - val_acc: 0.9336 - val_sensitivity: 0.9369 - val_specificity: 0.9313 - val_fmed: 0.9320 - val_f1: 0.9445\n",
            "\n",
            "Epoch 00128: val_fmed did not improve from 0.94950\n",
            "Epoch 129/1000\n",
            "312/312 [==============================] - 40s 127ms/step - loss: 0.1113 - acc: 0.9561 - sensitivity: 0.9665 - specificity: 0.9409 - fmed: 0.9511 - f1: 0.9624 - val_loss: 0.1633 - val_acc: 0.9271 - val_sensitivity: 0.9384 - val_specificity: 0.9131 - val_fmed: 0.9229 - val_f1: 0.9378\n",
            "\n",
            "Epoch 00129: val_fmed did not improve from 0.94950\n",
            "Epoch 130/1000\n",
            "312/312 [==============================] - 41s 131ms/step - loss: 0.1033 - acc: 0.9592 - sensitivity: 0.9663 - specificity: 0.9486 - fmed: 0.9552 - f1: 0.9656 - val_loss: 0.1203 - val_acc: 0.9362 - val_sensitivity: 0.9505 - val_specificity: 0.9141 - val_fmed: 0.9291 - val_f1: 0.9467\n",
            "\n",
            "Epoch 00130: val_fmed did not improve from 0.94950\n",
            "Epoch 131/1000\n",
            "312/312 [==============================] - 41s 133ms/step - loss: 0.1000 - acc: 0.9615 - sensitivity: 0.9697 - specificity: 0.9495 - fmed: 0.9577 - f1: 0.9673 - val_loss: 0.1426 - val_acc: 0.9488 - val_sensitivity: 0.9544 - val_specificity: 0.9392 - val_fmed: 0.9442 - val_f1: 0.9562\n",
            "\n",
            "Epoch 00131: val_fmed did not improve from 0.94950\n",
            "Epoch 132/1000\n",
            "312/312 [==============================] - 40s 129ms/step - loss: 0.1011 - acc: 0.9649 - sensitivity: 0.9738 - specificity: 0.9524 - fmed: 0.9614 - f1: 0.9695 - val_loss: 0.1711 - val_acc: 0.9297 - val_sensitivity: 0.9525 - val_specificity: 0.8910 - val_fmed: 0.9173 - val_f1: 0.9402\n",
            "\n",
            "Epoch 00132: val_fmed did not improve from 0.94950\n",
            "Epoch 133/1000\n",
            "312/312 [==============================] - 40s 129ms/step - loss: 0.0964 - acc: 0.9631 - sensitivity: 0.9682 - specificity: 0.9562 - fmed: 0.9607 - f1: 0.9680 - val_loss: 0.1324 - val_acc: 0.9399 - val_sensitivity: 0.9317 - val_specificity: 0.9539 - val_fmed: 0.9401 - val_f1: 0.9469\n",
            "\n",
            "Epoch 00133: val_fmed did not improve from 0.94950\n",
            "Epoch 134/1000\n",
            "312/312 [==============================] - 40s 128ms/step - loss: 0.0957 - acc: 0.9660 - sensitivity: 0.9720 - specificity: 0.9561 - fmed: 0.9620 - f1: 0.9710 - val_loss: 0.1295 - val_acc: 0.9414 - val_sensitivity: 0.9356 - val_specificity: 0.9474 - val_fmed: 0.9385 - val_f1: 0.9495\n",
            "\n",
            "Epoch 00134: val_fmed did not improve from 0.94950\n",
            "Epoch 135/1000\n",
            "312/312 [==============================] - 40s 127ms/step - loss: 0.0975 - acc: 0.9626 - sensitivity: 0.9701 - specificity: 0.9523 - fmed: 0.9592 - f1: 0.9684 - val_loss: 0.1057 - val_acc: 0.9552 - val_sensitivity: 0.9307 - val_specificity: 0.9894 - val_fmed: 0.9574 - val_f1: 0.9599\n",
            "\n",
            "Epoch 00135: val_fmed improved from 0.94950 to 0.95744, saving model to /content/gdrive/My Drive/Data Scientist/breast_cancer/data/nn_best_model_cv_val_fmed.h5\n",
            "Epoch 136/1000\n",
            "312/312 [==============================] - 40s 127ms/step - loss: 0.1076 - acc: 0.9616 - sensitivity: 0.9669 - specificity: 0.9543 - fmed: 0.9588 - f1: 0.9670 - val_loss: 0.1432 - val_acc: 0.9336 - val_sensitivity: 0.9448 - val_specificity: 0.9159 - val_fmed: 0.9280 - val_f1: 0.9437\n",
            "\n",
            "Epoch 00136: val_fmed did not improve from 0.95744\n",
            "Epoch 137/1000\n",
            "312/312 [==============================] - 41s 131ms/step - loss: 0.1078 - acc: 0.9658 - sensitivity: 0.9743 - specificity: 0.9551 - fmed: 0.9629 - f1: 0.9707 - val_loss: 0.1061 - val_acc: 0.9655 - val_sensitivity: 0.9728 - val_specificity: 0.9531 - val_fmed: 0.9614 - val_f1: 0.9711\n",
            "\n",
            "Epoch 00137: val_fmed improved from 0.95744 to 0.96142, saving model to /content/gdrive/My Drive/Data Scientist/breast_cancer/data/nn_best_model_cv_val_fmed.h5\n",
            "Epoch 138/1000\n",
            "312/312 [==============================] - 40s 128ms/step - loss: 0.0965 - acc: 0.9619 - sensitivity: 0.9695 - specificity: 0.9504 - fmed: 0.9581 - f1: 0.9673 - val_loss: 0.1411 - val_acc: 0.9388 - val_sensitivity: 0.9396 - val_specificity: 0.9395 - val_fmed: 0.9368 - val_f1: 0.9474\n",
            "\n",
            "Epoch 00138: val_fmed did not improve from 0.96142\n",
            "Epoch 139/1000\n",
            "312/312 [==============================] - 41s 133ms/step - loss: 0.1012 - acc: 0.9639 - sensitivity: 0.9689 - specificity: 0.9545 - fmed: 0.9596 - f1: 0.9685 - val_loss: 0.1694 - val_acc: 0.9335 - val_sensitivity: 0.9321 - val_specificity: 0.9329 - val_fmed: 0.9287 - val_f1: 0.9437\n",
            "\n",
            "Epoch 00139: val_fmed did not improve from 0.96142\n",
            "Epoch 140/1000\n",
            "312/312 [==============================] - 40s 129ms/step - loss: 0.1018 - acc: 0.9628 - sensitivity: 0.9686 - specificity: 0.9556 - fmed: 0.9601 - f1: 0.9681 - val_loss: 0.1267 - val_acc: 0.9375 - val_sensitivity: 0.9323 - val_specificity: 0.9508 - val_fmed: 0.9394 - val_f1: 0.9466\n",
            "\n",
            "Epoch 00140: val_fmed did not improve from 0.96142\n",
            "Epoch 141/1000\n",
            "312/312 [==============================] - 40s 128ms/step - loss: 0.0941 - acc: 0.9676 - sensitivity: 0.9759 - specificity: 0.9533 - fmed: 0.9626 - f1: 0.9723 - val_loss: 0.1187 - val_acc: 0.9437 - val_sensitivity: 0.9531 - val_specificity: 0.9322 - val_fmed: 0.9405 - val_f1: 0.9515\n",
            "\n",
            "Epoch 00141: val_fmed did not improve from 0.96142\n",
            "Epoch 142/1000\n",
            "312/312 [==============================] - 40s 128ms/step - loss: 0.1025 - acc: 0.9640 - sensitivity: 0.9744 - specificity: 0.9477 - fmed: 0.9588 - f1: 0.9696 - val_loss: 0.1726 - val_acc: 0.9401 - val_sensitivity: 0.9621 - val_specificity: 0.9033 - val_fmed: 0.9272 - val_f1: 0.9510\n",
            "\n",
            "Epoch 00142: val_fmed did not improve from 0.96142\n",
            "Epoch 143/1000\n",
            "312/312 [==============================] - 40s 129ms/step - loss: 0.1026 - acc: 0.9648 - sensitivity: 0.9753 - specificity: 0.9489 - fmed: 0.9600 - f1: 0.9705 - val_loss: 0.1658 - val_acc: 0.9335 - val_sensitivity: 0.9594 - val_specificity: 0.8955 - val_fmed: 0.9231 - val_f1: 0.9444\n",
            "\n",
            "Epoch 00143: val_fmed did not improve from 0.96142\n",
            "Epoch 144/1000\n",
            "312/312 [==============================] - 40s 128ms/step - loss: 0.0972 - acc: 0.9645 - sensitivity: 0.9712 - specificity: 0.9555 - fmed: 0.9617 - f1: 0.9697 - val_loss: 0.0753 - val_acc: 0.9727 - val_sensitivity: 0.9705 - val_specificity: 0.9786 - val_fmed: 0.9733 - val_f1: 0.9764\n",
            "\n",
            "Epoch 00144: val_fmed improved from 0.96142 to 0.97327, saving model to /content/gdrive/My Drive/Data Scientist/breast_cancer/data/nn_best_model_cv_val_fmed.h5\n",
            "Epoch 145/1000\n",
            "312/312 [==============================] - 41s 133ms/step - loss: 0.0918 - acc: 0.9670 - sensitivity: 0.9739 - specificity: 0.9559 - fmed: 0.9631 - f1: 0.9717 - val_loss: 0.1346 - val_acc: 0.9425 - val_sensitivity: 0.9707 - val_specificity: 0.8941 - val_fmed: 0.9277 - val_f1: 0.9504\n",
            "\n",
            "Epoch 00145: val_fmed did not improve from 0.97327\n",
            "Epoch 146/1000\n",
            "312/312 [==============================] - 43s 137ms/step - loss: 0.0943 - acc: 0.9674 - sensitivity: 0.9762 - specificity: 0.9536 - fmed: 0.9620 - f1: 0.9722 - val_loss: 0.1156 - val_acc: 0.9531 - val_sensitivity: 0.9426 - val_specificity: 0.9699 - val_fmed: 0.9534 - val_f1: 0.9597\n",
            "\n",
            "Epoch 00146: val_fmed did not improve from 0.97327\n",
            "Epoch 147/1000\n",
            "312/312 [==============================] - 41s 132ms/step - loss: 0.0957 - acc: 0.9656 - sensitivity: 0.9718 - specificity: 0.9571 - fmed: 0.9626 - f1: 0.9698 - val_loss: 0.1385 - val_acc: 0.9412 - val_sensitivity: 0.9290 - val_specificity: 0.9574 - val_fmed: 0.9402 - val_f1: 0.9484\n",
            "\n",
            "Epoch 00147: val_fmed did not improve from 0.97327\n",
            "Epoch 148/1000\n",
            "312/312 [==============================] - 43s 137ms/step - loss: 0.0787 - acc: 0.9729 - sensitivity: 0.9760 - specificity: 0.9675 - fmed: 0.9702 - f1: 0.9765 - val_loss: 0.1774 - val_acc: 0.9440 - val_sensitivity: 0.9260 - val_specificity: 0.9763 - val_fmed: 0.9486 - val_f1: 0.9518\n",
            "\n",
            "Epoch 00148: val_fmed did not improve from 0.97327\n",
            "Epoch 149/1000\n",
            "312/312 [==============================] - 41s 131ms/step - loss: 0.0843 - acc: 0.9697 - sensitivity: 0.9787 - specificity: 0.9571 - fmed: 0.9663 - f1: 0.9745 - val_loss: 0.1364 - val_acc: 0.9437 - val_sensitivity: 0.9629 - val_specificity: 0.9138 - val_fmed: 0.9347 - val_f1: 0.9547\n",
            "\n",
            "Epoch 00149: val_fmed did not improve from 0.97327\n",
            "Epoch 150/1000\n",
            "312/312 [==============================] - 41s 131ms/step - loss: 0.0824 - acc: 0.9697 - sensitivity: 0.9754 - specificity: 0.9612 - fmed: 0.9668 - f1: 0.9742 - val_loss: 0.1080 - val_acc: 0.9492 - val_sensitivity: 0.9410 - val_specificity: 0.9618 - val_fmed: 0.9491 - val_f1: 0.9554\n",
            "\n",
            "Epoch 00150: val_fmed did not improve from 0.97327\n",
            "Epoch 151/1000\n",
            "312/312 [==============================] - 42s 134ms/step - loss: 0.1038 - acc: 0.9648 - sensitivity: 0.9740 - specificity: 0.9522 - fmed: 0.9612 - f1: 0.9697 - val_loss: 0.1238 - val_acc: 0.9514 - val_sensitivity: 0.9406 - val_specificity: 0.9677 - val_fmed: 0.9516 - val_f1: 0.9578\n",
            "\n",
            "Epoch 00151: val_fmed did not improve from 0.97327\n",
            "Epoch 152/1000\n",
            "312/312 [==============================] - 42s 134ms/step - loss: 0.0959 - acc: 0.9654 - sensitivity: 0.9754 - specificity: 0.9491 - fmed: 0.9601 - f1: 0.9710 - val_loss: 0.1137 - val_acc: 0.9518 - val_sensitivity: 0.9508 - val_specificity: 0.9548 - val_fmed: 0.9511 - val_f1: 0.9571\n",
            "\n",
            "Epoch 00152: val_fmed did not improve from 0.97327\n",
            "Epoch 153/1000\n",
            "312/312 [==============================] - 40s 127ms/step - loss: 0.0977 - acc: 0.9653 - sensitivity: 0.9701 - specificity: 0.9578 - fmed: 0.9621 - f1: 0.9704 - val_loss: 0.1336 - val_acc: 0.9425 - val_sensitivity: 0.9771 - val_specificity: 0.8964 - val_fmed: 0.9323 - val_f1: 0.9524\n",
            "\n",
            "Epoch 00153: val_fmed did not improve from 0.97327\n",
            "Epoch 154/1000\n",
            "312/312 [==============================] - 41s 132ms/step - loss: 0.0994 - acc: 0.9667 - sensitivity: 0.9741 - specificity: 0.9566 - fmed: 0.9633 - f1: 0.9712 - val_loss: 0.1176 - val_acc: 0.9505 - val_sensitivity: 0.9745 - val_specificity: 0.9175 - val_fmed: 0.9424 - val_f1: 0.9587\n",
            "\n",
            "Epoch 00154: val_fmed did not improve from 0.97327\n",
            "Epoch 155/1000\n",
            "312/312 [==============================] - 39s 127ms/step - loss: 0.0902 - acc: 0.9663 - sensitivity: 0.9737 - specificity: 0.9529 - fmed: 0.9612 - f1: 0.9714 - val_loss: 0.1348 - val_acc: 0.9437 - val_sensitivity: 0.9666 - val_specificity: 0.9077 - val_fmed: 0.9336 - val_f1: 0.9538\n",
            "\n",
            "Epoch 00155: val_fmed did not improve from 0.97327\n",
            "Epoch 156/1000\n",
            "312/312 [==============================] - 41s 131ms/step - loss: 0.0864 - acc: 0.9684 - sensitivity: 0.9766 - specificity: 0.9557 - fmed: 0.9642 - f1: 0.9733 - val_loss: 0.1116 - val_acc: 0.9583 - val_sensitivity: 0.9887 - val_specificity: 0.9159 - val_fmed: 0.9492 - val_f1: 0.9646\n",
            "\n",
            "Epoch 00156: val_fmed did not improve from 0.97327\n",
            "Epoch 157/1000\n",
            "312/312 [==============================] - 41s 132ms/step - loss: 0.0854 - acc: 0.9691 - sensitivity: 0.9775 - specificity: 0.9575 - fmed: 0.9657 - f1: 0.9738 - val_loss: 0.0884 - val_acc: 0.9591 - val_sensitivity: 0.9762 - val_specificity: 0.9314 - val_fmed: 0.9512 - val_f1: 0.9659\n",
            "\n",
            "Epoch 00157: val_fmed did not improve from 0.97327\n",
            "Epoch 158/1000\n",
            "312/312 [==============================] - 40s 129ms/step - loss: 0.0959 - acc: 0.9672 - sensitivity: 0.9723 - specificity: 0.9594 - fmed: 0.9641 - f1: 0.9717 - val_loss: 0.1329 - val_acc: 0.9505 - val_sensitivity: 0.9792 - val_specificity: 0.9092 - val_fmed: 0.9403 - val_f1: 0.9596\n",
            "\n",
            "Epoch 00158: val_fmed did not improve from 0.97327\n",
            "Epoch 159/1000\n",
            "312/312 [==============================] - 41s 131ms/step - loss: 0.0952 - acc: 0.9646 - sensitivity: 0.9688 - specificity: 0.9547 - fmed: 0.9586 - f1: 0.9695 - val_loss: 0.1142 - val_acc: 0.9604 - val_sensitivity: 0.9759 - val_specificity: 0.9338 - val_fmed: 0.9524 - val_f1: 0.9665\n",
            "\n",
            "Epoch 00159: val_fmed did not improve from 0.97327\n",
            "Epoch 160/1000\n",
            "312/312 [==============================] - 41s 133ms/step - loss: 0.0852 - acc: 0.9677 - sensitivity: 0.9715 - specificity: 0.9619 - fmed: 0.9652 - f1: 0.9720 - val_loss: 0.1410 - val_acc: 0.9414 - val_sensitivity: 0.9738 - val_specificity: 0.9029 - val_fmed: 0.9327 - val_f1: 0.9511\n",
            "\n",
            "Epoch 00160: val_fmed did not improve from 0.97327\n",
            "Epoch 161/1000\n",
            "312/312 [==============================] - 44s 141ms/step - loss: 0.0815 - acc: 0.9699 - sensitivity: 0.9743 - specificity: 0.9635 - fmed: 0.9673 - f1: 0.9743 - val_loss: 0.1313 - val_acc: 0.9591 - val_sensitivity: 0.9712 - val_specificity: 0.9451 - val_fmed: 0.9556 - val_f1: 0.9654\n",
            "\n",
            "Epoch 00161: val_fmed did not improve from 0.97327\n",
            "Epoch 162/1000\n",
            "312/312 [==============================] - 42s 133ms/step - loss: 0.0765 - acc: 0.9687 - sensitivity: 0.9774 - specificity: 0.9566 - fmed: 0.9654 - f1: 0.9734 - val_loss: 0.1312 - val_acc: 0.9479 - val_sensitivity: 0.9719 - val_specificity: 0.9072 - val_fmed: 0.9368 - val_f1: 0.9568\n",
            "\n",
            "Epoch 00162: val_fmed did not improve from 0.97327\n",
            "Epoch 163/1000\n",
            "312/312 [==============================] - 42s 134ms/step - loss: 0.0895 - acc: 0.9673 - sensitivity: 0.9744 - specificity: 0.9563 - fmed: 0.9635 - f1: 0.9720 - val_loss: 0.1863 - val_acc: 0.9322 - val_sensitivity: 0.9465 - val_specificity: 0.9107 - val_fmed: 0.9263 - val_f1: 0.9429\n",
            "\n",
            "Epoch 00163: val_fmed did not improve from 0.97327\n",
            "Epoch 164/1000\n",
            "312/312 [==============================] - 41s 133ms/step - loss: 0.1013 - acc: 0.9662 - sensitivity: 0.9734 - specificity: 0.9544 - fmed: 0.9621 - f1: 0.9713 - val_loss: 0.1474 - val_acc: 0.9440 - val_sensitivity: 0.9239 - val_specificity: 0.9747 - val_fmed: 0.9470 - val_f1: 0.9505\n",
            "\n",
            "Epoch 00164: val_fmed did not improve from 0.97327\n",
            "Epoch 165/1000\n",
            "312/312 [==============================] - 41s 130ms/step - loss: 0.0844 - acc: 0.9709 - sensitivity: 0.9783 - specificity: 0.9550 - fmed: 0.9625 - f1: 0.9749 - val_loss: 0.1011 - val_acc: 0.9655 - val_sensitivity: 0.9719 - val_specificity: 0.9547 - val_fmed: 0.9614 - val_f1: 0.9706\n",
            "\n",
            "Epoch 00165: val_fmed did not improve from 0.97327\n",
            "Epoch 166/1000\n",
            "312/312 [==============================] - 40s 129ms/step - loss: 0.0829 - acc: 0.9696 - sensitivity: 0.9759 - specificity: 0.9594 - fmed: 0.9662 - f1: 0.9738 - val_loss: 0.1236 - val_acc: 0.9505 - val_sensitivity: 0.9659 - val_specificity: 0.9293 - val_fmed: 0.9451 - val_f1: 0.9575\n",
            "\n",
            "Epoch 00166: val_fmed did not improve from 0.97327\n",
            "Epoch 167/1000\n",
            "312/312 [==============================] - 42s 134ms/step - loss: 0.0919 - acc: 0.9689 - sensitivity: 0.9757 - specificity: 0.9585 - fmed: 0.9651 - f1: 0.9735 - val_loss: 0.1361 - val_acc: 0.9425 - val_sensitivity: 0.9572 - val_specificity: 0.9220 - val_fmed: 0.9373 - val_f1: 0.9510\n",
            "\n",
            "Epoch 00167: val_fmed did not improve from 0.97327\n",
            "Epoch 168/1000\n",
            "312/312 [==============================] - 42s 135ms/step - loss: 0.0881 - acc: 0.9678 - sensitivity: 0.9754 - specificity: 0.9579 - fmed: 0.9651 - f1: 0.9721 - val_loss: 0.1105 - val_acc: 0.9557 - val_sensitivity: 0.9532 - val_specificity: 0.9576 - val_fmed: 0.9523 - val_f1: 0.9615\n",
            "\n",
            "Epoch 00168: val_fmed did not improve from 0.97327\n",
            "Epoch 169/1000\n",
            "312/312 [==============================] - 42s 135ms/step - loss: 0.0899 - acc: 0.9675 - sensitivity: 0.9779 - specificity: 0.9531 - fmed: 0.9635 - f1: 0.9722 - val_loss: 0.0974 - val_acc: 0.9616 - val_sensitivity: 0.9593 - val_specificity: 0.9679 - val_fmed: 0.9624 - val_f1: 0.9684\n",
            "\n",
            "Epoch 00169: val_fmed did not improve from 0.97327\n",
            "Epoch 170/1000\n",
            "312/312 [==============================] - 40s 127ms/step - loss: 0.0833 - acc: 0.9685 - sensitivity: 0.9749 - specificity: 0.9595 - fmed: 0.9658 - f1: 0.9729 - val_loss: 0.1333 - val_acc: 0.9518 - val_sensitivity: 0.9460 - val_specificity: 0.9600 - val_fmed: 0.9515 - val_f1: 0.9570\n",
            "\n",
            "Epoch 00170: val_fmed did not improve from 0.97327\n",
            "Epoch 171/1000\n",
            "312/312 [==============================] - 40s 129ms/step - loss: 0.0792 - acc: 0.9715 - sensitivity: 0.9757 - specificity: 0.9642 - fmed: 0.9684 - f1: 0.9758 - val_loss: 0.1227 - val_acc: 0.9527 - val_sensitivity: 0.9419 - val_specificity: 0.9730 - val_fmed: 0.9554 - val_f1: 0.9595\n",
            "\n",
            "Epoch 00171: val_fmed did not improve from 0.97327\n",
            "Epoch 172/1000\n",
            "312/312 [==============================] - 40s 128ms/step - loss: 0.0926 - acc: 0.9676 - sensitivity: 0.9739 - specificity: 0.9569 - fmed: 0.9637 - f1: 0.9721 - val_loss: 0.1452 - val_acc: 0.9531 - val_sensitivity: 0.9348 - val_specificity: 0.9811 - val_fmed: 0.9565 - val_f1: 0.9591\n",
            "\n",
            "Epoch 00172: val_fmed did not improve from 0.97327\n",
            "Epoch 173/1000\n",
            "312/312 [==============================] - 41s 133ms/step - loss: 0.0936 - acc: 0.9671 - sensitivity: 0.9744 - specificity: 0.9562 - fmed: 0.9636 - f1: 0.9720 - val_loss: 0.1210 - val_acc: 0.9488 - val_sensitivity: 0.9660 - val_specificity: 0.9218 - val_fmed: 0.9397 - val_f1: 0.9574\n",
            "\n",
            "Epoch 00173: val_fmed did not improve from 0.97327\n",
            "Epoch 174/1000\n",
            "312/312 [==============================] - 42s 133ms/step - loss: 0.0901 - acc: 0.9682 - sensitivity: 0.9757 - specificity: 0.9590 - fmed: 0.9654 - f1: 0.9729 - val_loss: 0.1393 - val_acc: 0.9544 - val_sensitivity: 0.9395 - val_specificity: 0.9768 - val_fmed: 0.9560 - val_f1: 0.9604\n",
            "\n",
            "Epoch 00174: val_fmed did not improve from 0.97327\n",
            "Epoch 175/1000\n",
            "312/312 [==============================] - 41s 131ms/step - loss: 0.0974 - acc: 0.9643 - sensitivity: 0.9739 - specificity: 0.9488 - fmed: 0.9591 - f1: 0.9695 - val_loss: 0.1082 - val_acc: 0.9578 - val_sensitivity: 0.9702 - val_specificity: 0.9418 - val_fmed: 0.9528 - val_f1: 0.9645\n",
            "\n",
            "Epoch 00175: val_fmed did not improve from 0.97327\n",
            "Epoch 176/1000\n",
            "312/312 [==============================] - 43s 138ms/step - loss: 0.0773 - acc: 0.9727 - sensitivity: 0.9783 - specificity: 0.9641 - fmed: 0.9691 - f1: 0.9767 - val_loss: 0.1028 - val_acc: 0.9531 - val_sensitivity: 0.9565 - val_specificity: 0.9483 - val_fmed: 0.9503 - val_f1: 0.9603\n",
            "\n",
            "Epoch 00176: val_fmed did not improve from 0.97327\n",
            "Epoch 177/1000\n",
            "312/312 [==============================] - 40s 129ms/step - loss: 0.0909 - acc: 0.9703 - sensitivity: 0.9778 - specificity: 0.9588 - fmed: 0.9664 - f1: 0.9742 - val_loss: 0.1247 - val_acc: 0.9604 - val_sensitivity: 0.9655 - val_specificity: 0.9500 - val_fmed: 0.9565 - val_f1: 0.9664\n",
            "\n",
            "Epoch 00177: val_fmed did not improve from 0.97327\n",
            "Epoch 178/1000\n",
            "312/312 [==============================] - 42s 135ms/step - loss: 0.0859 - acc: 0.9712 - sensitivity: 0.9769 - specificity: 0.9613 - fmed: 0.9675 - f1: 0.9754 - val_loss: 0.1147 - val_acc: 0.9609 - val_sensitivity: 0.9814 - val_specificity: 0.9331 - val_fmed: 0.9544 - val_f1: 0.9681\n",
            "\n",
            "Epoch 00178: val_fmed did not improve from 0.97327\n",
            "Epoch 179/1000\n",
            "312/312 [==============================] - 41s 132ms/step - loss: 0.0782 - acc: 0.9737 - sensitivity: 0.9803 - specificity: 0.9632 - fmed: 0.9703 - f1: 0.9775 - val_loss: 0.1331 - val_acc: 0.9527 - val_sensitivity: 0.9921 - val_specificity: 0.8901 - val_fmed: 0.9363 - val_f1: 0.9625\n",
            "\n",
            "Epoch 00179: val_fmed did not improve from 0.97327\n",
            "Epoch 180/1000\n",
            "312/312 [==============================] - 41s 130ms/step - loss: 0.0801 - acc: 0.9717 - sensitivity: 0.9786 - specificity: 0.9600 - fmed: 0.9664 - f1: 0.9762 - val_loss: 0.0942 - val_acc: 0.9701 - val_sensitivity: 0.9691 - val_specificity: 0.9722 - val_fmed: 0.9694 - val_f1: 0.9741\n",
            "\n",
            "Epoch 00180: val_fmed did not improve from 0.97327\n",
            "Epoch 181/1000\n",
            "312/312 [==============================] - 41s 131ms/step - loss: 0.0779 - acc: 0.9725 - sensitivity: 0.9797 - specificity: 0.9620 - fmed: 0.9695 - f1: 0.9768 - val_loss: 0.1111 - val_acc: 0.9629 - val_sensitivity: 0.9621 - val_specificity: 0.9631 - val_fmed: 0.9611 - val_f1: 0.9687\n",
            "\n",
            "Epoch 00181: val_fmed did not improve from 0.97327\n",
            "Epoch 182/1000\n",
            "312/312 [==============================] - 42s 134ms/step - loss: 0.0770 - acc: 0.9727 - sensitivity: 0.9799 - specificity: 0.9623 - fmed: 0.9692 - f1: 0.9767 - val_loss: 0.0946 - val_acc: 0.9622 - val_sensitivity: 0.9841 - val_specificity: 0.9309 - val_fmed: 0.9553 - val_f1: 0.9682\n",
            "\n",
            "Epoch 00182: val_fmed did not improve from 0.97327\n",
            "Epoch 183/1000\n",
            "312/312 [==============================] - 40s 128ms/step - loss: 0.0812 - acc: 0.9723 - sensitivity: 0.9786 - specificity: 0.9630 - fmed: 0.9694 - f1: 0.9756 - val_loss: 0.1873 - val_acc: 0.9386 - val_sensitivity: 0.9218 - val_specificity: 0.9601 - val_fmed: 0.9387 - val_f1: 0.9458\n",
            "\n",
            "Epoch 00183: val_fmed did not improve from 0.97327\n",
            "Epoch 184/1000\n",
            "312/312 [==============================] - 43s 139ms/step - loss: 0.0792 - acc: 0.9705 - sensitivity: 0.9768 - specificity: 0.9627 - fmed: 0.9683 - f1: 0.9749 - val_loss: 0.1104 - val_acc: 0.9505 - val_sensitivity: 0.9556 - val_specificity: 0.9386 - val_fmed: 0.9453 - val_f1: 0.9581\n",
            "\n",
            "Epoch 00184: val_fmed did not improve from 0.97327\n",
            "Epoch 185/1000\n",
            "312/312 [==============================] - 41s 133ms/step - loss: 0.0780 - acc: 0.9708 - sensitivity: 0.9757 - specificity: 0.9637 - fmed: 0.9682 - f1: 0.9747 - val_loss: 0.0879 - val_acc: 0.9655 - val_sensitivity: 0.9788 - val_specificity: 0.9454 - val_fmed: 0.9601 - val_f1: 0.9715\n",
            "\n",
            "Epoch 00185: val_fmed did not improve from 0.97327\n",
            "Epoch 186/1000\n",
            "312/312 [==============================] - 40s 128ms/step - loss: 0.0828 - acc: 0.9708 - sensitivity: 0.9793 - specificity: 0.9588 - fmed: 0.9673 - f1: 0.9749 - val_loss: 0.1603 - val_acc: 0.9466 - val_sensitivity: 0.9737 - val_specificity: 0.9031 - val_fmed: 0.9347 - val_f1: 0.9559\n",
            "\n",
            "Epoch 00186: val_fmed did not improve from 0.97327\n",
            "Epoch 187/1000\n",
            "312/312 [==============================] - 40s 128ms/step - loss: 0.0879 - acc: 0.9693 - sensitivity: 0.9800 - specificity: 0.9540 - fmed: 0.9653 - f1: 0.9736 - val_loss: 0.1064 - val_acc: 0.9642 - val_sensitivity: 0.9603 - val_specificity: 0.9628 - val_fmed: 0.9587 - val_f1: 0.9699\n",
            "\n",
            "Epoch 00187: val_fmed did not improve from 0.97327\n",
            "Epoch 188/1000\n",
            "312/312 [==============================] - 40s 128ms/step - loss: 0.0870 - acc: 0.9727 - sensitivity: 0.9775 - specificity: 0.9656 - fmed: 0.9700 - f1: 0.9767 - val_loss: 0.0968 - val_acc: 0.9661 - val_sensitivity: 0.9812 - val_specificity: 0.9451 - val_fmed: 0.9609 - val_f1: 0.9722\n",
            "\n",
            "Epoch 00188: val_fmed did not improve from 0.97327\n",
            "Epoch 189/1000\n",
            "312/312 [==============================] - 42s 134ms/step - loss: 0.0921 - acc: 0.9671 - sensitivity: 0.9750 - specificity: 0.9568 - fmed: 0.9641 - f1: 0.9721 - val_loss: 0.0939 - val_acc: 0.9629 - val_sensitivity: 0.9495 - val_specificity: 0.9839 - val_fmed: 0.9652 - val_f1: 0.9660\n",
            "\n",
            "Epoch 00189: val_fmed did not improve from 0.97327\n",
            "Epoch 190/1000\n",
            "312/312 [==============================] - 41s 132ms/step - loss: 0.0723 - acc: 0.9749 - sensitivity: 0.9767 - specificity: 0.9710 - fmed: 0.9725 - f1: 0.9787 - val_loss: 0.0813 - val_acc: 0.9674 - val_sensitivity: 0.9645 - val_specificity: 0.9699 - val_fmed: 0.9658 - val_f1: 0.9722\n",
            "\n",
            "Epoch 00190: val_fmed did not improve from 0.97327\n",
            "Epoch 191/1000\n",
            "312/312 [==============================] - 42s 134ms/step - loss: 0.0834 - acc: 0.9704 - sensitivity: 0.9765 - specificity: 0.9614 - fmed: 0.9675 - f1: 0.9743 - val_loss: 0.1347 - val_acc: 0.9578 - val_sensitivity: 0.9934 - val_specificity: 0.9087 - val_fmed: 0.9467 - val_f1: 0.9643\n",
            "\n",
            "Epoch 00191: val_fmed did not improve from 0.97327\n",
            "Epoch 192/1000\n",
            "312/312 [==============================] - 42s 136ms/step - loss: 0.0663 - acc: 0.9799 - sensitivity: 0.9854 - specificity: 0.9702 - fmed: 0.9765 - f1: 0.9833 - val_loss: 0.0961 - val_acc: 0.9661 - val_sensitivity: 0.9694 - val_specificity: 0.9624 - val_fmed: 0.9639 - val_f1: 0.9706\n",
            "\n",
            "Epoch 00192: val_fmed did not improve from 0.97327\n",
            "Epoch 193/1000\n",
            "312/312 [==============================] - 40s 129ms/step - loss: 0.0708 - acc: 0.9748 - sensitivity: 0.9831 - specificity: 0.9633 - fmed: 0.9718 - f1: 0.9783 - val_loss: 0.1333 - val_acc: 0.9450 - val_sensitivity: 0.9279 - val_specificity: 0.9670 - val_fmed: 0.9445 - val_f1: 0.9510\n",
            "\n",
            "Epoch 00193: val_fmed did not improve from 0.97327\n",
            "Epoch 194/1000\n",
            "312/312 [==============================] - 44s 140ms/step - loss: 0.0723 - acc: 0.9729 - sensitivity: 0.9786 - specificity: 0.9644 - fmed: 0.9700 - f1: 0.9767 - val_loss: 0.1104 - val_acc: 0.9570 - val_sensitivity: 0.9808 - val_specificity: 0.9233 - val_fmed: 0.9493 - val_f1: 0.9639\n",
            "\n",
            "Epoch 00194: val_fmed did not improve from 0.97327\n",
            "Epoch 00194: early stopping\n"
          ],
          "name": "stdout"
        }
      ]
    },
    {
      "cell_type": "code",
      "metadata": {
        "colab_type": "code",
        "outputId": "9bb36aa8-bed7-426d-b71a-7088032b72f7",
        "id": "3yQQPqyNScdw",
        "colab": {
          "base_uri": "https://localhost:8080/",
          "height": 312
        }
      },
      "source": [
        "# list all data in history\n",
        "history = history_val_fmed\n",
        "print(history.history.keys())\n",
        "\n",
        "# summarize history for fmed score\n",
        "plt.plot(history.history['fmed'])\n",
        "plt.plot(history.history['val_fmed'])\n",
        "plt.title('Model Fmed score vs. epochs')\n",
        "plt.ylabel('Fmed')\n",
        "plt.xlabel('epochs')\n",
        "plt.legend(['train', 'test'], loc='lower right')\n",
        "plt.show()"
      ],
      "execution_count": 0,
      "outputs": [
        {
          "output_type": "stream",
          "text": [
            "dict_keys(['val_loss', 'val_acc', 'val_sensitivity', 'val_specificity', 'val_fmed', 'val_f1', 'loss', 'acc', 'sensitivity', 'specificity', 'fmed', 'f1'])\n"
          ],
          "name": "stdout"
        },
        {
          "output_type": "display_data",
          "data": {
            "image/png": "[encoded data removed]",
            "text/plain": [
              "<Figure size 432x288 with 1 Axes>"
            ]
          },
          "metadata": {
            "tags": []
          }
        }
      ]
    },
    {
      "cell_type": "code",
      "metadata": {
        "colab_type": "code",
        "outputId": "324437d3-499d-409d-a796-c6b3dd145576",
        "id": "N37Y402mSceA",
        "colab": {
          "base_uri": "https://localhost:8080/",
          "height": 295
        }
      },
      "source": [
        "# summarize history for sensitivity score\n",
        "plt.plot(history.history['sensitivity'])\n",
        "plt.plot(history.history['val_sensitivity'])\n",
        "plt.title('Model Sensitivity score vs. epochs')\n",
        "plt.ylabel('Sensitivity')\n",
        "plt.xlabel('epochs')\n",
        "plt.legend(['train', 'test'], loc='lower right')\n",
        "plt.show()\n",
        "\n"
      ],
      "execution_count": 0,
      "outputs": [
        {
          "output_type": "display_data",
          "data": {
            "image/png": "[encoded data removed]",
            "text/plain": [
              "<Figure size 432x288 with 1 Axes>"
            ]
          },
          "metadata": {
            "tags": []
          }
        }
      ]
    },
    {
      "cell_type": "code",
      "metadata": {
        "colab_type": "code",
        "outputId": "42271f34-d843-4a16-f8ae-2a1c756b2984",
        "id": "vp5jadQ4SceE",
        "colab": {
          "base_uri": "https://localhost:8080/",
          "height": 295
        }
      },
      "source": [
        "# summarize history for specificity score\n",
        "plt.plot(history.history['specificity'])\n",
        "plt.plot(history.history['val_specificity'])\n",
        "plt.title('Model Specificity score vs. epochs')\n",
        "plt.ylabel('Specificity')\n",
        "plt.xlabel('epochs')\n",
        "plt.legend(['train', 'test'], loc='lower right')\n",
        "plt.show()\n",
        "\n"
      ],
      "execution_count": 0,
      "outputs": [
        {
          "output_type": "display_data",
          "data": {
            "image/png": "[encoded data removed]",
            "text/plain": [
              "<Figure size 432x288 with 1 Axes>"
            ]
          },
          "metadata": {
            "tags": []
          }
        }
      ]
    },
    {
      "cell_type": "code",
      "metadata": {
        "colab_type": "code",
        "outputId": "cc46a87d-f834-4579-c9a1-8fd96d947506",
        "id": "ZvTSf9t7SceH",
        "colab": {
          "base_uri": "https://localhost:8080/",
          "height": 295
        }
      },
      "source": [
        "# summarize history for f1 score\n",
        "plt.plot(history.history['f1'])\n",
        "plt.plot(history.history['val_f1'])\n",
        "plt.title('Model F1 score vs. epochs')\n",
        "plt.ylabel('F1')\n",
        "plt.xlabel('epochs')\n",
        "plt.legend(['train', 'test'], loc='lower right')\n",
        "plt.show()\n",
        "\n"
      ],
      "execution_count": 0,
      "outputs": [
        {
          "output_type": "display_data",
          "data": {
            "image/png": "[encoded data removed]",
            "text/plain": [
              "<Figure size 432x288 with 1 Axes>"
            ]
          },
          "metadata": {
            "tags": []
          }
        }
      ]
    },
    {
      "cell_type": "code",
      "metadata": {
        "colab_type": "code",
        "outputId": "4fc4dc48-0a69-41a8-a706-d6305caab4b0",
        "id": "qZS8blbDSceJ",
        "colab": {
          "base_uri": "https://localhost:8080/",
          "height": 295
        }
      },
      "source": [
        "# summarize history for accuracy\n",
        "plt.plot(history.history['acc'])\n",
        "plt.plot(history.history['val_acc'])\n",
        "plt.title('Model accuracy vs. epochs')\n",
        "plt.ylabel('accuracy')\n",
        "plt.xlabel('epochs')\n",
        "plt.legend(['train', 'test'], loc='lower right')\n",
        "plt.show()\n",
        "\n"
      ],
      "execution_count": 0,
      "outputs": [
        {
          "output_type": "display_data",
          "data": {
            "image/png": "[encoded data removed]",
            "text/plain": [
              "<Figure size 432x288 with 1 Axes>"
            ]
          },
          "metadata": {
            "tags": []
          }
        }
      ]
    },
    {
      "cell_type": "code",
      "metadata": {
        "colab_type": "code",
        "outputId": "5e6ebdac-1fce-460c-de32-5dbf9d6205bb",
        "id": "iCZYpw-1SceN",
        "colab": {
          "base_uri": "https://localhost:8080/",
          "height": 295
        }
      },
      "source": [
        "# summarize history for loss\n",
        "plt.plot(history.history['loss'])\n",
        "plt.plot(history.history['val_loss'])\n",
        "plt.title('Model loss vs. epochs')\n",
        "plt.ylabel('loss')\n",
        "plt.xlabel('epochs')\n",
        "plt.legend(['train', 'test'], loc='lower right')\n",
        "plt.show()"
      ],
      "execution_count": 0,
      "outputs": [
        {
          "output_type": "display_data",
          "data": {
            "image/png": "[encoded data removed]",
            "text/plain": [
              "<Figure size 432x288 with 1 Axes>"
            ]
          },
          "metadata": {
            "tags": []
          }
        }
      ]
    },
    {
      "cell_type": "code",
      "metadata": {
        "colab_type": "code",
        "outputId": "01e44ddd-ab01-4c4e-8a7a-73ed4ac8bafc",
        "id": "qipiL82HVcpy",
        "colab": {
          "base_uri": "https://localhost:8080/",
          "height": 34
        }
      },
      "source": [
        "test_generator = train_datagen.flow_from_directory(\n",
        "        image_dest_dir + \"/test\",\n",
        "        target_size=(image_height, image_width),\n",
        "        batch_size=32,\n",
        "        color_mode=\"grayscale\",\n",
        "        class_mode='binary',\n",
        "        shuffle=False,\n",
        "        seed=42\n",
        ")"
      ],
      "execution_count": 0,
      "outputs": [
        {
          "output_type": "stream",
          "text": [
            "Found 25 images belonging to 2 classes.\n"
          ],
          "name": "stdout"
        }
      ]
    },
    {
      "cell_type": "code",
      "metadata": {
        "colab_type": "code",
        "id": "sHOQhrU0Vcp7",
        "colab": {}
      },
      "source": [
        "model = generate_model()"
      ],
      "execution_count": 0,
      "outputs": []
    },
    {
      "cell_type": "code",
      "metadata": {
        "colab_type": "code",
        "id": "O22a5E0BVcp-",
        "colab": {}
      },
      "source": [
        "model.load_weights(data_dir + '/nn_best_model_cv_val_fmed_sgd.h5')"
      ],
      "execution_count": 0,
      "outputs": []
    },
    {
      "cell_type": "code",
      "metadata": {
        "colab_type": "code",
        "id": "KUWoYoAHVcqB",
        "colab": {}
      },
      "source": [
        "probabilities = model.predict_generator(test_generator)\n",
        "y_true = test_generator.classes\n",
        "y_pred = probabilities > 0.5"
      ],
      "execution_count": 0,
      "outputs": []
    },
    {
      "cell_type": "code",
      "metadata": {
        "colab_type": "code",
        "outputId": "7ccf71eb-2baf-47aa-e678-86c32965ce68",
        "id": "0ahPh-ZZVcqE",
        "colab": {
          "base_uri": "https://localhost:8080/",
          "height": 51
        }
      },
      "source": [
        "confusion_matrix(y_true, y_pred)"
      ],
      "execution_count": 0,
      "outputs": [
        {
          "output_type": "execute_result",
          "data": {
            "text/plain": [
              "array([[ 9,  1],\n",
              "       [ 2, 13]])"
            ]
          },
          "metadata": {
            "tags": []
          },
          "execution_count": 285
        }
      ]
    },
    {
      "cell_type": "code",
      "metadata": {
        "colab_type": "code",
        "id": "tMJVPzooVcqH",
        "colab": {}
      },
      "source": [
        "tn, fp, fn, tp = confusion_matrix(y_true, y_pred).ravel()"
      ],
      "execution_count": 0,
      "outputs": []
    },
    {
      "cell_type": "code",
      "metadata": {
        "colab_type": "code",
        "outputId": "d22e461d-c3ed-4b17-9a4a-0a6529932803",
        "id": "fyMyXXyIVcqL",
        "colab": {
          "base_uri": "https://localhost:8080/",
          "height": 34
        }
      },
      "source": [
        "specificity = tn / (tn+fp)\n",
        "specificity"
      ],
      "execution_count": 0,
      "outputs": [
        {
          "output_type": "execute_result",
          "data": {
            "text/plain": [
              "0.9"
            ]
          },
          "metadata": {
            "tags": []
          },
          "execution_count": 287
        }
      ]
    },
    {
      "cell_type": "code",
      "metadata": {
        "colab_type": "code",
        "outputId": "cf2405a4-a16d-44be-f1d1-a0d8432556ff",
        "id": "nV33ZEskVcqN",
        "colab": {
          "base_uri": "https://localhost:8080/",
          "height": 34
        }
      },
      "source": [
        "sensitivity = tp / (tp + fn)\n",
        "sensitivity"
      ],
      "execution_count": 0,
      "outputs": [
        {
          "output_type": "execute_result",
          "data": {
            "text/plain": [
              "0.8666666666666667"
            ]
          },
          "metadata": {
            "tags": []
          },
          "execution_count": 288
        }
      ]
    },
    {
      "cell_type": "markdown",
      "metadata": {
        "id": "iXW1BjhZRuyr",
        "colab_type": "text"
      },
      "source": [
        "SGD Optimizer"
      ]
    },
    {
      "cell_type": "code",
      "metadata": {
        "id": "L6qgAtLUNrIK",
        "colab_type": "code",
        "colab": {
          "base_uri": "https://localhost:8080/",
          "height": 1000
        },
        "outputId": "30423246-5765-490d-8100-a5348e586172"
      },
      "source": [
        "num_train_samples = 10000\n",
        "num_validation_samples = 1000\n",
        "batch_size = 32\n",
        "model = generate_model(opt=keras.optimizers.SGD(lr=0.01, nesterov=True))\n",
        "# model.load_weights(data_dir + '/nn_best_model_cv_val_fmed.h5')\n",
        "history_val_fmed_sgd = model.fit_generator(\n",
        "    train_generator,\n",
        "    steps_per_epoch= num_train_samples // batch_size,\n",
        "    validation_data=validation_generator,\n",
        "    validation_steps= num_validation_samples // batch_size,\n",
        "    epochs=1000, \n",
        "    verbose=1,\n",
        "        callbacks=[\n",
        "          EarlyStopping(monitor='val_fmed', mode=\"max\", verbose=1, patience=100),\n",
        "          ModelCheckpoint(data_dir + '/nn_best_model_cv_val_fmed_sgd.h5', monitor='val_fmed', mode=\"max\", verbose=1, save_best_only=True)\n",
        "        ],\n",
        "    class_weight=class_weights)"
      ],
      "execution_count": 0,
      "outputs": [
        {
          "output_type": "stream",
          "text": [
            "Epoch 1/1000\n",
            "312/312 [==============================] - 54s 174ms/step - loss: 0.7457 - acc: 0.5745 - sensitivity: 0.8476 - specificity: 0.1669 - fmed: 0.2453 - f1: 0.6984 - val_loss: 0.6729 - val_acc: 0.5985 - val_sensitivity: 1.0000 - val_specificity: 0.0000e+00 - val_fmed: 0.0000e+00 - val_f1: 0.7467\n",
            "\n",
            "Epoch 00001: val_fmed improved from -inf to 0.00000, saving model to /content/gdrive/My Drive/Data Scientist/breast_cancer/data/nn_best_model_cv_val_fmed_sgd.h5\n",
            "Epoch 2/1000\n",
            "312/312 [==============================] - 43s 137ms/step - loss: 0.6712 - acc: 0.5984 - sensitivity: 0.9433 - specificity: 0.0785 - fmed: 0.1301 - f1: 0.7343 - val_loss: 0.6548 - val_acc: 0.6094 - val_sensitivity: 0.9913 - val_specificity: 0.0351 - val_fmed: 0.0628 - val_f1: 0.7515\n",
            "\n",
            "Epoch 00002: val_fmed improved from 0.00000 to 0.06284, saving model to /content/gdrive/My Drive/Data Scientist/breast_cancer/data/nn_best_model_cv_val_fmed_sgd.h5\n",
            "Epoch 3/1000\n",
            "312/312 [==============================] - 45s 144ms/step - loss: 0.6566 - acc: 0.6226 - sensitivity: 0.9422 - specificity: 0.1424 - fmed: 0.2323 - f1: 0.7461 - val_loss: 0.6569 - val_acc: 0.6304 - val_sensitivity: 0.9962 - val_specificity: 0.0886 - val_fmed: 0.1552 - val_f1: 0.7611\n",
            "\n",
            "Epoch 00003: val_fmed improved from 0.06284 to 0.15521, saving model to /content/gdrive/My Drive/Data Scientist/breast_cancer/data/nn_best_model_cv_val_fmed_sgd.h5\n",
            "Epoch 4/1000\n",
            "312/312 [==============================] - 44s 140ms/step - loss: 0.6485 - acc: 0.6339 - sensitivity: 0.9336 - specificity: 0.1907 - fmed: 0.2928 - f1: 0.7492 - val_loss: 0.6464 - val_acc: 0.6354 - val_sensitivity: 0.9689 - val_specificity: 0.1346 - val_fmed: 0.2227 - val_f1: 0.7600\n",
            "\n",
            "Epoch 00004: val_fmed improved from 0.15521 to 0.22267, saving model to /content/gdrive/My Drive/Data Scientist/breast_cancer/data/nn_best_model_cv_val_fmed_sgd.h5\n",
            "Epoch 5/1000\n",
            "312/312 [==============================] - 44s 141ms/step - loss: 0.6394 - acc: 0.6490 - sensitivity: 0.9394 - specificity: 0.2116 - fmed: 0.3255 - f1: 0.7593 - val_loss: 0.6397 - val_acc: 0.6381 - val_sensitivity: 0.9525 - val_specificity: 0.1633 - val_fmed: 0.2648 - val_f1: 0.7563\n",
            "\n",
            "Epoch 00005: val_fmed improved from 0.22267 to 0.26482, saving model to /content/gdrive/My Drive/Data Scientist/breast_cancer/data/nn_best_model_cv_val_fmed_sgd.h5\n",
            "Epoch 6/1000\n",
            "312/312 [==============================] - 45s 143ms/step - loss: 0.6342 - acc: 0.6518 - sensitivity: 0.9309 - specificity: 0.2392 - fmed: 0.3563 - f1: 0.7566 - val_loss: 0.6490 - val_acc: 0.6315 - val_sensitivity: 0.9587 - val_specificity: 0.1366 - val_fmed: 0.2288 - val_f1: 0.7548\n",
            "\n",
            "Epoch 00006: val_fmed did not improve from 0.26482\n",
            "Epoch 7/1000\n",
            "312/312 [==============================] - 47s 151ms/step - loss: 0.6305 - acc: 0.6545 - sensitivity: 0.9242 - specificity: 0.2492 - fmed: 0.3702 - f1: 0.7585 - val_loss: 0.6247 - val_acc: 0.6445 - val_sensitivity: 0.9732 - val_specificity: 0.1512 - val_fmed: 0.2500 - val_f1: 0.7653\n",
            "\n",
            "Epoch 00007: val_fmed did not improve from 0.26482\n",
            "Epoch 8/1000\n",
            "312/312 [==============================] - 44s 141ms/step - loss: 0.6229 - acc: 0.6532 - sensitivity: 0.9172 - specificity: 0.2620 - fmed: 0.3850 - f1: 0.7554 - val_loss: 0.6172 - val_acc: 0.6484 - val_sensitivity: 0.9500 - val_specificity: 0.1960 - val_fmed: 0.3136 - val_f1: 0.7625\n",
            "\n",
            "Epoch 00008: val_fmed improved from 0.26482 to 0.31357, saving model to /content/gdrive/My Drive/Data Scientist/breast_cancer/data/nn_best_model_cv_val_fmed_sgd.h5\n",
            "Epoch 9/1000\n",
            "312/312 [==============================] - 44s 141ms/step - loss: 0.6175 - acc: 0.6609 - sensitivity: 0.9217 - specificity: 0.2734 - fmed: 0.3984 - f1: 0.7610 - val_loss: 0.6232 - val_acc: 0.6611 - val_sensitivity: 0.9450 - val_specificity: 0.2425 - val_fmed: 0.3723 - val_f1: 0.7667\n",
            "\n",
            "Epoch 00009: val_fmed improved from 0.31357 to 0.37230, saving model to /content/gdrive/My Drive/Data Scientist/breast_cancer/data/nn_best_model_cv_val_fmed_sgd.h5\n",
            "Epoch 10/1000\n",
            "312/312 [==============================] - 45s 144ms/step - loss: 0.6144 - acc: 0.6677 - sensitivity: 0.9154 - specificity: 0.2983 - fmed: 0.4204 - f1: 0.7632 - val_loss: 0.6146 - val_acc: 0.6602 - val_sensitivity: 0.9321 - val_specificity: 0.2495 - val_fmed: 0.3795 - val_f1: 0.7665\n",
            "\n",
            "Epoch 00010: val_fmed improved from 0.37230 to 0.37949, saving model to /content/gdrive/My Drive/Data Scientist/breast_cancer/data/nn_best_model_cv_val_fmed_sgd.h5\n",
            "Epoch 11/1000\n",
            "312/312 [==============================] - 42s 135ms/step - loss: 0.6062 - acc: 0.6732 - sensitivity: 0.9068 - specificity: 0.3268 - fmed: 0.4559 - f1: 0.7650 - val_loss: 0.6198 - val_acc: 0.6522 - val_sensitivity: 0.9703 - val_specificity: 0.1758 - val_fmed: 0.2831 - val_f1: 0.7684\n",
            "\n",
            "Epoch 00011: val_fmed did not improve from 0.37949\n",
            "Epoch 12/1000\n",
            "312/312 [==============================] - 44s 141ms/step - loss: 0.6012 - acc: 0.6737 - sensitivity: 0.8968 - specificity: 0.3406 - fmed: 0.4686 - f1: 0.7625 - val_loss: 0.5949 - val_acc: 0.6497 - val_sensitivity: 0.9516 - val_specificity: 0.2033 - val_fmed: 0.3250 - val_f1: 0.7631\n",
            "\n",
            "Epoch 00012: val_fmed did not improve from 0.37949\n",
            "Epoch 13/1000\n",
            "312/312 [==============================] - 41s 130ms/step - loss: 0.5882 - acc: 0.6809 - sensitivity: 0.8882 - specificity: 0.3747 - fmed: 0.4945 - f1: 0.7656 - val_loss: 0.6007 - val_acc: 0.6598 - val_sensitivity: 0.9500 - val_specificity: 0.2219 - val_fmed: 0.3519 - val_f1: 0.7679\n",
            "\n",
            "Epoch 00013: val_fmed did not improve from 0.37949\n",
            "Epoch 14/1000\n",
            "312/312 [==============================] - 43s 138ms/step - loss: 0.5769 - acc: 0.6966 - sensitivity: 0.8696 - specificity: 0.4434 - fmed: 0.5601 - f1: 0.7690 - val_loss: 0.5658 - val_acc: 0.6979 - val_sensitivity: 0.9109 - val_specificity: 0.3648 - val_fmed: 0.5007 - val_f1: 0.7793\n",
            "\n",
            "Epoch 00014: val_fmed improved from 0.37949 to 0.50067, saving model to /content/gdrive/My Drive/Data Scientist/breast_cancer/data/nn_best_model_cv_val_fmed_sgd.h5\n",
            "Epoch 15/1000\n",
            "312/312 [==============================] - 41s 131ms/step - loss: 0.5692 - acc: 0.6948 - sensitivity: 0.8445 - specificity: 0.4782 - fmed: 0.5770 - f1: 0.7627 - val_loss: 0.5490 - val_acc: 0.7033 - val_sensitivity: 0.8720 - val_specificity: 0.4316 - val_fmed: 0.5611 - val_f1: 0.7775\n",
            "\n",
            "Epoch 00015: val_fmed improved from 0.50067 to 0.56109, saving model to /content/gdrive/My Drive/Data Scientist/breast_cancer/data/nn_best_model_cv_val_fmed_sgd.h5\n",
            "Epoch 16/1000\n",
            "312/312 [==============================] - 42s 134ms/step - loss: 0.5391 - acc: 0.7200 - sensitivity: 0.8465 - specificity: 0.5326 - fmed: 0.6264 - f1: 0.7790 - val_loss: 0.5377 - val_acc: 0.7122 - val_sensitivity: 0.7034 - val_specificity: 0.7182 - val_fmed: 0.7033 - val_f1: 0.7396\n",
            "\n",
            "Epoch 00016: val_fmed improved from 0.56109 to 0.70325, saving model to /content/gdrive/My Drive/Data Scientist/breast_cancer/data/nn_best_model_cv_val_fmed_sgd.h5\n",
            "Epoch 17/1000\n",
            "312/312 [==============================] - 43s 139ms/step - loss: 0.5282 - acc: 0.7307 - sensitivity: 0.8343 - specificity: 0.5828 - fmed: 0.6636 - f1: 0.7817 - val_loss: 0.4977 - val_acc: 0.7494 - val_sensitivity: 0.7756 - val_specificity: 0.7044 - val_fmed: 0.7263 - val_f1: 0.7840\n",
            "\n",
            "Epoch 00017: val_fmed improved from 0.70325 to 0.72635, saving model to /content/gdrive/My Drive/Data Scientist/breast_cancer/data/nn_best_model_cv_val_fmed_sgd.h5\n",
            "Epoch 18/1000\n",
            "312/312 [==============================] - 42s 134ms/step - loss: 0.5130 - acc: 0.7390 - sensitivity: 0.8352 - specificity: 0.5982 - fmed: 0.6694 - f1: 0.7875 - val_loss: 0.5423 - val_acc: 0.7148 - val_sensitivity: 0.9056 - val_specificity: 0.4258 - val_fmed: 0.5647 - val_f1: 0.7915\n",
            "\n",
            "Epoch 00018: val_fmed did not improve from 0.72635\n",
            "Epoch 19/1000\n",
            "312/312 [==============================] - 41s 130ms/step - loss: 0.4949 - acc: 0.7534 - sensitivity: 0.8396 - specificity: 0.6326 - fmed: 0.6939 - f1: 0.7995 - val_loss: 0.5011 - val_acc: 0.7327 - val_sensitivity: 0.7041 - val_specificity: 0.7748 - val_fmed: 0.7244 - val_f1: 0.7528\n",
            "\n",
            "Epoch 00019: val_fmed did not improve from 0.72635\n",
            "Epoch 20/1000\n",
            "312/312 [==============================] - 41s 133ms/step - loss: 0.4868 - acc: 0.7638 - sensitivity: 0.8418 - specificity: 0.6512 - fmed: 0.7127 - f1: 0.8058 - val_loss: 0.4632 - val_acc: 0.7474 - val_sensitivity: 0.8434 - val_specificity: 0.6004 - val_fmed: 0.6901 - val_f1: 0.7979\n",
            "\n",
            "Epoch 00020: val_fmed did not improve from 0.72635\n",
            "Epoch 21/1000\n",
            "312/312 [==============================] - 42s 135ms/step - loss: 0.4682 - acc: 0.7705 - sensitivity: 0.8426 - specificity: 0.6681 - fmed: 0.7228 - f1: 0.8108 - val_loss: 0.4689 - val_acc: 0.7711 - val_sensitivity: 0.8215 - val_specificity: 0.6998 - val_fmed: 0.7474 - val_f1: 0.8083\n",
            "\n",
            "Epoch 00021: val_fmed improved from 0.72635 to 0.74744, saving model to /content/gdrive/My Drive/Data Scientist/breast_cancer/data/nn_best_model_cv_val_fmed_sgd.h5\n",
            "Epoch 22/1000\n",
            "312/312 [==============================] - 43s 139ms/step - loss: 0.4493 - acc: 0.7858 - sensitivity: 0.8348 - specificity: 0.7145 - fmed: 0.7514 - f1: 0.8188 - val_loss: 0.4876 - val_acc: 0.7383 - val_sensitivity: 0.9107 - val_specificity: 0.4694 - val_fmed: 0.6050 - val_f1: 0.8025\n",
            "\n",
            "Epoch 00022: val_fmed did not improve from 0.74744\n",
            "Epoch 23/1000\n",
            "312/312 [==============================] - 43s 136ms/step - loss: 0.4417 - acc: 0.7931 - sensitivity: 0.8492 - specificity: 0.7130 - fmed: 0.7546 - f1: 0.8269 - val_loss: 0.4395 - val_acc: 0.7749 - val_sensitivity: 0.8175 - val_specificity: 0.7126 - val_fmed: 0.7516 - val_f1: 0.8106\n",
            "\n",
            "Epoch 00023: val_fmed improved from 0.74744 to 0.75160, saving model to /content/gdrive/My Drive/Data Scientist/breast_cancer/data/nn_best_model_cv_val_fmed_sgd.h5\n",
            "Epoch 24/1000\n",
            "312/312 [==============================] - 41s 131ms/step - loss: 0.4265 - acc: 0.8058 - sensitivity: 0.8582 - specificity: 0.7301 - fmed: 0.7737 - f1: 0.8371 - val_loss: 0.4394 - val_acc: 0.7878 - val_sensitivity: 0.8990 - val_specificity: 0.6177 - val_fmed: 0.7191 - val_f1: 0.8340\n",
            "\n",
            "Epoch 00024: val_fmed did not improve from 0.75160\n",
            "Epoch 25/1000\n",
            "312/312 [==============================] - 41s 132ms/step - loss: 0.3960 - acc: 0.8268 - sensitivity: 0.8666 - specificity: 0.7697 - fmed: 0.8024 - f1: 0.8530 - val_loss: 0.5757 - val_acc: 0.7084 - val_sensitivity: 0.5388 - val_specificity: 0.9666 - val_fmed: 0.6854 - val_f1: 0.6838\n",
            "\n",
            "Epoch 00025: val_fmed did not improve from 0.75160\n",
            "Epoch 26/1000\n",
            "312/312 [==============================] - 41s 130ms/step - loss: 0.3931 - acc: 0.8253 - sensitivity: 0.8739 - specificity: 0.7536 - fmed: 0.7949 - f1: 0.8529 - val_loss: 0.4111 - val_acc: 0.7982 - val_sensitivity: 0.8539 - val_specificity: 0.7216 - val_fmed: 0.7752 - val_f1: 0.8330\n",
            "\n",
            "Epoch 00026: val_fmed improved from 0.75160 to 0.77516, saving model to /content/gdrive/My Drive/Data Scientist/breast_cancer/data/nn_best_model_cv_val_fmed_sgd.h5\n",
            "Epoch 27/1000\n",
            "312/312 [==============================] - 41s 133ms/step - loss: 0.3833 - acc: 0.8305 - sensitivity: 0.8747 - specificity: 0.7663 - fmed: 0.8009 - f1: 0.8568 - val_loss: 0.3733 - val_acc: 0.8171 - val_sensitivity: 0.9163 - val_specificity: 0.6738 - val_fmed: 0.7709 - val_f1: 0.8554\n",
            "\n",
            "Epoch 00027: val_fmed did not improve from 0.77516\n",
            "Epoch 28/1000\n",
            "312/312 [==============================] - 42s 134ms/step - loss: 0.3699 - acc: 0.8370 - sensitivity: 0.8888 - specificity: 0.7620 - fmed: 0.8063 - f1: 0.8638 - val_loss: 0.4200 - val_acc: 0.7891 - val_sensitivity: 0.8451 - val_specificity: 0.6982 - val_fmed: 0.7527 - val_f1: 0.8265\n",
            "\n",
            "Epoch 00028: val_fmed did not improve from 0.77516\n",
            "Epoch 29/1000\n",
            "312/312 [==============================] - 42s 135ms/step - loss: 0.3546 - acc: 0.8488 - sensitivity: 0.8937 - specificity: 0.7838 - fmed: 0.8224 - f1: 0.8739 - val_loss: 0.3709 - val_acc: 0.8427 - val_sensitivity: 0.8552 - val_specificity: 0.8165 - val_fmed: 0.8283 - val_f1: 0.8649\n",
            "\n",
            "Epoch 00029: val_fmed improved from 0.77516 to 0.82833, saving model to /content/gdrive/My Drive/Data Scientist/breast_cancer/data/nn_best_model_cv_val_fmed_sgd.h5\n",
            "Epoch 30/1000\n",
            "312/312 [==============================] - 42s 135ms/step - loss: 0.3499 - acc: 0.8493 - sensitivity: 0.8977 - specificity: 0.7791 - fmed: 0.8210 - f1: 0.8751 - val_loss: 0.3912 - val_acc: 0.8138 - val_sensitivity: 0.9143 - val_specificity: 0.6714 - val_fmed: 0.7654 - val_f1: 0.8525\n",
            "\n",
            "Epoch 00030: val_fmed did not improve from 0.82833\n",
            "Epoch 31/1000\n",
            "312/312 [==============================] - 41s 131ms/step - loss: 0.3447 - acc: 0.8575 - sensitivity: 0.8967 - specificity: 0.8020 - fmed: 0.8358 - f1: 0.8785 - val_loss: 0.3774 - val_acc: 0.8402 - val_sensitivity: 0.8221 - val_specificity: 0.8672 - val_fmed: 0.8392 - val_f1: 0.8587\n",
            "\n",
            "Epoch 00031: val_fmed improved from 0.82833 to 0.83917, saving model to /content/gdrive/My Drive/Data Scientist/breast_cancer/data/nn_best_model_cv_val_fmed_sgd.h5\n",
            "Epoch 32/1000\n",
            "312/312 [==============================] - 45s 145ms/step - loss: 0.3268 - acc: 0.8568 - sensitivity: 0.8943 - specificity: 0.8030 - fmed: 0.8342 - f1: 0.8799 - val_loss: 0.3293 - val_acc: 0.8451 - val_sensitivity: 0.8562 - val_specificity: 0.8298 - val_fmed: 0.8363 - val_f1: 0.8676\n",
            "\n",
            "Epoch 00032: val_fmed did not improve from 0.83917\n",
            "Epoch 33/1000\n",
            "312/312 [==============================] - 45s 143ms/step - loss: 0.3061 - acc: 0.8728 - sensitivity: 0.9052 - specificity: 0.8233 - fmed: 0.8522 - f1: 0.8925 - val_loss: 0.3398 - val_acc: 0.8517 - val_sensitivity: 0.8713 - val_specificity: 0.8243 - val_fmed: 0.8434 - val_f1: 0.8754\n",
            "\n",
            "Epoch 00033: val_fmed improved from 0.83917 to 0.84344, saving model to /content/gdrive/My Drive/Data Scientist/breast_cancer/data/nn_best_model_cv_val_fmed_sgd.h5\n",
            "Epoch 34/1000\n",
            "312/312 [==============================] - 43s 139ms/step - loss: 0.3084 - acc: 0.8718 - sensitivity: 0.9084 - specificity: 0.8173 - fmed: 0.8499 - f1: 0.8912 - val_loss: 0.3102 - val_acc: 0.8685 - val_sensitivity: 0.9276 - val_specificity: 0.7758 - val_fmed: 0.8392 - val_f1: 0.8944\n",
            "\n",
            "Epoch 00034: val_fmed did not improve from 0.84344\n",
            "Epoch 35/1000\n",
            "312/312 [==============================] - 44s 140ms/step - loss: 0.2846 - acc: 0.8839 - sensitivity: 0.9140 - specificity: 0.8384 - fmed: 0.8645 - f1: 0.9018 - val_loss: 0.3313 - val_acc: 0.8453 - val_sensitivity: 0.8711 - val_specificity: 0.8025 - val_fmed: 0.8302 - val_f1: 0.8682\n",
            "\n",
            "Epoch 00035: val_fmed did not improve from 0.84344\n",
            "Epoch 36/1000\n",
            "312/312 [==============================] - 46s 147ms/step - loss: 0.2916 - acc: 0.8795 - sensitivity: 0.9104 - specificity: 0.8329 - fmed: 0.8594 - f1: 0.8980 - val_loss: 0.3338 - val_acc: 0.8398 - val_sensitivity: 0.9346 - val_specificity: 0.7034 - val_fmed: 0.7928 - val_f1: 0.8734\n",
            "\n",
            "Epoch 00036: val_fmed did not improve from 0.84344\n",
            "Epoch 37/1000\n",
            "312/312 [==============================] - 43s 139ms/step - loss: 0.2744 - acc: 0.8855 - sensitivity: 0.9144 - specificity: 0.8458 - fmed: 0.8704 - f1: 0.9034 - val_loss: 0.3182 - val_acc: 0.8542 - val_sensitivity: 0.8887 - val_specificity: 0.8022 - val_fmed: 0.8383 - val_f1: 0.8779\n",
            "\n",
            "Epoch 00037: val_fmed did not improve from 0.84344\n",
            "Epoch 38/1000\n",
            "312/312 [==============================] - 45s 144ms/step - loss: 0.2675 - acc: 0.8947 - sensitivity: 0.9226 - specificity: 0.8548 - fmed: 0.8791 - f1: 0.9112 - val_loss: 0.3028 - val_acc: 0.8620 - val_sensitivity: 0.8781 - val_specificity: 0.8342 - val_fmed: 0.8510 - val_f1: 0.8814\n",
            "\n",
            "Epoch 00038: val_fmed improved from 0.84344 to 0.85102, saving model to /content/gdrive/My Drive/Data Scientist/breast_cancer/data/nn_best_model_cv_val_fmed_sgd.h5\n",
            "Epoch 39/1000\n",
            "312/312 [==============================] - 46s 147ms/step - loss: 0.2707 - acc: 0.8937 - sensitivity: 0.9240 - specificity: 0.8483 - fmed: 0.8732 - f1: 0.9106 - val_loss: 0.2875 - val_acc: 0.8798 - val_sensitivity: 0.8584 - val_specificity: 0.9160 - val_fmed: 0.8822 - val_f1: 0.8937\n",
            "\n",
            "Epoch 00039: val_fmed improved from 0.85102 to 0.88222, saving model to /content/gdrive/My Drive/Data Scientist/breast_cancer/data/nn_best_model_cv_val_fmed_sgd.h5\n",
            "Epoch 40/1000\n",
            "312/312 [==============================] - 44s 140ms/step - loss: 0.2586 - acc: 0.8997 - sensitivity: 0.9260 - specificity: 0.8620 - fmed: 0.8853 - f1: 0.9156 - val_loss: 0.2511 - val_acc: 0.8893 - val_sensitivity: 0.9058 - val_specificity: 0.8640 - val_fmed: 0.8791 - val_f1: 0.9069\n",
            "\n",
            "Epoch 00040: val_fmed did not improve from 0.88222\n",
            "Epoch 41/1000\n",
            "312/312 [==============================] - 44s 141ms/step - loss: 0.2447 - acc: 0.9039 - sensitivity: 0.9272 - specificity: 0.8734 - fmed: 0.8936 - f1: 0.9180 - val_loss: 0.3213 - val_acc: 0.8504 - val_sensitivity: 0.8135 - val_specificity: 0.9038 - val_fmed: 0.8533 - val_f1: 0.8619\n",
            "\n",
            "Epoch 00041: val_fmed did not improve from 0.88222\n",
            "Epoch 42/1000\n",
            "312/312 [==============================] - 43s 139ms/step - loss: 0.2341 - acc: 0.9111 - sensitivity: 0.9344 - specificity: 0.8732 - fmed: 0.8961 - f1: 0.9254 - val_loss: 0.2856 - val_acc: 0.8789 - val_sensitivity: 0.9121 - val_specificity: 0.8342 - val_fmed: 0.8659 - val_f1: 0.8976\n",
            "\n",
            "Epoch 00042: val_fmed did not improve from 0.88222\n",
            "Epoch 43/1000\n",
            "312/312 [==============================] - 46s 148ms/step - loss: 0.2270 - acc: 0.9117 - sensitivity: 0.9333 - specificity: 0.8768 - fmed: 0.8977 - f1: 0.9253 - val_loss: 0.2599 - val_acc: 0.8951 - val_sensitivity: 0.9255 - val_specificity: 0.8473 - val_fmed: 0.8796 - val_f1: 0.9121\n",
            "\n",
            "Epoch 00043: val_fmed did not improve from 0.88222\n",
            "Epoch 44/1000\n",
            "312/312 [==============================] - 43s 136ms/step - loss: 0.2293 - acc: 0.9106 - sensitivity: 0.9398 - specificity: 0.8715 - fmed: 0.8975 - f1: 0.9251 - val_loss: 0.2051 - val_acc: 0.9141 - val_sensitivity: 0.9269 - val_specificity: 0.8988 - val_fmed: 0.9100 - val_f1: 0.9266\n",
            "\n",
            "Epoch 00044: val_fmed improved from 0.88222 to 0.90998, saving model to /content/gdrive/My Drive/Data Scientist/breast_cancer/data/nn_best_model_cv_val_fmed_sgd.h5\n",
            "Epoch 45/1000\n",
            "312/312 [==============================] - 43s 138ms/step - loss: 0.2289 - acc: 0.9137 - sensitivity: 0.9360 - specificity: 0.8809 - fmed: 0.9011 - f1: 0.9269 - val_loss: 0.2273 - val_acc: 0.9003 - val_sensitivity: 0.9212 - val_specificity: 0.8662 - val_fmed: 0.8889 - val_f1: 0.9162\n",
            "\n",
            "Epoch 00045: val_fmed did not improve from 0.90998\n",
            "Epoch 46/1000\n",
            "312/312 [==============================] - 45s 144ms/step - loss: 0.2076 - acc: 0.9189 - sensitivity: 0.9411 - specificity: 0.8875 - fmed: 0.9073 - f1: 0.9312 - val_loss: 0.3274 - val_acc: 0.8411 - val_sensitivity: 0.9717 - val_specificity: 0.6446 - val_fmed: 0.7671 - val_f1: 0.8768\n",
            "\n",
            "Epoch 00046: val_fmed did not improve from 0.90998\n",
            "Epoch 47/1000\n",
            "312/312 [==============================] - 44s 139ms/step - loss: 0.2148 - acc: 0.9176 - sensitivity: 0.9390 - specificity: 0.8873 - fmed: 0.9064 - f1: 0.9296 - val_loss: 0.2251 - val_acc: 0.9041 - val_sensitivity: 0.9388 - val_specificity: 0.8519 - val_fmed: 0.8907 - val_f1: 0.9206\n",
            "\n",
            "Epoch 00047: val_fmed did not improve from 0.90998\n",
            "Epoch 48/1000\n",
            "312/312 [==============================] - 45s 145ms/step - loss: 0.1956 - acc: 0.9234 - sensitivity: 0.9424 - specificity: 0.8993 - fmed: 0.9151 - f1: 0.9340 - val_loss: 0.2240 - val_acc: 0.8906 - val_sensitivity: 0.9202 - val_specificity: 0.8409 - val_fmed: 0.8736 - val_f1: 0.9086\n",
            "\n",
            "Epoch 00048: val_fmed did not improve from 0.90998\n",
            "Epoch 49/1000\n",
            "312/312 [==============================] - 45s 143ms/step - loss: 0.1959 - acc: 0.9242 - sensitivity: 0.9435 - specificity: 0.8955 - fmed: 0.9133 - f1: 0.9361 - val_loss: 0.2661 - val_acc: 0.9015 - val_sensitivity: 0.8545 - val_specificity: 0.9695 - val_fmed: 0.9045 - val_f1: 0.9089\n",
            "\n",
            "Epoch 00049: val_fmed did not improve from 0.90998\n",
            "Epoch 50/1000\n",
            "312/312 [==============================] - 45s 144ms/step - loss: 0.1933 - acc: 0.9282 - sensitivity: 0.9422 - specificity: 0.9095 - fmed: 0.9212 - f1: 0.9384 - val_loss: 0.2517 - val_acc: 0.8815 - val_sensitivity: 0.9703 - val_specificity: 0.7508 - val_fmed: 0.8410 - val_f1: 0.9053\n",
            "\n",
            "Epoch 00050: val_fmed did not improve from 0.90998\n",
            "Epoch 51/1000\n",
            "312/312 [==============================] - 44s 141ms/step - loss: 0.1976 - acc: 0.9233 - sensitivity: 0.9432 - specificity: 0.8928 - fmed: 0.9087 - f1: 0.9344 - val_loss: 0.2346 - val_acc: 0.9015 - val_sensitivity: 0.9401 - val_specificity: 0.8440 - val_fmed: 0.8850 - val_f1: 0.9171\n",
            "\n",
            "Epoch 00051: val_fmed did not improve from 0.90998\n",
            "Epoch 52/1000\n",
            "312/312 [==============================] - 44s 141ms/step - loss: 0.1900 - acc: 0.9270 - sensitivity: 0.9405 - specificity: 0.9109 - fmed: 0.9203 - f1: 0.9374 - val_loss: 0.2174 - val_acc: 0.9128 - val_sensitivity: 0.9228 - val_specificity: 0.9016 - val_fmed: 0.9082 - val_f1: 0.9253\n",
            "\n",
            "Epoch 00052: val_fmed did not improve from 0.90998\n",
            "Epoch 53/1000\n",
            "312/312 [==============================] - 45s 143ms/step - loss: 0.1845 - acc: 0.9289 - sensitivity: 0.9404 - specificity: 0.9140 - fmed: 0.9214 - f1: 0.9385 - val_loss: 0.1970 - val_acc: 0.9130 - val_sensitivity: 0.9342 - val_specificity: 0.8791 - val_fmed: 0.9004 - val_f1: 0.9283\n",
            "\n",
            "Epoch 00053: val_fmed did not improve from 0.90998\n",
            "Epoch 54/1000\n",
            "312/312 [==============================] - 45s 145ms/step - loss: 0.1690 - acc: 0.9374 - sensitivity: 0.9514 - specificity: 0.9176 - fmed: 0.9303 - f1: 0.9469 - val_loss: 0.1774 - val_acc: 0.9310 - val_sensitivity: 0.9622 - val_specificity: 0.8824 - val_fmed: 0.9173 - val_f1: 0.9420\n",
            "\n",
            "Epoch 00054: val_fmed improved from 0.90998 to 0.91732, saving model to /content/gdrive/My Drive/Data Scientist/breast_cancer/data/nn_best_model_cv_val_fmed_sgd.h5\n",
            "Epoch 55/1000\n",
            "312/312 [==============================] - 44s 141ms/step - loss: 0.1576 - acc: 0.9414 - sensitivity: 0.9569 - specificity: 0.9215 - fmed: 0.9350 - f1: 0.9507 - val_loss: 0.1831 - val_acc: 0.9271 - val_sensitivity: 0.9355 - val_specificity: 0.9133 - val_fmed: 0.9217 - val_f1: 0.9378\n",
            "\n",
            "Epoch 00055: val_fmed improved from 0.91732 to 0.92167, saving model to /content/gdrive/My Drive/Data Scientist/breast_cancer/data/nn_best_model_cv_val_fmed_sgd.h5\n",
            "Epoch 56/1000\n",
            "312/312 [==============================] - 43s 138ms/step - loss: 0.1482 - acc: 0.9435 - sensitivity: 0.9555 - specificity: 0.9268 - fmed: 0.9375 - f1: 0.9517 - val_loss: 0.3013 - val_acc: 0.8620 - val_sensitivity: 0.9788 - val_specificity: 0.6923 - val_fmed: 0.8016 - val_f1: 0.8920\n",
            "\n",
            "Epoch 00056: val_fmed did not improve from 0.92167\n",
            "Epoch 57/1000\n",
            "312/312 [==============================] - 46s 146ms/step - loss: 0.1658 - acc: 0.9376 - sensitivity: 0.9509 - specificity: 0.9198 - fmed: 0.9310 - f1: 0.9463 - val_loss: 0.1637 - val_acc: 0.9348 - val_sensitivity: 0.9137 - val_specificity: 0.9613 - val_fmed: 0.9356 - val_f1: 0.9413\n",
            "\n",
            "Epoch 00057: val_fmed improved from 0.92167 to 0.93557, saving model to /content/gdrive/My Drive/Data Scientist/breast_cancer/data/nn_best_model_cv_val_fmed_sgd.h5\n",
            "Epoch 58/1000\n",
            "312/312 [==============================] - 44s 142ms/step - loss: 0.1532 - acc: 0.9443 - sensitivity: 0.9555 - specificity: 0.9241 - fmed: 0.9353 - f1: 0.9520 - val_loss: 0.1902 - val_acc: 0.9076 - val_sensitivity: 0.9276 - val_specificity: 0.8826 - val_fmed: 0.9002 - val_f1: 0.9228\n",
            "\n",
            "Epoch 00058: val_fmed did not improve from 0.93557\n",
            "Epoch 59/1000\n",
            "312/312 [==============================] - 45s 144ms/step - loss: 0.1632 - acc: 0.9416 - sensitivity: 0.9532 - specificity: 0.9273 - fmed: 0.9357 - f1: 0.9501 - val_loss: 0.2023 - val_acc: 0.9130 - val_sensitivity: 0.9683 - val_specificity: 0.8336 - val_fmed: 0.8913 - val_f1: 0.9293\n",
            "\n",
            "Epoch 00059: val_fmed did not improve from 0.93557\n",
            "Epoch 60/1000\n",
            "312/312 [==============================] - 43s 139ms/step - loss: 0.1461 - acc: 0.9475 - sensitivity: 0.9602 - specificity: 0.9297 - fmed: 0.9412 - f1: 0.9555 - val_loss: 0.1666 - val_acc: 0.9362 - val_sensitivity: 0.9664 - val_specificity: 0.8871 - val_fmed: 0.9208 - val_f1: 0.9473\n",
            "\n",
            "Epoch 00060: val_fmed did not improve from 0.93557\n",
            "Epoch 61/1000\n",
            "312/312 [==============================] - 44s 141ms/step - loss: 0.1526 - acc: 0.9476 - sensitivity: 0.9581 - specificity: 0.9321 - fmed: 0.9401 - f1: 0.9550 - val_loss: 0.1568 - val_acc: 0.9450 - val_sensitivity: 0.9465 - val_specificity: 0.9387 - val_fmed: 0.9394 - val_f1: 0.9535\n",
            "\n",
            "Epoch 00061: val_fmed improved from 0.93557 to 0.93937, saving model to /content/gdrive/My Drive/Data Scientist/breast_cancer/data/nn_best_model_cv_val_fmed_sgd.h5\n",
            "Epoch 62/1000\n",
            "312/312 [==============================] - 45s 145ms/step - loss: 0.1355 - acc: 0.9486 - sensitivity: 0.9578 - specificity: 0.9345 - fmed: 0.9425 - f1: 0.9556 - val_loss: 0.3138 - val_acc: 0.8893 - val_sensitivity: 0.8492 - val_specificity: 0.9458 - val_fmed: 0.8922 - val_f1: 0.8995\n",
            "\n",
            "Epoch 00062: val_fmed did not improve from 0.93937\n",
            "Epoch 63/1000\n",
            "312/312 [==============================] - 43s 139ms/step - loss: 0.1374 - acc: 0.9473 - sensitivity: 0.9606 - specificity: 0.9280 - fmed: 0.9401 - f1: 0.9551 - val_loss: 0.5072 - val_acc: 0.8159 - val_sensitivity: 0.9974 - val_specificity: 0.5405 - val_fmed: 0.6925 - val_f1: 0.8650\n",
            "\n",
            "Epoch 00063: val_fmed did not improve from 0.93937\n",
            "Epoch 64/1000\n",
            "312/312 [==============================] - 46s 146ms/step - loss: 0.1322 - acc: 0.9501 - sensitivity: 0.9610 - specificity: 0.9317 - fmed: 0.9422 - f1: 0.9570 - val_loss: 0.1959 - val_acc: 0.9206 - val_sensitivity: 0.9548 - val_specificity: 0.8697 - val_fmed: 0.9064 - val_f1: 0.9353\n",
            "\n",
            "Epoch 00064: val_fmed did not improve from 0.93937\n",
            "Epoch 65/1000\n",
            "312/312 [==============================] - 44s 141ms/step - loss: 0.1347 - acc: 0.9508 - sensitivity: 0.9621 - specificity: 0.9349 - fmed: 0.9451 - f1: 0.9575 - val_loss: 0.1772 - val_acc: 0.9297 - val_sensitivity: 0.9618 - val_specificity: 0.8840 - val_fmed: 0.9173 - val_f1: 0.9421\n",
            "\n",
            "Epoch 00065: val_fmed did not improve from 0.93937\n",
            "Epoch 66/1000\n",
            "312/312 [==============================] - 42s 135ms/step - loss: 0.1307 - acc: 0.9527 - sensitivity: 0.9652 - specificity: 0.9350 - fmed: 0.9467 - f1: 0.9598 - val_loss: 0.1539 - val_acc: 0.9349 - val_sensitivity: 0.9430 - val_specificity: 0.9281 - val_fmed: 0.9333 - val_f1: 0.9420\n",
            "\n",
            "Epoch 00066: val_fmed did not improve from 0.93937\n",
            "Epoch 67/1000\n",
            "312/312 [==============================] - 41s 130ms/step - loss: 0.1300 - acc: 0.9519 - sensitivity: 0.9642 - specificity: 0.9340 - fmed: 0.9454 - f1: 0.9586 - val_loss: 0.1648 - val_acc: 0.9322 - val_sensitivity: 0.9175 - val_specificity: 0.9609 - val_fmed: 0.9355 - val_f1: 0.9406\n",
            "\n",
            "Epoch 00067: val_fmed did not improve from 0.93937\n",
            "Epoch 68/1000\n",
            "312/312 [==============================] - 41s 130ms/step - loss: 0.1242 - acc: 0.9552 - sensitivity: 0.9662 - specificity: 0.9381 - fmed: 0.9477 - f1: 0.9619 - val_loss: 0.1514 - val_acc: 0.9453 - val_sensitivity: 0.9567 - val_specificity: 0.9332 - val_fmed: 0.9433 - val_f1: 0.9550\n",
            "\n",
            "Epoch 00068: val_fmed improved from 0.93937 to 0.94326, saving model to /content/gdrive/My Drive/Data Scientist/breast_cancer/data/nn_best_model_cv_val_fmed_sgd.h5\n",
            "Epoch 69/1000\n",
            "312/312 [==============================] - 41s 131ms/step - loss: 0.1156 - acc: 0.9585 - sensitivity: 0.9690 - specificity: 0.9443 - fmed: 0.9539 - f1: 0.9642 - val_loss: 0.1409 - val_acc: 0.9463 - val_sensitivity: 0.9636 - val_specificity: 0.9224 - val_fmed: 0.9397 - val_f1: 0.9561\n",
            "\n",
            "Epoch 00069: val_fmed did not improve from 0.94326\n",
            "Epoch 70/1000\n",
            "312/312 [==============================] - 43s 136ms/step - loss: 0.1085 - acc: 0.9611 - sensitivity: 0.9702 - specificity: 0.9492 - fmed: 0.9571 - f1: 0.9667 - val_loss: 0.1590 - val_acc: 0.9401 - val_sensitivity: 0.9348 - val_specificity: 0.9492 - val_fmed: 0.9389 - val_f1: 0.9492\n",
            "\n",
            "Epoch 00070: val_fmed did not improve from 0.94326\n",
            "Epoch 71/1000\n",
            "312/312 [==============================] - 43s 138ms/step - loss: 0.1191 - acc: 0.9556 - sensitivity: 0.9686 - specificity: 0.9375 - fmed: 0.9496 - f1: 0.9620 - val_loss: 0.1567 - val_acc: 0.9412 - val_sensitivity: 0.9716 - val_specificity: 0.8889 - val_fmed: 0.9258 - val_f1: 0.9533\n",
            "\n",
            "Epoch 00071: val_fmed did not improve from 0.94326\n",
            "Epoch 72/1000\n",
            "312/312 [==============================] - 43s 137ms/step - loss: 0.1109 - acc: 0.9601 - sensitivity: 0.9686 - specificity: 0.9468 - fmed: 0.9546 - f1: 0.9656 - val_loss: 0.1378 - val_acc: 0.9401 - val_sensitivity: 0.9606 - val_specificity: 0.9135 - val_fmed: 0.9329 - val_f1: 0.9510\n",
            "\n",
            "Epoch 00072: val_fmed did not improve from 0.94326\n",
            "Epoch 73/1000\n",
            "312/312 [==============================] - 43s 137ms/step - loss: 0.1116 - acc: 0.9601 - sensitivity: 0.9726 - specificity: 0.9411 - fmed: 0.9542 - f1: 0.9664 - val_loss: 0.1121 - val_acc: 0.9540 - val_sensitivity: 0.9618 - val_specificity: 0.9397 - val_fmed: 0.9480 - val_f1: 0.9621\n",
            "\n",
            "Epoch 00073: val_fmed improved from 0.94326 to 0.94796, saving model to /content/gdrive/My Drive/Data Scientist/breast_cancer/data/nn_best_model_cv_val_fmed_sgd.h5\n",
            "Epoch 74/1000\n",
            "312/312 [==============================] - 44s 141ms/step - loss: 0.1051 - acc: 0.9614 - sensitivity: 0.9720 - specificity: 0.9459 - fmed: 0.9563 - f1: 0.9675 - val_loss: 0.2052 - val_acc: 0.9154 - val_sensitivity: 0.9831 - val_specificity: 0.8167 - val_fmed: 0.8882 - val_f1: 0.9316\n",
            "\n",
            "Epoch 00074: val_fmed did not improve from 0.94796\n",
            "Epoch 75/1000\n",
            "312/312 [==============================] - 42s 134ms/step - loss: 0.1026 - acc: 0.9627 - sensitivity: 0.9734 - specificity: 0.9475 - fmed: 0.9582 - f1: 0.9681 - val_loss: 0.1263 - val_acc: 0.9527 - val_sensitivity: 0.9651 - val_specificity: 0.9340 - val_fmed: 0.9469 - val_f1: 0.9601\n",
            "\n",
            "Epoch 00075: val_fmed did not improve from 0.94796\n",
            "Epoch 76/1000\n",
            "312/312 [==============================] - 41s 131ms/step - loss: 0.1018 - acc: 0.9649 - sensitivity: 0.9721 - specificity: 0.9554 - fmed: 0.9619 - f1: 0.9703 - val_loss: 0.1272 - val_acc: 0.9557 - val_sensitivity: 0.9536 - val_specificity: 0.9578 - val_fmed: 0.9539 - val_f1: 0.9630\n",
            "\n",
            "Epoch 00076: val_fmed improved from 0.94796 to 0.95390, saving model to /content/gdrive/My Drive/Data Scientist/breast_cancer/data/nn_best_model_cv_val_fmed_sgd.h5\n",
            "Epoch 77/1000\n",
            "312/312 [==============================] - 41s 131ms/step - loss: 0.1064 - acc: 0.9657 - sensitivity: 0.9729 - specificity: 0.9547 - fmed: 0.9616 - f1: 0.9705 - val_loss: 0.1437 - val_acc: 0.9399 - val_sensitivity: 0.9266 - val_specificity: 0.9637 - val_fmed: 0.9432 - val_f1: 0.9481\n",
            "\n",
            "Epoch 00077: val_fmed did not improve from 0.95390\n",
            "Epoch 78/1000\n",
            "312/312 [==============================] - 43s 137ms/step - loss: 0.0905 - acc: 0.9675 - sensitivity: 0.9784 - specificity: 0.9535 - fmed: 0.9639 - f1: 0.9723 - val_loss: 0.1822 - val_acc: 0.9284 - val_sensitivity: 0.9882 - val_specificity: 0.8367 - val_fmed: 0.9022 - val_f1: 0.9431\n",
            "\n",
            "Epoch 00078: val_fmed did not improve from 0.95390\n",
            "Epoch 79/1000\n",
            "312/312 [==============================] - 42s 134ms/step - loss: 0.0949 - acc: 0.9664 - sensitivity: 0.9784 - specificity: 0.9504 - fmed: 0.9621 - f1: 0.9712 - val_loss: 0.1724 - val_acc: 0.9246 - val_sensitivity: 0.9598 - val_specificity: 0.8655 - val_fmed: 0.9068 - val_f1: 0.9368\n",
            "\n",
            "Epoch 00079: val_fmed did not improve from 0.95390\n",
            "Epoch 80/1000\n",
            "312/312 [==============================] - 42s 135ms/step - loss: 0.1190 - acc: 0.9588 - sensitivity: 0.9683 - specificity: 0.9476 - fmed: 0.9545 - f1: 0.9649 - val_loss: 0.1086 - val_acc: 0.9596 - val_sensitivity: 0.9637 - val_specificity: 0.9495 - val_fmed: 0.9546 - val_f1: 0.9669\n",
            "\n",
            "Epoch 00080: val_fmed improved from 0.95390 to 0.95464, saving model to /content/gdrive/My Drive/Data Scientist/breast_cancer/data/nn_best_model_cv_val_fmed_sgd.h5\n",
            "Epoch 81/1000\n",
            "312/312 [==============================] - 43s 137ms/step - loss: 0.0977 - acc: 0.9681 - sensitivity: 0.9755 - specificity: 0.9560 - fmed: 0.9637 - f1: 0.9729 - val_loss: 0.1082 - val_acc: 0.9565 - val_sensitivity: 0.9798 - val_specificity: 0.9262 - val_fmed: 0.9506 - val_f1: 0.9642\n",
            "\n",
            "Epoch 00081: val_fmed did not improve from 0.95464\n",
            "Epoch 82/1000\n",
            "312/312 [==============================] - 42s 135ms/step - loss: 0.0956 - acc: 0.9675 - sensitivity: 0.9745 - specificity: 0.9564 - fmed: 0.9636 - f1: 0.9723 - val_loss: 0.1501 - val_acc: 0.9414 - val_sensitivity: 0.9554 - val_specificity: 0.9257 - val_fmed: 0.9374 - val_f1: 0.9503\n",
            "\n",
            "Epoch 00082: val_fmed did not improve from 0.95464\n",
            "Epoch 83/1000\n",
            "312/312 [==============================] - 40s 129ms/step - loss: 0.0934 - acc: 0.9673 - sensitivity: 0.9757 - specificity: 0.9543 - fmed: 0.9617 - f1: 0.9722 - val_loss: 0.1599 - val_acc: 0.9399 - val_sensitivity: 0.9477 - val_specificity: 0.9236 - val_fmed: 0.9334 - val_f1: 0.9487\n",
            "\n",
            "Epoch 00083: val_fmed did not improve from 0.95464\n",
            "Epoch 84/1000\n",
            "312/312 [==============================] - 40s 129ms/step - loss: 0.0907 - acc: 0.9690 - sensitivity: 0.9765 - specificity: 0.9581 - fmed: 0.9655 - f1: 0.9738 - val_loss: 0.1396 - val_acc: 0.9505 - val_sensitivity: 0.9579 - val_specificity: 0.9434 - val_fmed: 0.9488 - val_f1: 0.9582\n",
            "\n",
            "Epoch 00084: val_fmed did not improve from 0.95464\n",
            "Epoch 85/1000\n",
            "312/312 [==============================] - 42s 134ms/step - loss: 0.0935 - acc: 0.9669 - sensitivity: 0.9756 - specificity: 0.9557 - fmed: 0.9625 - f1: 0.9723 - val_loss: 0.0854 - val_acc: 0.9655 - val_sensitivity: 0.9731 - val_specificity: 0.9580 - val_fmed: 0.9648 - val_f1: 0.9709\n",
            "\n",
            "Epoch 00085: val_fmed improved from 0.95464 to 0.96484, saving model to /content/gdrive/My Drive/Data Scientist/breast_cancer/data/nn_best_model_cv_val_fmed_sgd.h5\n",
            "Epoch 86/1000\n",
            "312/312 [==============================] - 45s 143ms/step - loss: 0.0868 - acc: 0.9709 - sensitivity: 0.9782 - specificity: 0.9593 - fmed: 0.9668 - f1: 0.9751 - val_loss: 0.1495 - val_acc: 0.9440 - val_sensitivity: 0.9636 - val_specificity: 0.9151 - val_fmed: 0.9357 - val_f1: 0.9542\n",
            "\n",
            "Epoch 00086: val_fmed did not improve from 0.96484\n",
            "Epoch 87/1000\n",
            "312/312 [==============================] - 41s 131ms/step - loss: 0.1038 - acc: 0.9635 - sensitivity: 0.9700 - specificity: 0.9556 - fmed: 0.9603 - f1: 0.9687 - val_loss: 0.1099 - val_acc: 0.9604 - val_sensitivity: 0.9710 - val_specificity: 0.9464 - val_fmed: 0.9565 - val_f1: 0.9669\n",
            "\n",
            "Epoch 00087: val_fmed did not improve from 0.96484\n",
            "Epoch 88/1000\n",
            "312/312 [==============================] - 42s 134ms/step - loss: 0.0822 - acc: 0.9725 - sensitivity: 0.9781 - specificity: 0.9641 - fmed: 0.9697 - f1: 0.9761 - val_loss: 0.1114 - val_acc: 0.9544 - val_sensitivity: 0.9459 - val_specificity: 0.9668 - val_fmed: 0.9544 - val_f1: 0.9622\n",
            "\n",
            "Epoch 00088: val_fmed did not improve from 0.96484\n",
            "Epoch 89/1000\n",
            "312/312 [==============================] - 42s 134ms/step - loss: 0.0853 - acc: 0.9716 - sensitivity: 0.9771 - specificity: 0.9635 - fmed: 0.9687 - f1: 0.9756 - val_loss: 0.1667 - val_acc: 0.9437 - val_sensitivity: 0.9226 - val_specificity: 0.9776 - val_fmed: 0.9477 - val_f1: 0.9510\n",
            "\n",
            "Epoch 00089: val_fmed did not improve from 0.96484\n",
            "Epoch 90/1000\n",
            "312/312 [==============================] - 43s 136ms/step - loss: 0.0879 - acc: 0.9678 - sensitivity: 0.9764 - specificity: 0.9569 - fmed: 0.9646 - f1: 0.9718 - val_loss: 0.1542 - val_acc: 0.9479 - val_sensitivity: 0.9407 - val_specificity: 0.9601 - val_fmed: 0.9490 - val_f1: 0.9558\n",
            "\n",
            "Epoch 00090: val_fmed did not improve from 0.96484\n",
            "Epoch 91/1000\n",
            "312/312 [==============================] - 41s 133ms/step - loss: 0.0847 - acc: 0.9708 - sensitivity: 0.9778 - specificity: 0.9608 - fmed: 0.9676 - f1: 0.9751 - val_loss: 0.1210 - val_acc: 0.9527 - val_sensitivity: 0.9846 - val_specificity: 0.9025 - val_fmed: 0.9393 - val_f1: 0.9613\n",
            "\n",
            "Epoch 00091: val_fmed did not improve from 0.96484\n",
            "Epoch 92/1000\n",
            "312/312 [==============================] - 40s 128ms/step - loss: 0.0845 - acc: 0.9707 - sensitivity: 0.9765 - specificity: 0.9631 - fmed: 0.9675 - f1: 0.9753 - val_loss: 0.0830 - val_acc: 0.9661 - val_sensitivity: 0.9815 - val_specificity: 0.9435 - val_fmed: 0.9603 - val_f1: 0.9718\n",
            "\n",
            "Epoch 00092: val_fmed did not improve from 0.96484\n",
            "Epoch 93/1000\n",
            "312/312 [==============================] - 40s 130ms/step - loss: 0.0891 - acc: 0.9687 - sensitivity: 0.9774 - specificity: 0.9564 - fmed: 0.9643 - f1: 0.9729 - val_loss: 0.0977 - val_acc: 0.9655 - val_sensitivity: 0.9624 - val_specificity: 0.9733 - val_fmed: 0.9662 - val_f1: 0.9702\n",
            "\n",
            "Epoch 00093: val_fmed improved from 0.96484 to 0.96620, saving model to /content/gdrive/My Drive/Data Scientist/breast_cancer/data/nn_best_model_cv_val_fmed_sgd.h5\n",
            "Epoch 94/1000\n",
            "312/312 [==============================] - 40s 129ms/step - loss: 0.0739 - acc: 0.9759 - sensitivity: 0.9828 - specificity: 0.9662 - fmed: 0.9728 - f1: 0.9801 - val_loss: 0.1104 - val_acc: 0.9505 - val_sensitivity: 0.9652 - val_specificity: 0.9258 - val_fmed: 0.9433 - val_f1: 0.9586\n",
            "\n",
            "Epoch 00094: val_fmed did not improve from 0.96620\n",
            "Epoch 95/1000\n",
            "312/312 [==============================] - 40s 127ms/step - loss: 0.0804 - acc: 0.9736 - sensitivity: 0.9818 - specificity: 0.9607 - fmed: 0.9695 - f1: 0.9780 - val_loss: 0.0866 - val_acc: 0.9655 - val_sensitivity: 0.9602 - val_specificity: 0.9736 - val_fmed: 0.9652 - val_f1: 0.9712\n",
            "\n",
            "Epoch 00095: val_fmed did not improve from 0.96620\n",
            "Epoch 96/1000\n",
            "312/312 [==============================] - 41s 131ms/step - loss: 0.0721 - acc: 0.9748 - sensitivity: 0.9807 - specificity: 0.9664 - fmed: 0.9716 - f1: 0.9787 - val_loss: 0.1162 - val_acc: 0.9622 - val_sensitivity: 0.9588 - val_specificity: 0.9674 - val_fmed: 0.9616 - val_f1: 0.9673\n",
            "\n",
            "Epoch 00096: val_fmed did not improve from 0.96620\n",
            "Epoch 97/1000\n",
            "312/312 [==============================] - 40s 128ms/step - loss: 0.0752 - acc: 0.9757 - sensitivity: 0.9821 - specificity: 0.9638 - fmed: 0.9711 - f1: 0.9794 - val_loss: 0.1467 - val_acc: 0.9476 - val_sensitivity: 0.9807 - val_specificity: 0.9032 - val_fmed: 0.9375 - val_f1: 0.9562\n",
            "\n",
            "Epoch 00097: val_fmed did not improve from 0.96620\n",
            "Epoch 98/1000\n",
            "312/312 [==============================] - 39s 126ms/step - loss: 0.0707 - acc: 0.9777 - sensitivity: 0.9842 - specificity: 0.9676 - fmed: 0.9747 - f1: 0.9809 - val_loss: 0.0801 - val_acc: 0.9661 - val_sensitivity: 0.9763 - val_specificity: 0.9552 - val_fmed: 0.9644 - val_f1: 0.9706\n",
            "\n",
            "Epoch 00098: val_fmed did not improve from 0.96620\n",
            "Epoch 99/1000\n",
            "312/312 [==============================] - 40s 128ms/step - loss: 0.0741 - acc: 0.9755 - sensitivity: 0.9831 - specificity: 0.9649 - fmed: 0.9726 - f1: 0.9787 - val_loss: 0.0663 - val_acc: 0.9731 - val_sensitivity: 0.9797 - val_specificity: 0.9586 - val_fmed: 0.9669 - val_f1: 0.9774\n",
            "\n",
            "Epoch 00099: val_fmed improved from 0.96620 to 0.96686, saving model to /content/gdrive/My Drive/Data Scientist/breast_cancer/data/nn_best_model_cv_val_fmed_sgd.h5\n",
            "Epoch 100/1000\n",
            "312/312 [==============================] - 40s 127ms/step - loss: 0.0680 - acc: 0.9755 - sensitivity: 0.9821 - specificity: 0.9652 - fmed: 0.9722 - f1: 0.9791 - val_loss: 0.1045 - val_acc: 0.9622 - val_sensitivity: 0.9849 - val_specificity: 0.9264 - val_fmed: 0.9529 - val_f1: 0.9692\n",
            "\n",
            "Epoch 00100: val_fmed did not improve from 0.96686\n",
            "Epoch 101/1000\n",
            "312/312 [==============================] - 41s 133ms/step - loss: 0.0728 - acc: 0.9773 - sensitivity: 0.9834 - specificity: 0.9672 - fmed: 0.9733 - f1: 0.9809 - val_loss: 0.1238 - val_acc: 0.9514 - val_sensitivity: 0.9636 - val_specificity: 0.9325 - val_fmed: 0.9461 - val_f1: 0.9595\n",
            "\n",
            "Epoch 00101: val_fmed did not improve from 0.96686\n",
            "Epoch 102/1000\n",
            "312/312 [==============================] - 40s 127ms/step - loss: 0.0716 - acc: 0.9745 - sensitivity: 0.9829 - specificity: 0.9616 - fmed: 0.9702 - f1: 0.9787 - val_loss: 0.1073 - val_acc: 0.9622 - val_sensitivity: 0.9539 - val_specificity: 0.9728 - val_fmed: 0.9615 - val_f1: 0.9672\n",
            "\n",
            "Epoch 00102: val_fmed did not improve from 0.96686\n",
            "Epoch 103/1000\n",
            "312/312 [==============================] - 40s 129ms/step - loss: 0.0630 - acc: 0.9787 - sensitivity: 0.9856 - specificity: 0.9683 - fmed: 0.9758 - f1: 0.9819 - val_loss: 0.1099 - val_acc: 0.9565 - val_sensitivity: 0.9559 - val_specificity: 0.9578 - val_fmed: 0.9551 - val_f1: 0.9628\n",
            "\n",
            "Epoch 00103: val_fmed did not improve from 0.96686\n",
            "Epoch 104/1000\n",
            "312/312 [==============================] - 43s 138ms/step - loss: 0.0634 - acc: 0.9789 - sensitivity: 0.9830 - specificity: 0.9734 - fmed: 0.9771 - f1: 0.9818 - val_loss: 0.0875 - val_acc: 0.9687 - val_sensitivity: 0.9825 - val_specificity: 0.9445 - val_fmed: 0.9615 - val_f1: 0.9746\n",
            "\n",
            "Epoch 00104: val_fmed did not improve from 0.96686\n",
            "Epoch 105/1000\n",
            "312/312 [==============================] - 43s 137ms/step - loss: 0.0725 - acc: 0.9771 - sensitivity: 0.9822 - specificity: 0.9686 - fmed: 0.9740 - f1: 0.9806 - val_loss: 0.1094 - val_acc: 0.9655 - val_sensitivity: 0.9613 - val_specificity: 0.9727 - val_fmed: 0.9660 - val_f1: 0.9716\n",
            "\n",
            "Epoch 00105: val_fmed did not improve from 0.96686\n",
            "Epoch 106/1000\n",
            "312/312 [==============================] - 44s 140ms/step - loss: 0.0665 - acc: 0.9776 - sensitivity: 0.9834 - specificity: 0.9685 - fmed: 0.9747 - f1: 0.9804 - val_loss: 0.1193 - val_acc: 0.9544 - val_sensitivity: 0.9496 - val_specificity: 0.9580 - val_fmed: 0.9518 - val_f1: 0.9591\n",
            "\n",
            "Epoch 00106: val_fmed did not improve from 0.96686\n",
            "Epoch 107/1000\n",
            "312/312 [==============================] - 43s 138ms/step - loss: 0.0705 - acc: 0.9769 - sensitivity: 0.9829 - specificity: 0.9685 - fmed: 0.9743 - f1: 0.9802 - val_loss: 0.0749 - val_acc: 0.9706 - val_sensitivity: 0.9779 - val_specificity: 0.9555 - val_fmed: 0.9656 - val_f1: 0.9755\n",
            "\n",
            "Epoch 00107: val_fmed did not improve from 0.96686\n",
            "Epoch 108/1000\n",
            "312/312 [==============================] - 43s 138ms/step - loss: 0.0650 - acc: 0.9773 - sensitivity: 0.9835 - specificity: 0.9677 - fmed: 0.9742 - f1: 0.9807 - val_loss: 0.0844 - val_acc: 0.9648 - val_sensitivity: 0.9880 - val_specificity: 0.9291 - val_fmed: 0.9548 - val_f1: 0.9705\n",
            "\n",
            "Epoch 00108: val_fmed did not improve from 0.96686\n",
            "Epoch 109/1000\n",
            "312/312 [==============================] - 45s 144ms/step - loss: 0.0619 - acc: 0.9803 - sensitivity: 0.9860 - specificity: 0.9717 - fmed: 0.9778 - f1: 0.9834 - val_loss: 0.1033 - val_acc: 0.9680 - val_sensitivity: 0.9767 - val_specificity: 0.9551 - val_fmed: 0.9643 - val_f1: 0.9729\n",
            "\n",
            "Epoch 00109: val_fmed did not improve from 0.96686\n",
            "Epoch 110/1000\n",
            "312/312 [==============================] - 45s 145ms/step - loss: 0.0629 - acc: 0.9784 - sensitivity: 0.9833 - specificity: 0.9726 - fmed: 0.9769 - f1: 0.9813 - val_loss: 0.1047 - val_acc: 0.9596 - val_sensitivity: 0.9756 - val_specificity: 0.9379 - val_fmed: 0.9542 - val_f1: 0.9660\n",
            "\n",
            "Epoch 00110: val_fmed did not improve from 0.96686\n",
            "Epoch 111/1000\n",
            "312/312 [==============================] - 43s 139ms/step - loss: 0.0682 - acc: 0.9767 - sensitivity: 0.9802 - specificity: 0.9693 - fmed: 0.9730 - f1: 0.9798 - val_loss: 0.1478 - val_acc: 0.9488 - val_sensitivity: 0.9255 - val_specificity: 0.9857 - val_fmed: 0.9531 - val_f1: 0.9546\n",
            "\n",
            "Epoch 00111: val_fmed did not improve from 0.96686\n",
            "Epoch 112/1000\n",
            "312/312 [==============================] - 44s 140ms/step - loss: 0.0700 - acc: 0.9770 - sensitivity: 0.9833 - specificity: 0.9672 - fmed: 0.9738 - f1: 0.9805 - val_loss: 0.1174 - val_acc: 0.9570 - val_sensitivity: 0.9780 - val_specificity: 0.9236 - val_fmed: 0.9482 - val_f1: 0.9647\n",
            "\n",
            "Epoch 00112: val_fmed did not improve from 0.96686\n",
            "Epoch 113/1000\n",
            "312/312 [==============================] - 43s 137ms/step - loss: 0.0576 - acc: 0.9796 - sensitivity: 0.9851 - specificity: 0.9723 - fmed: 0.9776 - f1: 0.9826 - val_loss: 0.0747 - val_acc: 0.9783 - val_sensitivity: 0.9805 - val_specificity: 0.9735 - val_fmed: 0.9751 - val_f1: 0.9818\n",
            "\n",
            "Epoch 00113: val_fmed improved from 0.96686 to 0.97513, saving model to /content/gdrive/My Drive/Data Scientist/breast_cancer/data/nn_best_model_cv_val_fmed_sgd.h5\n",
            "Epoch 114/1000\n",
            "312/312 [==============================] - 44s 140ms/step - loss: 0.0590 - acc: 0.9790 - sensitivity: 0.9848 - specificity: 0.9703 - fmed: 0.9762 - f1: 0.9821 - val_loss: 0.0733 - val_acc: 0.9727 - val_sensitivity: 0.9783 - val_specificity: 0.9645 - val_fmed: 0.9700 - val_f1: 0.9771\n",
            "\n",
            "Epoch 00114: val_fmed did not improve from 0.97513\n",
            "Epoch 115/1000\n",
            "312/312 [==============================] - 43s 137ms/step - loss: 0.0569 - acc: 0.9802 - sensitivity: 0.9843 - specificity: 0.9747 - fmed: 0.9783 - f1: 0.9831 - val_loss: 0.1374 - val_acc: 0.9488 - val_sensitivity: 0.9764 - val_specificity: 0.9070 - val_fmed: 0.9382 - val_f1: 0.9580\n",
            "\n",
            "Epoch 00115: val_fmed did not improve from 0.97513\n",
            "Epoch 116/1000\n",
            "312/312 [==============================] - 45s 144ms/step - loss: 0.0621 - acc: 0.9807 - sensitivity: 0.9851 - specificity: 0.9731 - fmed: 0.9779 - f1: 0.9838 - val_loss: 0.0934 - val_acc: 0.9635 - val_sensitivity: 0.9889 - val_specificity: 0.9249 - val_fmed: 0.9535 - val_f1: 0.9704\n",
            "\n",
            "Epoch 00116: val_fmed did not improve from 0.97513\n",
            "Epoch 117/1000\n",
            "312/312 [==============================] - 44s 142ms/step - loss: 0.0535 - acc: 0.9830 - sensitivity: 0.9871 - specificity: 0.9769 - fmed: 0.9810 - f1: 0.9856 - val_loss: 0.1180 - val_acc: 0.9540 - val_sensitivity: 0.9709 - val_specificity: 0.9267 - val_fmed: 0.9454 - val_f1: 0.9612\n",
            "\n",
            "Epoch 00117: val_fmed did not improve from 0.97513\n",
            "Epoch 118/1000\n",
            "312/312 [==============================] - 43s 138ms/step - loss: 0.0603 - acc: 0.9781 - sensitivity: 0.9848 - specificity: 0.9693 - fmed: 0.9757 - f1: 0.9815 - val_loss: 0.1163 - val_acc: 0.9596 - val_sensitivity: 0.9532 - val_specificity: 0.9671 - val_fmed: 0.9590 - val_f1: 0.9646\n",
            "\n",
            "Epoch 00118: val_fmed did not improve from 0.97513\n",
            "Epoch 119/1000\n",
            "312/312 [==============================] - 44s 142ms/step - loss: 0.0601 - acc: 0.9805 - sensitivity: 0.9851 - specificity: 0.9731 - fmed: 0.9780 - f1: 0.9834 - val_loss: 0.0851 - val_acc: 0.9680 - val_sensitivity: 0.9821 - val_specificity: 0.9455 - val_fmed: 0.9618 - val_f1: 0.9728\n",
            "\n",
            "Epoch 00119: val_fmed did not improve from 0.97513\n",
            "Epoch 120/1000\n",
            "312/312 [==============================] - 44s 140ms/step - loss: 0.0651 - acc: 0.9787 - sensitivity: 0.9838 - specificity: 0.9716 - fmed: 0.9763 - f1: 0.9817 - val_loss: 0.0957 - val_acc: 0.9687 - val_sensitivity: 0.9779 - val_specificity: 0.9543 - val_fmed: 0.9636 - val_f1: 0.9737\n",
            "\n",
            "Epoch 00120: val_fmed did not improve from 0.97513\n",
            "Epoch 121/1000\n",
            "312/312 [==============================] - 44s 140ms/step - loss: 0.0511 - acc: 0.9839 - sensitivity: 0.9868 - specificity: 0.9786 - fmed: 0.9817 - f1: 0.9862 - val_loss: 0.0522 - val_acc: 0.9834 - val_sensitivity: 0.9761 - val_specificity: 0.9925 - val_fmed: 0.9833 - val_f1: 0.9855\n",
            "\n",
            "Epoch 00121: val_fmed improved from 0.97513 to 0.98335, saving model to /content/gdrive/My Drive/Data Scientist/breast_cancer/data/nn_best_model_cv_val_fmed_sgd.h5\n",
            "Epoch 122/1000\n",
            "312/312 [==============================] - 44s 142ms/step - loss: 0.0463 - acc: 0.9864 - sensitivity: 0.9888 - specificity: 0.9840 - fmed: 0.9858 - f1: 0.9882 - val_loss: 0.0799 - val_acc: 0.9701 - val_sensitivity: 0.9570 - val_specificity: 0.9866 - val_fmed: 0.9706 - val_f1: 0.9732\n",
            "\n",
            "Epoch 00122: val_fmed did not improve from 0.98335\n",
            "Epoch 123/1000\n",
            "312/312 [==============================] - 45s 144ms/step - loss: 0.0540 - acc: 0.9818 - sensitivity: 0.9849 - specificity: 0.9765 - fmed: 0.9796 - f1: 0.9843 - val_loss: 0.1330 - val_acc: 0.9540 - val_sensitivity: 0.9722 - val_specificity: 0.9264 - val_fmed: 0.9463 - val_f1: 0.9606\n",
            "\n",
            "Epoch 00123: val_fmed did not improve from 0.98335\n",
            "Epoch 124/1000\n",
            "312/312 [==============================] - 44s 142ms/step - loss: 0.0763 - acc: 0.9757 - sensitivity: 0.9811 - specificity: 0.9659 - fmed: 0.9712 - f1: 0.9792 - val_loss: 0.0820 - val_acc: 0.9674 - val_sensitivity: 0.9627 - val_specificity: 0.9740 - val_fmed: 0.9665 - val_f1: 0.9721\n",
            "\n",
            "Epoch 00124: val_fmed did not improve from 0.98335\n",
            "Epoch 125/1000\n",
            "312/312 [==============================] - 44s 139ms/step - loss: 0.0530 - acc: 0.9838 - sensitivity: 0.9877 - specificity: 0.9792 - fmed: 0.9825 - f1: 0.9866 - val_loss: 0.1019 - val_acc: 0.9680 - val_sensitivity: 0.9506 - val_specificity: 0.9948 - val_fmed: 0.9710 - val_f1: 0.9712\n",
            "\n",
            "Epoch 00125: val_fmed did not improve from 0.98335\n",
            "Epoch 126/1000\n",
            "312/312 [==============================] - 44s 140ms/step - loss: 0.0536 - acc: 0.9822 - sensitivity: 0.9870 - specificity: 0.9755 - fmed: 0.9801 - f1: 0.9846 - val_loss: 0.1049 - val_acc: 0.9609 - val_sensitivity: 0.9690 - val_specificity: 0.9499 - val_fmed: 0.9574 - val_f1: 0.9664\n",
            "\n",
            "Epoch 00126: val_fmed did not improve from 0.98335\n",
            "Epoch 127/1000\n",
            "312/312 [==============================] - 43s 138ms/step - loss: 0.0476 - acc: 0.9858 - sensitivity: 0.9887 - specificity: 0.9815 - fmed: 0.9844 - f1: 0.9879 - val_loss: 0.1003 - val_acc: 0.9591 - val_sensitivity: 0.9715 - val_specificity: 0.9374 - val_fmed: 0.9523 - val_f1: 0.9649\n",
            "\n",
            "Epoch 00127: val_fmed did not improve from 0.98335\n",
            "Epoch 128/1000\n",
            "312/312 [==============================] - 44s 140ms/step - loss: 0.0650 - acc: 0.9780 - sensitivity: 0.9826 - specificity: 0.9715 - fmed: 0.9758 - f1: 0.9812 - val_loss: 0.1352 - val_acc: 0.9479 - val_sensitivity: 0.9832 - val_specificity: 0.8905 - val_fmed: 0.9307 - val_f1: 0.9586\n",
            "\n",
            "Epoch 00128: val_fmed did not improve from 0.98335\n",
            "Epoch 129/1000\n",
            "312/312 [==============================] - 43s 138ms/step - loss: 0.0404 - acc: 0.9867 - sensitivity: 0.9889 - specificity: 0.9837 - fmed: 0.9856 - f1: 0.9886 - val_loss: 0.0898 - val_acc: 0.9693 - val_sensitivity: 0.9631 - val_specificity: 0.9833 - val_fmed: 0.9721 - val_f1: 0.9735\n",
            "\n",
            "Epoch 00129: val_fmed did not improve from 0.98335\n",
            "Epoch 130/1000\n",
            "312/312 [==============================] - 45s 144ms/step - loss: 0.0510 - acc: 0.9825 - sensitivity: 0.9864 - specificity: 0.9769 - fmed: 0.9807 - f1: 0.9846 - val_loss: 0.0605 - val_acc: 0.9779 - val_sensitivity: 0.9843 - val_specificity: 0.9636 - val_fmed: 0.9727 - val_f1: 0.9814\n",
            "\n",
            "Epoch 00130: val_fmed did not improve from 0.98335\n",
            "Epoch 131/1000\n",
            "312/312 [==============================] - 44s 142ms/step - loss: 0.0658 - acc: 0.9796 - sensitivity: 0.9847 - specificity: 0.9712 - fmed: 0.9760 - f1: 0.9829 - val_loss: 0.1350 - val_acc: 0.9527 - val_sensitivity: 0.9424 - val_specificity: 0.9670 - val_fmed: 0.9523 - val_f1: 0.9594\n",
            "\n",
            "Epoch 00131: val_fmed did not improve from 0.98335\n",
            "Epoch 132/1000\n",
            "312/312 [==============================] - 43s 138ms/step - loss: 0.0514 - acc: 0.9837 - sensitivity: 0.9878 - specificity: 0.9774 - fmed: 0.9816 - f1: 0.9860 - val_loss: 0.1157 - val_acc: 0.9531 - val_sensitivity: 0.9836 - val_specificity: 0.9053 - val_fmed: 0.9397 - val_f1: 0.9610\n",
            "\n",
            "Epoch 00132: val_fmed did not improve from 0.98335\n",
            "Epoch 133/1000\n",
            "312/312 [==============================] - 43s 139ms/step - loss: 0.0569 - acc: 0.9804 - sensitivity: 0.9862 - specificity: 0.9721 - fmed: 0.9781 - f1: 0.9833 - val_loss: 0.0573 - val_acc: 0.9783 - val_sensitivity: 0.9825 - val_specificity: 0.9720 - val_fmed: 0.9762 - val_f1: 0.9815\n",
            "\n",
            "Epoch 00133: val_fmed did not improve from 0.98335\n",
            "Epoch 134/1000\n",
            "312/312 [==============================] - 43s 139ms/step - loss: 0.0418 - acc: 0.9878 - sensitivity: 0.9892 - specificity: 0.9855 - fmed: 0.9867 - f1: 0.9897 - val_loss: 0.1596 - val_acc: 0.9492 - val_sensitivity: 0.9314 - val_specificity: 0.9735 - val_fmed: 0.9506 - val_f1: 0.9550\n",
            "\n",
            "Epoch 00134: val_fmed did not improve from 0.98335\n",
            "Epoch 135/1000\n",
            "312/312 [==============================] - 43s 138ms/step - loss: 0.0570 - acc: 0.9811 - sensitivity: 0.9856 - specificity: 0.9731 - fmed: 0.9774 - f1: 0.9842 - val_loss: 0.1167 - val_acc: 0.9629 - val_sensitivity: 0.9853 - val_specificity: 0.9351 - val_fmed: 0.9577 - val_f1: 0.9684\n",
            "\n",
            "Epoch 00135: val_fmed did not improve from 0.98335\n",
            "Epoch 136/1000\n",
            "312/312 [==============================] - 44s 140ms/step - loss: 0.0507 - acc: 0.9831 - sensitivity: 0.9876 - specificity: 0.9771 - fmed: 0.9814 - f1: 0.9850 - val_loss: 0.0917 - val_acc: 0.9648 - val_sensitivity: 0.9590 - val_specificity: 0.9734 - val_fmed: 0.9647 - val_f1: 0.9699\n",
            "\n",
            "Epoch 00136: val_fmed did not improve from 0.98335\n",
            "Epoch 137/1000\n",
            "312/312 [==============================] - 45s 145ms/step - loss: 0.0480 - acc: 0.9838 - sensitivity: 0.9895 - specificity: 0.9748 - fmed: 0.9812 - f1: 0.9866 - val_loss: 0.0607 - val_acc: 0.9783 - val_sensitivity: 0.9795 - val_specificity: 0.9761 - val_fmed: 0.9770 - val_f1: 0.9825\n",
            "\n",
            "Epoch 00137: val_fmed did not improve from 0.98335\n",
            "Epoch 138/1000\n",
            "312/312 [==============================] - 44s 141ms/step - loss: 0.0529 - acc: 0.9829 - sensitivity: 0.9883 - specificity: 0.9745 - fmed: 0.9802 - f1: 0.9856 - val_loss: 0.1005 - val_acc: 0.9557 - val_sensitivity: 0.9876 - val_specificity: 0.9091 - val_fmed: 0.9456 - val_f1: 0.9636\n",
            "\n",
            "Epoch 00138: val_fmed did not improve from 0.98335\n",
            "Epoch 139/1000\n",
            "312/312 [==============================] - 41s 130ms/step - loss: 0.0565 - acc: 0.9820 - sensitivity: 0.9865 - specificity: 0.9753 - fmed: 0.9798 - f1: 0.9846 - val_loss: 0.0678 - val_acc: 0.9821 - val_sensitivity: 0.9815 - val_specificity: 0.9826 - val_fmed: 0.9813 - val_f1: 0.9847\n",
            "\n",
            "Epoch 00139: val_fmed did not improve from 0.98335\n",
            "Epoch 140/1000\n",
            "312/312 [==============================] - 40s 128ms/step - loss: 0.0406 - acc: 0.9873 - sensitivity: 0.9910 - specificity: 0.9802 - fmed: 0.9847 - f1: 0.9891 - val_loss: 0.0759 - val_acc: 0.9727 - val_sensitivity: 0.9898 - val_specificity: 0.9483 - val_fmed: 0.9677 - val_f1: 0.9773\n",
            "\n",
            "Epoch 00140: val_fmed did not improve from 0.98335\n",
            "Epoch 141/1000\n",
            "312/312 [==============================] - 40s 129ms/step - loss: 0.0429 - acc: 0.9870 - sensitivity: 0.9907 - specificity: 0.9817 - fmed: 0.9854 - f1: 0.9890 - val_loss: 0.0678 - val_acc: 0.9757 - val_sensitivity: 0.9754 - val_specificity: 0.9556 - val_fmed: 0.9535 - val_f1: 0.9796\n",
            "\n",
            "Epoch 00141: val_fmed did not improve from 0.98335\n",
            "Epoch 142/1000\n",
            "312/312 [==============================] - 40s 128ms/step - loss: 0.0395 - acc: 0.9856 - sensitivity: 0.9893 - specificity: 0.9789 - fmed: 0.9832 - f1: 0.9876 - val_loss: 0.0916 - val_acc: 0.9661 - val_sensitivity: 0.9872 - val_specificity: 0.9317 - val_fmed: 0.9566 - val_f1: 0.9727\n",
            "\n",
            "Epoch 00142: val_fmed did not improve from 0.98335\n",
            "Epoch 143/1000\n",
            "312/312 [==============================] - 40s 129ms/step - loss: 0.0485 - acc: 0.9843 - sensitivity: 0.9871 - specificity: 0.9806 - fmed: 0.9829 - f1: 0.9864 - val_loss: 0.0805 - val_acc: 0.9680 - val_sensitivity: 0.9574 - val_specificity: 0.9789 - val_fmed: 0.9665 - val_f1: 0.9711\n",
            "\n",
            "Epoch 00143: val_fmed did not improve from 0.98335\n",
            "Epoch 144/1000\n",
            "312/312 [==============================] - 41s 132ms/step - loss: 0.0456 - acc: 0.9852 - sensitivity: 0.9890 - specificity: 0.9801 - fmed: 0.9838 - f1: 0.9872 - val_loss: 0.0762 - val_acc: 0.9701 - val_sensitivity: 0.9671 - val_specificity: 0.9755 - val_fmed: 0.9702 - val_f1: 0.9737\n",
            "\n",
            "Epoch 00144: val_fmed did not improve from 0.98335\n",
            "Epoch 145/1000\n",
            "312/312 [==============================] - 40s 129ms/step - loss: 0.0497 - acc: 0.9823 - sensitivity: 0.9869 - specificity: 0.9759 - fmed: 0.9804 - f1: 0.9850 - val_loss: 0.0723 - val_acc: 0.9693 - val_sensitivity: 0.9692 - val_specificity: 0.9719 - val_fmed: 0.9697 - val_f1: 0.9743\n",
            "\n",
            "Epoch 00145: val_fmed did not improve from 0.98335\n",
            "Epoch 146/1000\n",
            "312/312 [==============================] - 41s 132ms/step - loss: 0.0439 - acc: 0.9862 - sensitivity: 0.9885 - specificity: 0.9832 - fmed: 0.9851 - f1: 0.9881 - val_loss: 0.0843 - val_acc: 0.9648 - val_sensitivity: 0.9738 - val_specificity: 0.9481 - val_fmed: 0.9587 - val_f1: 0.9702\n",
            "\n",
            "Epoch 00146: val_fmed did not improve from 0.98335\n",
            "Epoch 147/1000\n",
            "312/312 [==============================] - 40s 129ms/step - loss: 0.0422 - acc: 0.9877 - sensitivity: 0.9904 - specificity: 0.9844 - fmed: 0.9868 - f1: 0.9892 - val_loss: 0.0889 - val_acc: 0.9655 - val_sensitivity: 0.9914 - val_specificity: 0.9276 - val_fmed: 0.9570 - val_f1: 0.9717\n",
            "\n",
            "Epoch 00147: val_fmed did not improve from 0.98335\n",
            "Epoch 148/1000\n",
            "312/312 [==============================] - 40s 128ms/step - loss: 0.0520 - acc: 0.9829 - sensitivity: 0.9853 - specificity: 0.9785 - fmed: 0.9808 - f1: 0.9852 - val_loss: 0.1054 - val_acc: 0.9635 - val_sensitivity: 0.9849 - val_specificity: 0.9277 - val_fmed: 0.9537 - val_f1: 0.9697\n",
            "\n",
            "Epoch 00148: val_fmed did not improve from 0.98335\n",
            "Epoch 149/1000\n",
            "312/312 [==============================] - 40s 129ms/step - loss: 0.1425 - acc: 0.9614 - sensitivity: 0.9700 - specificity: 0.9495 - fmed: 0.9532 - f1: 0.9655 - val_loss: 0.0868 - val_acc: 0.9680 - val_sensitivity: 0.9745 - val_specificity: 0.9574 - val_fmed: 0.9642 - val_f1: 0.9737\n",
            "\n",
            "Epoch 00149: val_fmed did not improve from 0.98335\n",
            "Epoch 150/1000\n",
            "312/312 [==============================] - 40s 129ms/step - loss: 0.0489 - acc: 0.9849 - sensitivity: 0.9892 - specificity: 0.9786 - fmed: 0.9830 - f1: 0.9871 - val_loss: 0.0851 - val_acc: 0.9674 - val_sensitivity: 0.9929 - val_specificity: 0.9265 - val_fmed: 0.9564 - val_f1: 0.9731\n",
            "\n",
            "Epoch 00150: val_fmed did not improve from 0.98335\n",
            "Epoch 151/1000\n",
            "312/312 [==============================] - 40s 128ms/step - loss: 0.0486 - acc: 0.9853 - sensitivity: 0.9891 - specificity: 0.9800 - fmed: 0.9837 - f1: 0.9878 - val_loss: 0.0899 - val_acc: 0.9642 - val_sensitivity: 0.9641 - val_specificity: 0.9667 - val_fmed: 0.9638 - val_f1: 0.9683\n",
            "\n",
            "Epoch 00151: val_fmed did not improve from 0.98335\n",
            "Epoch 152/1000\n",
            "312/312 [==============================] - 42s 135ms/step - loss: 0.0433 - acc: 0.9840 - sensitivity: 0.9894 - specificity: 0.9760 - fmed: 0.9816 - f1: 0.9863 - val_loss: 0.0646 - val_acc: 0.9740 - val_sensitivity: 0.9805 - val_specificity: 0.9659 - val_fmed: 0.9716 - val_f1: 0.9772\n",
            "\n",
            "Epoch 00152: val_fmed did not improve from 0.98335\n",
            "Epoch 153/1000\n",
            "312/312 [==============================] - 42s 134ms/step - loss: 0.0385 - acc: 0.9866 - sensitivity: 0.9896 - specificity: 0.9835 - fmed: 0.9860 - f1: 0.9885 - val_loss: 0.0856 - val_acc: 0.9731 - val_sensitivity: 0.9785 - val_specificity: 0.9638 - val_fmed: 0.9697 - val_f1: 0.9776\n",
            "\n",
            "Epoch 00153: val_fmed did not improve from 0.98335\n",
            "Epoch 154/1000\n",
            "312/312 [==============================] - 40s 130ms/step - loss: 0.0441 - acc: 0.9859 - sensitivity: 0.9899 - specificity: 0.9799 - fmed: 0.9838 - f1: 0.9883 - val_loss: 0.0820 - val_acc: 0.9714 - val_sensitivity: 0.9703 - val_specificity: 0.9744 - val_fmed: 0.9715 - val_f1: 0.9757\n",
            "\n",
            "Epoch 00154: val_fmed did not improve from 0.98335\n",
            "Epoch 155/1000\n",
            "312/312 [==============================] - 41s 130ms/step - loss: 0.0353 - acc: 0.9892 - sensitivity: 0.9918 - specificity: 0.9853 - fmed: 0.9881 - f1: 0.9910 - val_loss: 0.0759 - val_acc: 0.9757 - val_sensitivity: 0.9759 - val_specificity: 0.9775 - val_fmed: 0.9760 - val_f1: 0.9803\n",
            "\n",
            "Epoch 00155: val_fmed did not improve from 0.98335\n",
            "Epoch 156/1000\n",
            "312/312 [==============================] - 41s 132ms/step - loss: 0.0321 - acc: 0.9899 - sensitivity: 0.9925 - specificity: 0.9863 - fmed: 0.9889 - f1: 0.9912 - val_loss: 0.0636 - val_acc: 0.9701 - val_sensitivity: 0.9848 - val_specificity: 0.9468 - val_fmed: 0.9642 - val_f1: 0.9752\n",
            "\n",
            "Epoch 00156: val_fmed did not improve from 0.98335\n",
            "Epoch 157/1000\n",
            "312/312 [==============================] - 41s 132ms/step - loss: 0.0340 - acc: 0.9889 - sensitivity: 0.9921 - specificity: 0.9829 - fmed: 0.9867 - f1: 0.9906 - val_loss: 0.0659 - val_acc: 0.9795 - val_sensitivity: 0.9770 - val_specificity: 0.9844 - val_fmed: 0.9797 - val_f1: 0.9825\n",
            "\n",
            "Epoch 00157: val_fmed did not improve from 0.98335\n",
            "Epoch 158/1000\n",
            "312/312 [==============================] - 41s 132ms/step - loss: 0.0513 - acc: 0.9855 - sensitivity: 0.9891 - specificity: 0.9804 - fmed: 0.9827 - f1: 0.9877 - val_loss: 0.0891 - val_acc: 0.9727 - val_sensitivity: 0.9558 - val_specificity: 1.0000 - val_fmed: 0.9768 - val_f1: 0.9768\n",
            "\n",
            "Epoch 00158: val_fmed did not improve from 0.98335\n",
            "Epoch 159/1000\n",
            "312/312 [==============================] - 41s 130ms/step - loss: 0.0388 - acc: 0.9876 - sensitivity: 0.9917 - specificity: 0.9813 - fmed: 0.9857 - f1: 0.9896 - val_loss: 0.0580 - val_acc: 0.9795 - val_sensitivity: 0.9754 - val_specificity: 0.9857 - val_fmed: 0.9799 - val_f1: 0.9813\n",
            "\n",
            "Epoch 00159: val_fmed did not improve from 0.98335\n",
            "Epoch 160/1000\n",
            "312/312 [==============================] - 43s 136ms/step - loss: 0.0442 - acc: 0.9853 - sensitivity: 0.9896 - specificity: 0.9805 - fmed: 0.9842 - f1: 0.9873 - val_loss: 0.1289 - val_acc: 0.9570 - val_sensitivity: 0.9978 - val_specificity: 0.8914 - val_fmed: 0.9383 - val_f1: 0.9651\n",
            "\n",
            "Epoch 00160: val_fmed did not improve from 0.98335\n",
            "Epoch 161/1000\n",
            "312/312 [==============================] - 41s 132ms/step - loss: 0.0382 - acc: 0.9871 - sensitivity: 0.9909 - specificity: 0.9811 - fmed: 0.9855 - f1: 0.9892 - val_loss: 0.0537 - val_acc: 0.9770 - val_sensitivity: 0.9808 - val_specificity: 0.9721 - val_fmed: 0.9757 - val_f1: 0.9805\n",
            "\n",
            "Epoch 00161: val_fmed did not improve from 0.98335\n",
            "Epoch 162/1000\n",
            "312/312 [==============================] - 40s 128ms/step - loss: 0.0441 - acc: 0.9852 - sensitivity: 0.9867 - specificity: 0.9810 - fmed: 0.9827 - f1: 0.9873 - val_loss: 0.0988 - val_acc: 0.9596 - val_sensitivity: 0.9525 - val_specificity: 0.9713 - val_fmed: 0.9610 - val_f1: 0.9655\n",
            "\n",
            "Epoch 00162: val_fmed did not improve from 0.98335\n",
            "Epoch 163/1000\n",
            "312/312 [==============================] - 39s 125ms/step - loss: 0.0354 - acc: 0.9870 - sensitivity: 0.9892 - specificity: 0.9832 - fmed: 0.9856 - f1: 0.9888 - val_loss: 0.0366 - val_acc: 0.9898 - val_sensitivity: 0.9860 - val_specificity: 0.9966 - val_fmed: 0.9908 - val_f1: 0.9916\n",
            "\n",
            "Epoch 00163: val_fmed improved from 0.98335 to 0.99085, saving model to /content/gdrive/My Drive/Data Scientist/breast_cancer/data/nn_best_model_cv_val_fmed_sgd.h5\n",
            "Epoch 164/1000\n",
            "312/312 [==============================] - 40s 127ms/step - loss: 0.0343 - acc: 0.9882 - sensitivity: 0.9907 - specificity: 0.9844 - fmed: 0.9869 - f1: 0.9899 - val_loss: 0.0896 - val_acc: 0.9687 - val_sensitivity: 0.9730 - val_specificity: 0.9645 - val_fmed: 0.9674 - val_f1: 0.9740\n",
            "\n",
            "Epoch 00164: val_fmed did not improve from 0.99085\n",
            "Epoch 165/1000\n",
            "126/312 [===========>..................] - ETA: 20s - loss: 0.0433 - acc: 0.9854 - sensitivity: 0.9880 - specificity: 0.9825 - fmed: 0.9846 - f1: 0.9871"
          ],
          "name": "stdout"
        }
      ]
    },
    {
      "cell_type": "code",
      "metadata": {
        "id": "UGDOtZtE-cne",
        "colab_type": "code",
        "colab": {}
      },
      "source": [
        "# list all data in history\n",
        "history = history_val_fmed_sgd\n",
        "print(history.history.keys())\n",
        "\n",
        "# summarize history for fmed score\n",
        "plt.plot(history.history['fmed'])\n",
        "plt.plot(history.history['val_fmed'])\n",
        "plt.title('Model Fmed score vs. epochs')\n",
        "plt.ylabel('Fmed')\n",
        "plt.xlabel('epochs')\n",
        "plt.legend(['train', 'test'], loc='lower right')\n",
        "plt.show()"
      ],
      "execution_count": 0,
      "outputs": []
    },
    {
      "cell_type": "code",
      "metadata": {
        "id": "dB-IWih2sClU",
        "colab_type": "code",
        "colab": {}
      },
      "source": [
        "# summarize history for sensitivity score\n",
        "plt.plot(history.history['sensitivity'])\n",
        "plt.plot(history.history['val_sensitivity'])\n",
        "plt.title('Model Sensitivity score vs. epochs')\n",
        "plt.ylabel('Sensitivity')\n",
        "plt.xlabel('epochs')\n",
        "plt.legend(['train', 'test'], loc='lower right')\n",
        "plt.show()\n",
        "\n"
      ],
      "execution_count": 0,
      "outputs": []
    },
    {
      "cell_type": "code",
      "metadata": {
        "id": "dRX4zTRqsETq",
        "colab_type": "code",
        "colab": {}
      },
      "source": [
        "# summarize history for specificity score\n",
        "plt.plot(history.history['specificity'])\n",
        "plt.plot(history.history['val_specificity'])\n",
        "plt.title('Model Specificity score vs. epochs')\n",
        "plt.ylabel('Specificity')\n",
        "plt.xlabel('epochs')\n",
        "plt.legend(['train', 'test'], loc='lower right')\n",
        "plt.show()\n",
        "\n"
      ],
      "execution_count": 0,
      "outputs": []
    },
    {
      "cell_type": "code",
      "metadata": {
        "id": "bKdqlqc1sF3L",
        "colab_type": "code",
        "colab": {}
      },
      "source": [
        "# summarize history for f1 score\n",
        "plt.plot(history.history['f1'])\n",
        "plt.plot(history.history['val_f1'])\n",
        "plt.title('Model F1 score vs. epochs')\n",
        "plt.ylabel('F1')\n",
        "plt.xlabel('epochs')\n",
        "plt.legend(['train', 'test'], loc='lower right')\n",
        "plt.show()\n",
        "\n"
      ],
      "execution_count": 0,
      "outputs": []
    },
    {
      "cell_type": "code",
      "metadata": {
        "id": "lhETlMuVLDVR",
        "colab_type": "code",
        "outputId": "937b3fdb-95f4-4779-ebce-baa8286254c1",
        "colab": {
          "base_uri": "https://localhost:8080/",
          "height": 34
        }
      },
      "source": [
        "test_generator = train_datagen.flow_from_directory(\n",
        "        image_dest_dir + \"/test\",\n",
        "        target_size=(image_height, image_width),\n",
        "        batch_size=32,\n",
        "        color_mode=\"grayscale\",\n",
        "        class_mode='binary',\n",
        "        shuffle=False,\n",
        "        seed=42\n",
        ")"
      ],
      "execution_count": 21,
      "outputs": [
        {
          "output_type": "stream",
          "text": [
            "Found 25 images belonging to 2 classes.\n"
          ],
          "name": "stdout"
        }
      ]
    },
    {
      "cell_type": "code",
      "metadata": {
        "id": "yT83tusyuEaI",
        "colab_type": "code",
        "colab": {}
      },
      "source": [
        "model = generate_model(opt=keras.optimizers.SGD(lr=0.01, nesterov=True))"
      ],
      "execution_count": 0,
      "outputs": []
    },
    {
      "cell_type": "code",
      "metadata": {
        "id": "QPjhlfqduLgT",
        "colab_type": "code",
        "colab": {}
      },
      "source": [
        "model.load_weights(data_dir + '/nn_best_model_cv_val_fmed_sgd.h5')"
      ],
      "execution_count": 0,
      "outputs": []
    },
    {
      "cell_type": "code",
      "metadata": {
        "id": "E0kwQgH5mFWB",
        "colab_type": "code",
        "colab": {}
      },
      "source": [
        "probabilities = model.predict_generator(test_generator)\n",
        "y_true = test_generator.classes\n",
        "y_pred = probabilities > 0.5"
      ],
      "execution_count": 0,
      "outputs": []
    },
    {
      "cell_type": "code",
      "metadata": {
        "id": "wGLGEwoumbJf",
        "colab_type": "code",
        "outputId": "1846eda5-32c5-4900-9d5d-49c8741f80c4",
        "colab": {
          "base_uri": "https://localhost:8080/",
          "height": 51
        }
      },
      "source": [
        "confusion_matrix(y_true, y_pred)"
      ],
      "execution_count": 25,
      "outputs": [
        {
          "output_type": "execute_result",
          "data": {
            "text/plain": [
              "array([[10,  0],\n",
              "       [ 2, 13]])"
            ]
          },
          "metadata": {
            "tags": []
          },
          "execution_count": 25
        }
      ]
    },
    {
      "cell_type": "code",
      "metadata": {
        "id": "eQlOt2FD-hcP",
        "colab_type": "code",
        "colab": {}
      },
      "source": [
        "tn, fp, fn, tp = confusion_matrix(y_true, y_pred).ravel()"
      ],
      "execution_count": 0,
      "outputs": []
    },
    {
      "cell_type": "code",
      "metadata": {
        "id": "GDsA0KHK-6g9",
        "colab_type": "code",
        "colab": {
          "base_uri": "https://localhost:8080/",
          "height": 34
        },
        "outputId": "38e782c7-0c02-4ab8-c3d9-9c9dcb485ce2"
      },
      "source": [
        "specificity = tn / (tn+fp)\n",
        "specificity"
      ],
      "execution_count": 27,
      "outputs": [
        {
          "output_type": "execute_result",
          "data": {
            "text/plain": [
              "1.0"
            ]
          },
          "metadata": {
            "tags": []
          },
          "execution_count": 27
        }
      ]
    },
    {
      "cell_type": "code",
      "metadata": {
        "id": "oX2ottDY-8M4",
        "colab_type": "code",
        "colab": {
          "base_uri": "https://localhost:8080/",
          "height": 34
        },
        "outputId": "1d9406b4-f83b-4405-8336-285c021b90ce"
      },
      "source": [
        "sensitivity = tp / (tp + fn)\n",
        "sensitivity"
      ],
      "execution_count": 28,
      "outputs": [
        {
          "output_type": "execute_result",
          "data": {
            "text/plain": [
              "0.8666666666666667"
            ]
          },
          "metadata": {
            "tags": []
          },
          "execution_count": 28
        }
      ]
    },
    {
      "cell_type": "code",
      "metadata": {
        "id": "gg6Vcl1S_JZe",
        "colab_type": "code",
        "colab": {}
      },
      "source": [
        ""
      ],
      "execution_count": 0,
      "outputs": []
    }
  ]
}